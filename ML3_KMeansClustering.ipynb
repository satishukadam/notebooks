{
 "cells": [
  {
   "cell_type": "code",
   "execution_count": 1,
   "metadata": {},
   "outputs": [],
   "source": [
    "# Import the modules\n",
    "\n",
    "import numpy as no\n",
    "import pandas as pd\n",
    "import matplotlib.pyplot as plt\n",
    "%matplotlib inline\n",
    "import seaborn as sns\n",
    "\n",
    "from warnings import filterwarnings\n",
    "filterwarnings('ignore')"
   ]
  },
  {
   "cell_type": "code",
   "execution_count": 6,
   "metadata": {},
   "outputs": [],
   "source": [
    "data = pd.read_csv('D:/Study/DataScience/Data/MachineLearningData/health_data.csv')"
   ]
  },
  {
   "cell_type": "code",
   "execution_count": 27,
   "metadata": {},
   "outputs": [
    {
     "data": {
      "text/html": [
       "<div>\n",
       "<style scoped>\n",
       "    .dataframe tbody tr th:only-of-type {\n",
       "        vertical-align: middle;\n",
       "    }\n",
       "\n",
       "    .dataframe tbody tr th {\n",
       "        vertical-align: top;\n",
       "    }\n",
       "\n",
       "    .dataframe thead th {\n",
       "        text-align: right;\n",
       "    }\n",
       "</style>\n",
       "<table border=\"1\" class=\"dataframe\">\n",
       "  <thead>\n",
       "    <tr style=\"text-align: right;\">\n",
       "      <th></th>\n",
       "      <th>BIO_SEX</th>\n",
       "      <th>AGE</th>\n",
       "      <th>TREG1</th>\n",
       "      <th>ALCEVR1</th>\n",
       "      <th>ALCPROBS1</th>\n",
       "      <th>MAREVER1</th>\n",
       "      <th>COCEVER1</th>\n",
       "      <th>INHEVER1</th>\n",
       "      <th>CIGAVAIL</th>\n",
       "      <th>DEP1</th>\n",
       "      <th>ESTEEM1</th>\n",
       "      <th>VIOL1</th>\n",
       "      <th>PASSIST</th>\n",
       "      <th>DEVIANT1</th>\n",
       "      <th>SCHCONN1</th>\n",
       "      <th>GPA1</th>\n",
       "      <th>EXPEL1</th>\n",
       "      <th>FAMCONCT</th>\n",
       "      <th>PARACTV</th>\n",
       "      <th>PARPRES</th>\n",
       "    </tr>\n",
       "  </thead>\n",
       "  <tbody>\n",
       "    <tr>\n",
       "      <th>1</th>\n",
       "      <td>2.0</td>\n",
       "      <td>19.427397</td>\n",
       "      <td>1.0</td>\n",
       "      <td>1.0</td>\n",
       "      <td>1</td>\n",
       "      <td>0</td>\n",
       "      <td>0</td>\n",
       "      <td>0</td>\n",
       "      <td>1.0</td>\n",
       "      <td>17.0</td>\n",
       "      <td>35.0</td>\n",
       "      <td>1.0</td>\n",
       "      <td>0</td>\n",
       "      <td>5.0</td>\n",
       "      <td>22.0</td>\n",
       "      <td>2.333333</td>\n",
       "      <td>0.0</td>\n",
       "      <td>23.3</td>\n",
       "      <td>9.0</td>\n",
       "      <td>15.0</td>\n",
       "    </tr>\n",
       "    <tr>\n",
       "      <th>3</th>\n",
       "      <td>1.0</td>\n",
       "      <td>20.430137</td>\n",
       "      <td>1.0</td>\n",
       "      <td>0.0</td>\n",
       "      <td>0</td>\n",
       "      <td>1</td>\n",
       "      <td>1</td>\n",
       "      <td>1</td>\n",
       "      <td>1.0</td>\n",
       "      <td>19.0</td>\n",
       "      <td>47.0</td>\n",
       "      <td>4.0</td>\n",
       "      <td>1</td>\n",
       "      <td>4.0</td>\n",
       "      <td>19.0</td>\n",
       "      <td>2.000000</td>\n",
       "      <td>0.0</td>\n",
       "      <td>18.7</td>\n",
       "      <td>6.0</td>\n",
       "      <td>14.0</td>\n",
       "    </tr>\n",
       "    <tr>\n",
       "      <th>5</th>\n",
       "      <td>1.0</td>\n",
       "      <td>14.509589</td>\n",
       "      <td>0.0</td>\n",
       "      <td>0.0</td>\n",
       "      <td>0</td>\n",
       "      <td>0</td>\n",
       "      <td>0</td>\n",
       "      <td>0</td>\n",
       "      <td>0.0</td>\n",
       "      <td>8.0</td>\n",
       "      <td>41.0</td>\n",
       "      <td>3.0</td>\n",
       "      <td>0</td>\n",
       "      <td>0.0</td>\n",
       "      <td>27.0</td>\n",
       "      <td>2.666667</td>\n",
       "      <td>0.0</td>\n",
       "      <td>23.7</td>\n",
       "      <td>3.0</td>\n",
       "      <td>13.0</td>\n",
       "    </tr>\n",
       "    <tr>\n",
       "      <th>6</th>\n",
       "      <td>1.0</td>\n",
       "      <td>13.676712</td>\n",
       "      <td>0.0</td>\n",
       "      <td>0.0</td>\n",
       "      <td>0</td>\n",
       "      <td>0</td>\n",
       "      <td>0</td>\n",
       "      <td>0</td>\n",
       "      <td>1.0</td>\n",
       "      <td>4.0</td>\n",
       "      <td>42.0</td>\n",
       "      <td>5.0</td>\n",
       "      <td>0</td>\n",
       "      <td>7.0</td>\n",
       "      <td>18.0</td>\n",
       "      <td>2.500000</td>\n",
       "      <td>0.0</td>\n",
       "      <td>24.7</td>\n",
       "      <td>6.0</td>\n",
       "      <td>13.0</td>\n",
       "    </tr>\n",
       "    <tr>\n",
       "      <th>7</th>\n",
       "      <td>1.0</td>\n",
       "      <td>15.178082</td>\n",
       "      <td>1.0</td>\n",
       "      <td>1.0</td>\n",
       "      <td>0</td>\n",
       "      <td>1</td>\n",
       "      <td>0</td>\n",
       "      <td>0</td>\n",
       "      <td>1.0</td>\n",
       "      <td>4.0</td>\n",
       "      <td>40.0</td>\n",
       "      <td>8.0</td>\n",
       "      <td>1</td>\n",
       "      <td>6.0</td>\n",
       "      <td>20.0</td>\n",
       "      <td>1.500000</td>\n",
       "      <td>0.0</td>\n",
       "      <td>22.3</td>\n",
       "      <td>10.0</td>\n",
       "      <td>14.0</td>\n",
       "    </tr>\n",
       "  </tbody>\n",
       "</table>\n",
       "</div>"
      ],
      "text/plain": [
       "   BIO_SEX        AGE  TREG1  ALCEVR1  ALCPROBS1  MAREVER1  COCEVER1  \\\n",
       "1      2.0  19.427397    1.0      1.0          1         0         0   \n",
       "3      1.0  20.430137    1.0      0.0          0         1         1   \n",
       "5      1.0  14.509589    0.0      0.0          0         0         0   \n",
       "6      1.0  13.676712    0.0      0.0          0         0         0   \n",
       "7      1.0  15.178082    1.0      1.0          0         1         0   \n",
       "\n",
       "   INHEVER1  CIGAVAIL  DEP1  ESTEEM1  VIOL1  PASSIST  DEVIANT1  SCHCONN1  \\\n",
       "1         0       1.0  17.0     35.0    1.0        0       5.0      22.0   \n",
       "3         1       1.0  19.0     47.0    4.0        1       4.0      19.0   \n",
       "5         0       0.0   8.0     41.0    3.0        0       0.0      27.0   \n",
       "6         0       1.0   4.0     42.0    5.0        0       7.0      18.0   \n",
       "7         0       1.0   4.0     40.0    8.0        1       6.0      20.0   \n",
       "\n",
       "       GPA1  EXPEL1  FAMCONCT  PARACTV  PARPRES  \n",
       "1  2.333333     0.0      23.3      9.0     15.0  \n",
       "3  2.000000     0.0      18.7      6.0     14.0  \n",
       "5  2.666667     0.0      23.7      3.0     13.0  \n",
       "6  2.500000     0.0      24.7      6.0     13.0  \n",
       "7  1.500000     0.0      22.3     10.0     14.0  "
      ]
     },
     "execution_count": 27,
     "metadata": {},
     "output_type": "execute_result"
    }
   ],
   "source": [
    "data.head()"
   ]
  },
  {
   "cell_type": "code",
   "execution_count": 8,
   "metadata": {},
   "outputs": [],
   "source": [
    "data.columns = map(str.upper, data.columns)\n",
    "data.dropna( inplace= True)"
   ]
  },
  {
   "cell_type": "code",
   "execution_count": 28,
   "metadata": {},
   "outputs": [],
   "source": [
    "from sklearn.preprocessing import StandardScaler\n",
    "\n",
    "data2 = data.copy()"
   ]
  },
  {
   "cell_type": "code",
   "execution_count": 29,
   "metadata": {},
   "outputs": [],
   "source": [
    "# Scale the data for cluster analysis\n",
    "\n",
    "sc = StandardScaler()"
   ]
  },
  {
   "cell_type": "code",
   "execution_count": 30,
   "metadata": {},
   "outputs": [],
   "source": [
    "df_scaled = pd.DataFrame(sc.fit_transform(data2),columns = data2.columns)"
   ]
  },
  {
   "cell_type": "code",
   "execution_count": 31,
   "metadata": {},
   "outputs": [
    {
     "data": {
      "text/html": [
       "<div>\n",
       "<style scoped>\n",
       "    .dataframe tbody tr th:only-of-type {\n",
       "        vertical-align: middle;\n",
       "    }\n",
       "\n",
       "    .dataframe tbody tr th {\n",
       "        vertical-align: top;\n",
       "    }\n",
       "\n",
       "    .dataframe thead th {\n",
       "        text-align: right;\n",
       "    }\n",
       "</style>\n",
       "<table border=\"1\" class=\"dataframe\">\n",
       "  <thead>\n",
       "    <tr style=\"text-align: right;\">\n",
       "      <th></th>\n",
       "      <th>BIO_SEX</th>\n",
       "      <th>AGE</th>\n",
       "      <th>TREG1</th>\n",
       "      <th>ALCEVR1</th>\n",
       "      <th>ALCPROBS1</th>\n",
       "      <th>MAREVER1</th>\n",
       "      <th>COCEVER1</th>\n",
       "      <th>INHEVER1</th>\n",
       "      <th>CIGAVAIL</th>\n",
       "      <th>DEP1</th>\n",
       "      <th>ESTEEM1</th>\n",
       "      <th>VIOL1</th>\n",
       "      <th>PASSIST</th>\n",
       "      <th>DEVIANT1</th>\n",
       "      <th>SCHCONN1</th>\n",
       "      <th>GPA1</th>\n",
       "      <th>EXPEL1</th>\n",
       "      <th>FAMCONCT</th>\n",
       "      <th>PARACTV</th>\n",
       "      <th>PARPRES</th>\n",
       "    </tr>\n",
       "  </thead>\n",
       "  <tbody>\n",
       "    <tr>\n",
       "      <th>0</th>\n",
       "      <td>0.958897</td>\n",
       "      <td>1.890089</td>\n",
       "      <td>2.161768</td>\n",
       "      <td>0.947683</td>\n",
       "      <td>0.707020</td>\n",
       "      <td>-0.564215</td>\n",
       "      <td>-0.184838</td>\n",
       "      <td>-0.265045</td>\n",
       "      <td>1.530138</td>\n",
       "      <td>1.286259</td>\n",
       "      <td>-1.104733</td>\n",
       "      <td>-0.238134</td>\n",
       "      <td>-0.338103</td>\n",
       "      <td>0.670775</td>\n",
       "      <td>-1.230181</td>\n",
       "      <td>-0.624026</td>\n",
       "      <td>-0.204678</td>\n",
       "      <td>0.277586</td>\n",
       "      <td>0.806442</td>\n",
       "      <td>0.766295</td>\n",
       "    </tr>\n",
       "    <tr>\n",
       "      <th>1</th>\n",
       "      <td>-1.042865</td>\n",
       "      <td>2.535325</td>\n",
       "      <td>2.161768</td>\n",
       "      <td>-1.055206</td>\n",
       "      <td>-0.412003</td>\n",
       "      <td>1.772375</td>\n",
       "      <td>5.410151</td>\n",
       "      <td>3.772943</td>\n",
       "      <td>1.530138</td>\n",
       "      <td>1.590171</td>\n",
       "      <td>1.122320</td>\n",
       "      <td>0.919248</td>\n",
       "      <td>2.957682</td>\n",
       "      <td>0.386277</td>\n",
       "      <td>-1.811019</td>\n",
       "      <td>-1.056491</td>\n",
       "      <td>-0.204678</td>\n",
       "      <td>-1.484243</td>\n",
       "      <td>-0.085920</td>\n",
       "      <td>0.287126</td>\n",
       "    </tr>\n",
       "    <tr>\n",
       "      <th>2</th>\n",
       "      <td>-1.042865</td>\n",
       "      <td>-1.274384</td>\n",
       "      <td>-0.462584</td>\n",
       "      <td>-1.055206</td>\n",
       "      <td>-0.412003</td>\n",
       "      <td>-0.564215</td>\n",
       "      <td>-0.184838</td>\n",
       "      <td>-0.265045</td>\n",
       "      <td>-0.653536</td>\n",
       "      <td>-0.081345</td>\n",
       "      <td>0.008793</td>\n",
       "      <td>0.533454</td>\n",
       "      <td>-0.338103</td>\n",
       "      <td>-0.751716</td>\n",
       "      <td>-0.262119</td>\n",
       "      <td>-0.191559</td>\n",
       "      <td>-0.204678</td>\n",
       "      <td>0.430788</td>\n",
       "      <td>-0.978282</td>\n",
       "      <td>-0.192042</td>\n",
       "    </tr>\n",
       "    <tr>\n",
       "      <th>3</th>\n",
       "      <td>-1.042865</td>\n",
       "      <td>-1.810318</td>\n",
       "      <td>-0.462584</td>\n",
       "      <td>-1.055206</td>\n",
       "      <td>-0.412003</td>\n",
       "      <td>-0.564215</td>\n",
       "      <td>-0.184838</td>\n",
       "      <td>-0.265045</td>\n",
       "      <td>1.530138</td>\n",
       "      <td>-0.689169</td>\n",
       "      <td>0.194381</td>\n",
       "      <td>1.305042</td>\n",
       "      <td>-0.338103</td>\n",
       "      <td>1.239771</td>\n",
       "      <td>-2.004631</td>\n",
       "      <td>-0.407792</td>\n",
       "      <td>-0.204678</td>\n",
       "      <td>0.813795</td>\n",
       "      <td>-0.085920</td>\n",
       "      <td>-0.192042</td>\n",
       "    </tr>\n",
       "    <tr>\n",
       "      <th>4</th>\n",
       "      <td>-1.042865</td>\n",
       "      <td>-0.844227</td>\n",
       "      <td>2.161768</td>\n",
       "      <td>0.947683</td>\n",
       "      <td>-0.412003</td>\n",
       "      <td>1.772375</td>\n",
       "      <td>-0.184838</td>\n",
       "      <td>-0.265045</td>\n",
       "      <td>1.530138</td>\n",
       "      <td>-0.689169</td>\n",
       "      <td>-0.176794</td>\n",
       "      <td>2.462425</td>\n",
       "      <td>2.957682</td>\n",
       "      <td>0.955273</td>\n",
       "      <td>-1.617406</td>\n",
       "      <td>-1.705190</td>\n",
       "      <td>-0.204678</td>\n",
       "      <td>-0.105420</td>\n",
       "      <td>1.103896</td>\n",
       "      <td>0.287126</td>\n",
       "    </tr>\n",
       "  </tbody>\n",
       "</table>\n",
       "</div>"
      ],
      "text/plain": [
       "    BIO_SEX       AGE     TREG1   ALCEVR1  ALCPROBS1  MAREVER1  COCEVER1  \\\n",
       "0  0.958897  1.890089  2.161768  0.947683   0.707020 -0.564215 -0.184838   \n",
       "1 -1.042865  2.535325  2.161768 -1.055206  -0.412003  1.772375  5.410151   \n",
       "2 -1.042865 -1.274384 -0.462584 -1.055206  -0.412003 -0.564215 -0.184838   \n",
       "3 -1.042865 -1.810318 -0.462584 -1.055206  -0.412003 -0.564215 -0.184838   \n",
       "4 -1.042865 -0.844227  2.161768  0.947683  -0.412003  1.772375 -0.184838   \n",
       "\n",
       "   INHEVER1  CIGAVAIL      DEP1   ESTEEM1     VIOL1   PASSIST  DEVIANT1  \\\n",
       "0 -0.265045  1.530138  1.286259 -1.104733 -0.238134 -0.338103  0.670775   \n",
       "1  3.772943  1.530138  1.590171  1.122320  0.919248  2.957682  0.386277   \n",
       "2 -0.265045 -0.653536 -0.081345  0.008793  0.533454 -0.338103 -0.751716   \n",
       "3 -0.265045  1.530138 -0.689169  0.194381  1.305042 -0.338103  1.239771   \n",
       "4 -0.265045  1.530138 -0.689169 -0.176794  2.462425  2.957682  0.955273   \n",
       "\n",
       "   SCHCONN1      GPA1    EXPEL1  FAMCONCT   PARACTV   PARPRES  \n",
       "0 -1.230181 -0.624026 -0.204678  0.277586  0.806442  0.766295  \n",
       "1 -1.811019 -1.056491 -0.204678 -1.484243 -0.085920  0.287126  \n",
       "2 -0.262119 -0.191559 -0.204678  0.430788 -0.978282 -0.192042  \n",
       "3 -2.004631 -0.407792 -0.204678  0.813795 -0.085920 -0.192042  \n",
       "4 -1.617406 -1.705190 -0.204678 -0.105420  1.103896  0.287126  "
      ]
     },
     "execution_count": 31,
     "metadata": {},
     "output_type": "execute_result"
    }
   ],
   "source": [
    "df_scaled.head()"
   ]
  },
  {
   "cell_type": "code",
   "execution_count": 32,
   "metadata": {},
   "outputs": [],
   "source": [
    "# Split the data into training and testing datasets\n",
    "\n",
    "from sklearn.model_selection import train_test_split\n",
    "\n",
    "x_train, x_test = train_test_split(df_scaled, test_size = 0.3, random_state = 0)"
   ]
  },
  {
   "cell_type": "code",
   "execution_count": 33,
   "metadata": {},
   "outputs": [],
   "source": [
    "# Build a K Means model\n",
    "\n",
    "from sklearn.cluster import KMeans"
   ]
  },
  {
   "cell_type": "code",
   "execution_count": 39,
   "metadata": {},
   "outputs": [],
   "source": [
    "# Draw an Elbow plot to determine the number of clusters\n",
    "\n",
    "wss = []\n",
    "\n",
    "n = range(1,21)\n",
    "\n",
    "for i in n:\n",
    "    km = KMeans(n_clusters=i)\n",
    "    km.fit(x_train)\n",
    "    wss.append(km.inertia_)"
   ]
  },
  {
   "cell_type": "code",
   "execution_count": 44,
   "metadata": {},
   "outputs": [
    {
     "data": {
      "text/plain": [
       "[<matplotlib.lines.Line2D at 0x1e92e7a70b8>]"
      ]
     },
     "execution_count": 44,
     "metadata": {},
     "output_type": "execute_result"
    },
    {
     "data": {
      "image/png": "[encoded data removed]",
      "text/plain": [
       "<Figure size 432x288 with 1 Axes>"
      ]
     },
     "metadata": {
      "needs_background": "light"
     },
     "output_type": "display_data"
    }
   ],
   "source": [
    "plt.plot(n, wss, 'x-', color = 'green' )"
   ]
  },
  {
   "cell_type": "code",
   "execution_count": 54,
   "metadata": {},
   "outputs": [
    {
     "data": {
      "text/plain": [
       "<matplotlib.collections.PathCollection at 0x1e92ec33860>"
      ]
     },
     "execution_count": 54,
     "metadata": {},
     "output_type": "execute_result"
    },
    {
     "data": {
      "image/png": "[encoded data removed]",
      "text/plain": [
       "<Figure size 432x288 with 1 Axes>"
      ]
     },
     "metadata": {
      "needs_background": "light"
     },
     "output_type": "display_data"
    }
   ],
   "source": [
    "# Use PCA to plot the clusters in 2-dimensions\n",
    "\n",
    "from sklearn.decomposition import PCA\n",
    "\n",
    "pca = PCA(2)\n",
    "\n",
    "plot_columns = pca.fit_transform(df_scaled)\n",
    "\n",
    "plt.scatter( x = plot_columns[:,0], y = plot_columns[:, 1])"
   ]
  },
  {
   "cell_type": "code",
   "execution_count": 53,
   "metadata": {},
   "outputs": [
    {
     "data": {
      "text/plain": [
       "3220"
      ]
     },
     "execution_count": 53,
     "metadata": {},
     "output_type": "execute_result"
    }
   ],
   "source": [
    "len(km.labels_)"
   ]
  },
  {
   "cell_type": "code",
   "execution_count": null,
   "metadata": {},
   "outputs": [],
   "source": []
  }
 ],
 "metadata": {
  "kernelspec": {
   "display_name": "Python 3",
   "language": "python",
   "name": "python3"
  },
  "language_info": {
   "codemirror_mode": {
    "name": "ipython",
    "version": 3
   },
   "file_extension": ".py",
   "mimetype": "text/x-python",
   "name": "python",
   "nbconvert_exporter": "python",
   "pygments_lexer": "ipython3",
   "version": "3.7.1"
  }
 },
 "nbformat": 4,
 "nbformat_minor": 2
}
