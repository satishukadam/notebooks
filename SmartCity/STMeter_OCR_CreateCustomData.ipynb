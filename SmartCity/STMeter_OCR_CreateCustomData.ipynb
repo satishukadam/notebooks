{
 "cells": [
  {
   "cell_type": "code",
   "execution_count": 111,
   "metadata": {},
   "outputs": [],
   "source": [
    "# Import basic libraries\n",
    "import numpy as np\n",
    "import pandas as pd\n",
    "from PIL import Image\n",
    "import cv2\n",
    "import matplotlib.pyplot as plt\n",
    "%matplotlib inline\n",
    "import os\n",
    "import re\n",
    "import csv\n",
    "\n",
    "import random\n",
    "from scipy.ndimage import convolve"
   ]
  },
  {
   "cell_type": "code",
   "execution_count": 15,
   "metadata": {},
   "outputs": [],
   "source": [
    "# Create dataset directories\n",
    "\n",
    "base_path = 'D:\\Intelliza_Projects\\TPL\\OCR'\n",
    "aug_images_path = 'D:\\\\Intelliza_Projects\\\\TPL\\\\OCR\\\\meter_ocr\\\\samples'"
   ]
  },
  {
   "cell_type": "code",
   "execution_count": 79,
   "metadata": {},
   "outputs": [],
   "source": [
    "dim = 28\n",
    "def DigitAugmentation(frame, dim = 28):\n",
    "    \"\"\"Randomly alters the image using noise, pixelation and streching image functions\"\"\"\n",
    "    frame = cv2.resize(frame, None, fx=2, fy=2, interpolation = cv2.INTER_CUBIC)\n",
    "    frame = cv2.cvtColor(frame, cv2.COLOR_GRAY2RGB)\n",
    "    random_num = np.random.randint(0,9)\n",
    "\n",
    "    if (random_num % 2 == 0):\n",
    "        frame = add_noise(frame)\n",
    "    if(random_num % 3 == 0):\n",
    "        frame = pixelate(frame)\n",
    "    if(random_num % 2 == 0):\n",
    "        frame = stretch(frame)\n",
    "    frame = cv2.resize(frame, (dim, dim), interpolation = cv2.INTER_AREA)\n",
    "    frame = cv2.bitwise_not(frame)\n",
    "\n",
    "    return frame \n",
    "\n",
    "def add_noise(image):\n",
    "    \"\"\"Addings noise to image\"\"\"\n",
    "    prob = random.uniform(0.01, 0.05)\n",
    "    rnd = np.random.rand(image.shape[0], image.shape[1])\n",
    "    noisy = image.copy()\n",
    "    noisy[rnd < prob] = 0\n",
    "    noisy[rnd > 1 - prob] = 1\n",
    "    return noisy\n",
    "\n",
    "def pixelate(image):\n",
    "    \"Pixelates an image by reducing the resolution then upscaling it\"\n",
    "    dim = np.random.randint(8,12)\n",
    "    image = cv2.resize(image, (dim, dim), interpolation = cv2.INTER_AREA)\n",
    "    image = cv2.resize(image, (16, 16), interpolation = cv2.INTER_AREA)\n",
    "    return image\n",
    "\n",
    "def stretch(image):\n",
    "    \"Randomly applies different degrees of stretch to image\"\n",
    "    ran = np.random.randint(0,3)*2\n",
    "    if np.random.randint(0,2) == 0:\n",
    "        frame = cv2.resize(image, (dim, ran+dim), interpolation = cv2.INTER_AREA)\n",
    "        return frame[int(ran/2):int(ran+dim)-int(ran/2), 0:dim]\n",
    "    else:\n",
    "        frame = cv2.resize(image, (ran+dim, dim), interpolation = cv2.INTER_AREA)\n",
    "        return frame[0:dim, int(ran/2):int(ran+32)-int(ran/2)]\n",
    "    \n",
    "def pre_process(image, inv = False):\n",
    "    \"\"\"Uses OTSU binarization on an image\"\"\"\n",
    "    try:\n",
    "        gray_image = cv2.cvtColor(image, cv2.COLOR_BGR2GRAY)\n",
    "    except:\n",
    "        gray_image = image\n",
    "        pass\n",
    "    \n",
    "    if inv == False:\n",
    "        _, th2 = cv2.threshold(gray_image, 0, 255, cv2.THRESH_BINARY + cv2.THRESH_OTSU)\n",
    "    else:\n",
    "        _, th2 = cv2.threshold(gray_image, 0, 255, cv2.THRESH_BINARY_INV + cv2.THRESH_OTSU)\n",
    "    resized = cv2.resize(th2, (dim,dim), interpolation = cv2.INTER_AREA)\n",
    "    return resized"
   ]
  },
  {
   "cell_type": "code",
   "execution_count": 5,
   "metadata": {},
   "outputs": [],
   "source": [
    "# Get the path for sample images\n",
    "sample_images_path = os.path.join(base_path, 'meter_ocr\\\\custom_train_images\\\\')\n",
    "\n",
    "# Get the full image path in a list\n",
    "fname = []\n",
    "for root,d_names,f_names in os.walk(sample_images_path):    \n",
    "    for f in f_names:\n",
    "        fname.append(os.path.join(sample_images_path, f))"
   ]
  },
  {
   "cell_type": "code",
   "execution_count": 127,
   "metadata": {},
   "outputs": [
    {
     "name": "stdout",
     "output_type": "stream",
     "text": [
      "Augmenting Digit -  0\n",
      "Augmenting Digit -  0\n",
      "Augmenting Digit -  0\n",
      "Augmenting Digit -  1\n",
      "Augmenting Digit -  1\n",
      "Augmenting Digit -  1\n",
      "Augmenting Digit -  1\n",
      "Augmenting Digit -  1\n",
      "Augmenting Digit -  1\n",
      "Augmenting Digit -  1\n",
      "Augmenting Digit -  1\n",
      "Augmenting Digit -  1\n",
      "Augmenting Digit -  1\n",
      "Augmenting Digit -  1\n",
      "Augmenting Digit -  2\n",
      "Augmenting Digit -  2\n",
      "Augmenting Digit -  2\n",
      "Augmenting Digit -  2\n",
      "Augmenting Digit -  2\n",
      "Augmenting Digit -  2\n",
      "Augmenting Digit -  2\n",
      "Augmenting Digit -  2\n",
      "Augmenting Digit -  3\n",
      "Augmenting Digit -  3\n",
      "Augmenting Digit -  3\n",
      "Augmenting Digit -  3\n",
      "Augmenting Digit -  3\n",
      "Augmenting Digit -  3\n",
      "Augmenting Digit -  3\n",
      "Augmenting Digit -  4\n",
      "Augmenting Digit -  4\n",
      "Augmenting Digit -  4\n",
      "Augmenting Digit -  4\n",
      "Augmenting Digit -  4\n",
      "Augmenting Digit -  4\n",
      "Augmenting Digit -  4\n",
      "Augmenting Digit -  4\n",
      "Augmenting Digit -  4\n",
      "Augmenting Digit -  4\n",
      "Augmenting Digit -  5\n",
      "Augmenting Digit -  5\n",
      "Augmenting Digit -  5\n",
      "Augmenting Digit -  5\n",
      "Augmenting Digit -  5\n",
      "Augmenting Digit -  5\n",
      "Augmenting Digit -  5\n",
      "Augmenting Digit -  6\n",
      "Augmenting Digit -  6\n",
      "Augmenting Digit -  6\n",
      "Augmenting Digit -  6\n",
      "Augmenting Digit -  6\n",
      "Augmenting Digit -  6\n",
      "Augmenting Digit -  7\n",
      "Augmenting Digit -  7\n",
      "Augmenting Digit -  7\n",
      "Augmenting Digit -  8\n",
      "Augmenting Digit -  8\n",
      "Augmenting Digit -  8\n",
      "Augmenting Digit -  9\n",
      "Augmenting Digit -  9\n",
      "Augmenting Digit -  9\n",
      "Augmenting Digit -  9\n",
      "Augmenting Digit -  9\n",
      "Augmenting Digit -  9\n",
      "Augmenting Digit -  9\n",
      "Augmenting Digit -  A\n",
      "Augmenting Digit -  B\n",
      "Augmenting Digit -  B\n",
      "Augmenting Digit -  B\n",
      "Augmenting Digit -  B\n",
      "Augmenting Digit -  C\n",
      "Augmenting Digit -  C\n",
      "Augmenting Digit -  C\n",
      "Augmenting Digit -  C\n",
      "Augmenting Digit -  D\n",
      "Augmenting Digit -  D\n",
      "Augmenting Digit -  D\n"
     ]
    }
   ],
   "source": [
    "# Creating 3000 augmented images for each digit - TRAINING DATA\n",
    "]\n",
    "for i in range(0, len(fname)):   \n",
    "    roi = cv2.imread(fname[i], 0)\n",
    "    x = fname[i].find(\"-\")\n",
    "    #print(fname[i][x-1])\n",
    "    #roi = cv2.cvtColor(roi, cv2.COLOR_RGB2GRAY)\n",
    "    \n",
    "    print(\"Augmenting Digit - \", fname[i][x-1])\n",
    "    \n",
    "    # Create 3000 versions of each image for our dataset\n",
    "    for j in range(0, 3000):\n",
    "        roi2 = DigitAugmentation(roi)\n",
    "        roi_otsu = pre_process(roi2, inv = False)\n",
    "        \n",
    "        roi_otsu = cv2.GaussianBlur(roi_otsu, (3, 3), 0)\n",
    "        \n",
    "        ##################################################################################\n",
    "        #To save the augamented image on machine run following code\n",
    "        \n",
    "        #folder_path = os.path.join(aug_images_path, str(fname[i][x-1]))\n",
    "        \n",
    "        #image_name = re.findall(r'([A-Z0-9]-\\d+.JPG)', fname[i])[0]\n",
    "        #image_name = image_name.split('.')[0]\n",
    "        \n",
    "        #image_path =  os.path.join(folder_path, image_name + '_' + str(j) + '.jpg')\n",
    "        \n",
    "        #cv2.imwrite(image_path, roi_otsu)\n",
    "        ##################################################################################\n",
    "        \n",
    "        value = np.asarray(roi_otsu, dtype=np.int).reshape(28, 28)\n",
    "        value = value.flatten()\n",
    "        \n",
    "               \n",
    "        if fname[i][x-1] in (['A','B','C','D']):\n",
    "            if fname[i][x-1] == 'A':\n",
    "                value = np.concatenate([[10], value])   \n",
    "            elif fname[i][x-1] == 'B':\n",
    "                value = np.concatenate([[11], value])\n",
    "            elif fname[i][x-1] == 'C':\n",
    "                value = np.concatenate([[12], value])\n",
    "            else:\n",
    "                value = np.concatenate([[13], value])\n",
    "        else:\n",
    "            value = np.concatenate([[int(fname[i][x-1])], value])\n",
    "            \n",
    "        \n",
    "        with open('D:\\\\Intelliza_Projects\\\\TPL\\\\OCR\\\\meter_ocr\\\\datasets\\\\customdata.csv', 'a', newline='') as f:\n",
    "            writer = csv.writer(f)\n",
    "            writer.writerow(value)\n"
   ]
  },
  {
   "cell_type": "code",
   "execution_count": 94,
   "metadata": {},
   "outputs": [
    {
     "data": {
      "text/plain": [
       "<matplotlib.image.AxesImage at 0x1dc64548188>"
      ]
     },
     "execution_count": 94,
     "metadata": {},
     "output_type": "execute_result"
    },
    {
     "data": {
      "image/png": "[encoded data removed]",
      "text/plain": [
       "<Figure size 360x360 with 1 Axes>"
      ]
     },
     "metadata": {
      "needs_background": "light"
     },
     "output_type": "display_data"
    }
   ],
   "source": [
    "e = cv2.imread('D:/Intelliza_Projects/TPL/OCR/meter_ocr/samples/C/C-1_0.jpg')\n",
    "g = cv2.cvtColor(e, cv2.COLOR_BGR2GRAY)\n",
    "plt.figure(figsize=(5,5))\n",
    "plt.imshow(g)"
   ]
  },
  {
   "cell_type": "code",
   "execution_count": 83,
   "metadata": {},
   "outputs": [
    {
     "data": {
      "text/plain": [
       "<matplotlib.image.AxesImage at 0x1dc6323bd88>"
      ]
     },
     "execution_count": 83,
     "metadata": {},
     "output_type": "execute_result"
    },
    {
     "data": {
      "image/png": "[encoded data removed]",
      "text/plain": [
       "<Figure size 360x360 with 1 Axes>"
      ]
     },
     "metadata": {
      "needs_background": "light"
     },
     "output_type": "display_data"
    }
   ],
   "source": [
    "inv = cv2.bitwise_not(g)\n",
    "plt.figure(figsize=(5,5))\n",
    "plt.imshow(inv)"
   ]
  },
  {
   "cell_type": "code",
   "execution_count": null,
   "metadata": {},
   "outputs": [],
   "source": []
  }
 ],
 "metadata": {
  "kernelspec": {
   "display_name": "Python 3",
   "language": "python",
   "name": "python3"
  },
  "language_info": {
   "codemirror_mode": {
    "name": "ipython",
    "version": 3
   },
   "file_extension": ".py",
   "mimetype": "text/x-python",
   "name": "python",
   "nbconvert_exporter": "python",
   "pygments_lexer": "ipython3",
   "version": "3.7.7"
  }
 },
 "nbformat": 4,
 "nbformat_minor": 4
}
