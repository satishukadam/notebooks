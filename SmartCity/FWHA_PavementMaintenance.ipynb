{
 "cells": [
  {
   "cell_type": "code",
   "execution_count": 120,
   "metadata": {},
   "outputs": [],
   "source": [
    "# Import modules\n",
    "\n",
    "import numpy as np\n",
    "import pandas as pd\n",
    "import matplotlib.pyplot as plt\n",
    "%matplotlib inline\n",
    "import seaborn as sns\n",
    "\n",
    "from warnings import filterwarnings\n",
    "filterwarnings('ignore')"
   ]
  },
  {
   "cell_type": "code",
   "execution_count": 144,
   "metadata": {},
   "outputs": [],
   "source": [
    "df = pd.read_excel('D:\\\\Study\\\\DataScience\\\\Data\\\\MachineLearningData\\\\HighwayData\\\\10MilesData.xlsx', \n",
    "                   sheet_name= '10milesdata')"
   ]
  },
  {
   "cell_type": "code",
   "execution_count": 145,
   "metadata": {},
   "outputs": [],
   "source": [
    "df['IRI Rating'] = df['IRI Rating'].replace(to_replace=['qaqq'], value='GOOD')"
   ]
  },
  {
   "cell_type": "code",
   "execution_count": 147,
   "metadata": {},
   "outputs": [],
   "source": [
    "df['HQ Owner'] = df['HQ Owner'].replace(['DISTRICT 1 (DEMING)', 'DISTRICT 2 (ROSWELL)', 'DISTRICT 3 (ALBUQUERQUE)', \n",
    "                                         'DISTRICT 4 (LAS VEGAS)', 'DISTRICT 5 (SANTA FE)', 'DISTRICT 6 (GRANTS/MILAN)'], \n",
    "                                        ['1 - DEMING', '2 - ROSWELL', '3 - ALBUQUERQUE', '4 - LAS VEGAS', '5 - SANTA FE', '6 - GRANTS/MILAN'])"
   ]
  },
  {
   "cell_type": "code",
   "execution_count": 154,
   "metadata": {},
   "outputs": [
    {
     "data": {
      "text/html": [
       "<div>\n",
       "<style scoped>\n",
       "    .dataframe tbody tr th:only-of-type {\n",
       "        vertical-align: middle;\n",
       "    }\n",
       "\n",
       "    .dataframe tbody tr th {\n",
       "        vertical-align: top;\n",
       "    }\n",
       "\n",
       "    .dataframe thead th {\n",
       "        text-align: right;\n",
       "    }\n",
       "</style>\n",
       "<table border=\"1\" class=\"dataframe\">\n",
       "  <thead>\n",
       "    <tr style=\"text-align: right;\">\n",
       "      <th></th>\n",
       "      <th>HQ Owner</th>\n",
       "      <th>Route</th>\n",
       "      <th>Direction</th>\n",
       "      <th>Begin Mile</th>\n",
       "      <th>End Mile</th>\n",
       "      <th>Length</th>\n",
       "      <th>Lane Miles</th>\n",
       "      <th>Pavement Type</th>\n",
       "      <th>HPMS Cracking Percent</th>\n",
       "      <th>Average IRI</th>\n",
       "      <th>Rutting Measure</th>\n",
       "      <th>Cracking Percent Rating</th>\n",
       "      <th>IRI Rating</th>\n",
       "      <th>Rutting Rating</th>\n",
       "      <th>Condition Rating</th>\n",
       "    </tr>\n",
       "  </thead>\n",
       "  <tbody>\n",
       "    <tr>\n",
       "      <th>33647</th>\n",
       "      <td>4 - LAS VEGAS</td>\n",
       "      <td>US-84-P</td>\n",
       "      <td>Increasing (P)</td>\n",
       "      <td>62.694</td>\n",
       "      <td>62.700</td>\n",
       "      <td>0.006</td>\n",
       "      <td>0.012</td>\n",
       "      <td>Rigid – PCC</td>\n",
       "      <td>0.0</td>\n",
       "      <td>60</td>\n",
       "      <td>0.00</td>\n",
       "      <td>GOOD</td>\n",
       "      <td>GOOD</td>\n",
       "      <td>GOOD</td>\n",
       "      <td>GOOD</td>\n",
       "    </tr>\n",
       "    <tr>\n",
       "      <th>33648</th>\n",
       "      <td>4 - LAS VEGAS</td>\n",
       "      <td>US-84-P</td>\n",
       "      <td>Increasing (P)</td>\n",
       "      <td>41.600</td>\n",
       "      <td>41.700</td>\n",
       "      <td>0.100</td>\n",
       "      <td>0.200</td>\n",
       "      <td>Rigid – PCC</td>\n",
       "      <td>40.9</td>\n",
       "      <td>171</td>\n",
       "      <td>0.01</td>\n",
       "      <td>POOR</td>\n",
       "      <td>POOR</td>\n",
       "      <td>GOOD</td>\n",
       "      <td>POOR</td>\n",
       "    </tr>\n",
       "    <tr>\n",
       "      <th>33649</th>\n",
       "      <td>4 - LAS VEGAS</td>\n",
       "      <td>US-87-P</td>\n",
       "      <td>Increasing (P)</td>\n",
       "      <td>8.200</td>\n",
       "      <td>8.300</td>\n",
       "      <td>0.100</td>\n",
       "      <td>0.200</td>\n",
       "      <td>Rigid – PCC</td>\n",
       "      <td>0.0</td>\n",
       "      <td>231</td>\n",
       "      <td>0.01</td>\n",
       "      <td>GOOD</td>\n",
       "      <td>POOR</td>\n",
       "      <td>GOOD</td>\n",
       "      <td>FAIR</td>\n",
       "    </tr>\n",
       "    <tr>\n",
       "      <th>33650</th>\n",
       "      <td>4 - LAS VEGAS</td>\n",
       "      <td>US-87-P</td>\n",
       "      <td>Increasing (P)</td>\n",
       "      <td>8.300</td>\n",
       "      <td>8.341</td>\n",
       "      <td>0.041</td>\n",
       "      <td>0.082</td>\n",
       "      <td>Rigid – PCC</td>\n",
       "      <td>27.3</td>\n",
       "      <td>261</td>\n",
       "      <td>0.07</td>\n",
       "      <td>POOR</td>\n",
       "      <td>POOR</td>\n",
       "      <td>GOOD</td>\n",
       "      <td>POOR</td>\n",
       "    </tr>\n",
       "    <tr>\n",
       "      <th>33651</th>\n",
       "      <td>4 - LAS VEGAS</td>\n",
       "      <td>US-87-P</td>\n",
       "      <td>Increasing (P)</td>\n",
       "      <td>8.117</td>\n",
       "      <td>8.200</td>\n",
       "      <td>0.083</td>\n",
       "      <td>0.166</td>\n",
       "      <td>Rigid – PCC</td>\n",
       "      <td>4.8</td>\n",
       "      <td>211</td>\n",
       "      <td>0.08</td>\n",
       "      <td>GOOD</td>\n",
       "      <td>POOR</td>\n",
       "      <td>GOOD</td>\n",
       "      <td>FAIR</td>\n",
       "    </tr>\n",
       "  </tbody>\n",
       "</table>\n",
       "</div>"
      ],
      "text/plain": [
       "            HQ Owner    Route       Direction  Begin Mile  End Mile  Length  \\\n",
       "33647  4 - LAS VEGAS  US-84-P  Increasing (P)      62.694    62.700   0.006   \n",
       "33648  4 - LAS VEGAS  US-84-P  Increasing (P)      41.600    41.700   0.100   \n",
       "33649  4 - LAS VEGAS  US-87-P  Increasing (P)       8.200     8.300   0.100   \n",
       "33650  4 - LAS VEGAS  US-87-P  Increasing (P)       8.300     8.341   0.041   \n",
       "33651  4 - LAS VEGAS  US-87-P  Increasing (P)       8.117     8.200   0.083   \n",
       "\n",
       "       Lane Miles Pavement Type  HPMS Cracking Percent  Average IRI  \\\n",
       "33647       0.012   Rigid – PCC                    0.0           60   \n",
       "33648       0.200   Rigid – PCC                   40.9          171   \n",
       "33649       0.200   Rigid – PCC                    0.0          231   \n",
       "33650       0.082   Rigid – PCC                   27.3          261   \n",
       "33651       0.166   Rigid – PCC                    4.8          211   \n",
       "\n",
       "       Rutting Measure Cracking Percent Rating IRI Rating Rutting Rating  \\\n",
       "33647             0.00                    GOOD       GOOD           GOOD   \n",
       "33648             0.01                    POOR       POOR           GOOD   \n",
       "33649             0.01                    GOOD       POOR           GOOD   \n",
       "33650             0.07                    POOR       POOR           GOOD   \n",
       "33651             0.08                    GOOD       POOR           GOOD   \n",
       "\n",
       "      Condition Rating  \n",
       "33647             GOOD  \n",
       "33648             POOR  \n",
       "33649             FAIR  \n",
       "33650             POOR  \n",
       "33651             FAIR  "
      ]
     },
     "execution_count": 154,
     "metadata": {},
     "output_type": "execute_result"
    }
   ],
   "source": [
    "df.tail()"
   ]
  },
  {
   "cell_type": "code",
   "execution_count": 153,
   "metadata": {},
   "outputs": [
    {
     "data": {
      "image/png": "[encoded data removed]",
      "text/plain": [
       "<Figure size 1008x360 with 4 Axes>"
      ]
     },
     "metadata": {
      "needs_background": "light"
     },
     "output_type": "display_data"
    }
   ],
   "source": [
    "# Visualize the counts of various factors\n",
    "fig, ax = plt.subplots(1, len(cols), figsize=(14,5))\n",
    "\n",
    "cols = ['Cracking Percent Rating', 'IRI Rating', 'Rutting Rating', 'Condition Rating']\n",
    "\n",
    "for i in range(len(ax)):\n",
    "    splot = sns.countplot(df[cols[i]], ax=ax[i])\n",
    "    for p in splot.patches:\n",
    "            splot.annotate(format(p.get_height(), 'd'), \n",
    "                   (p.get_x() + p.get_width() / 2., p.get_height()), \n",
    "                           ha = 'center', va = 'center', xytext = (0, 10), textcoords = 'offset points')\n",
    "plt.tight_layout()\n"
   ]
  },
  {
   "cell_type": "code",
   "execution_count": null,
   "metadata": {},
   "outputs": [],
   "source": []
  }
 ],
 "metadata": {
  "kernelspec": {
   "display_name": "Python 3",
   "language": "python",
   "name": "python3"
  },
  "language_info": {
   "codemirror_mode": {
    "name": "ipython",
    "version": 3
   },
   "file_extension": ".py",
   "mimetype": "text/x-python",
   "name": "python",
   "nbconvert_exporter": "python",
   "pygments_lexer": "ipython3",
   "version": "3.7.7"
  }
 },
 "nbformat": 4,
 "nbformat_minor": 4
}
