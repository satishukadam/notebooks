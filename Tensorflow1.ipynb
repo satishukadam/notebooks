{
 "cells": [
  {
   "cell_type": "code",
   "execution_count": 1,
   "metadata": {},
   "outputs": [],
   "source": [
    "# Impoerting Tensorflow\n",
    "import tensorflow as tf"
   ]
  },
  {
   "cell_type": "code",
   "execution_count": 2,
   "metadata": {},
   "outputs": [],
   "source": [
    "# Creating nodes with constants in computation graph\n",
    "\n",
    "node1 = tf.constant(3, dtype= tf.int8)\n",
    "node2 = tf.constant(5, dtype= tf.int8)\n",
    "\n",
    "node3 = tf.add(node1, node2)"
   ]
  },
  {
   "cell_type": "code",
   "execution_count": 9,
   "metadata": {},
   "outputs": [
    {
     "name": "stdout",
     "output_type": "stream",
     "text": [
      "The value of node3 is: 8\n"
     ]
    }
   ],
   "source": [
    "with tf.Session() as sess:\n",
    "    print('The value of node3 is:', sess.run(node3))"
   ]
  },
  {
   "cell_type": "code",
   "execution_count": 12,
   "metadata": {},
   "outputs": [
    {
     "name": "stdout",
     "output_type": "stream",
     "text": [
      "WARNING:tensorflow:From C:\\ProgramData\\Anaconda3\\lib\\site-packages\\tensorflow\\python\\framework\\op_def_library.py:263: colocate_with (from tensorflow.python.framework.ops) is deprecated and will be removed in a future version.\n",
      "Instructions for updating:\n",
      "Colocations handled automatically by placer.\n"
     ]
    }
   ],
   "source": [
    "# Creating nodes in computational graph\n",
    "\n",
    "node = tf.Variable(tf.zeros([2,2]))"
   ]
  },
  {
   "cell_type": "code",
   "execution_count": 16,
   "metadata": {},
   "outputs": [
    {
     "name": "stdout",
     "output_type": "stream",
     "text": [
      "Tensor before addition:\n",
      " [[0. 0.]\n",
      " [0. 0.]]\n",
      "\n",
      "\n",
      "Tensor after addition:\n",
      " [[1. 1.]\n",
      " [1. 1.]]\n"
     ]
    }
   ],
   "source": [
    "with tf.Session() as sess:\n",
    "    sess.run(tf.global_variables_initializer())\n",
    "    \n",
    "    print('Tensor before addition:\\n', sess.run(node))\n",
    "    \n",
    "    print('\\n')\n",
    "    node4 = node.assign( node + tf.ones([2,2]))\n",
    "    \n",
    "    print('Tensor after addition:\\n', sess.run(node4))"
   ]
  },
  {
   "cell_type": "code",
   "execution_count": 18,
   "metadata": {},
   "outputs": [],
   "source": [
    "# Creating Placeholders\n",
    "\n",
    "a = tf.placeholder(tf.int32, shape= [3,1])\n",
    "b = tf.placeholder(tf.int32, shape= [1,3])\n",
    "\n",
    "c = tf.matmul(a,b)"
   ]
  },
  {
   "cell_type": "code",
   "execution_count": 19,
   "metadata": {},
   "outputs": [
    {
     "name": "stdout",
     "output_type": "stream",
     "text": [
      "[[3 6 9]\n",
      " [2 4 6]\n",
      " [1 2 3]]\n"
     ]
    }
   ],
   "source": [
    "# Running computational graph\n",
    "\n",
    "with tf.Session() as sess2:\n",
    "    print(sess2.run(c, feed_dict={a:[[3],[2],[1]], b:[[1,2,3]]})) "
   ]
  },
  {
   "cell_type": "code",
   "execution_count": null,
   "metadata": {},
   "outputs": [],
   "source": []
  }
 ],
 "metadata": {
  "kernelspec": {
   "display_name": "Python 3",
   "language": "python",
   "name": "python3"
  },
  "language_info": {
   "codemirror_mode": {
    "name": "ipython",
    "version": 3
   },
   "file_extension": ".py",
   "mimetype": "text/x-python",
   "name": "python",
   "nbconvert_exporter": "python",
   "pygments_lexer": "ipython3",
   "version": "3.7.1"
  }
 },
 "nbformat": 4,
 "nbformat_minor": 2
}
