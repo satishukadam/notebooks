{
 "cells": [
  {
   "cell_type": "markdown",
   "metadata": {},
   "source": [
    "### Create a CNN model for image classification using Keras"
   ]
  },
  {
   "cell_type": "code",
   "execution_count": 39,
   "metadata": {},
   "outputs": [],
   "source": [
    "# import modules\n",
    "\n",
    "import os\n",
    "from skimage.io import imread\n",
    "import skimage\n",
    "import numpy as np\n",
    "import matplotlib.pyplot as plt\n",
    "from warnings import filterwarnings\n",
    "filterwarnings('ignore')\n",
    "import cv2\n",
    "\n",
    "\n",
    "from keras.models import Sequential\n",
    "from keras.layers import Dense, Conv2D, MaxPool2D, Dropout, Flatten\n",
    "from keras import backend as K"
   ]
  },
  {
   "cell_type": "code",
   "execution_count": 2,
   "metadata": {},
   "outputs": [],
   "source": [
    "ROOT_PATH = 'D:/AI/Data/bio_medical'\n",
    "\n",
    "training_path = os.path.join(ROOT_PATH, 'training')\n",
    "testing_path = os.path.join(ROOT_PATH, 'testing')\n",
    "\n",
    "def load_data(data_directory):\n",
    "    d1 = []\n",
    "    d2 = []\n",
    "    d3 = []\n",
    "    images_cv2 = []\n",
    "    labels_cv2 = []\n",
    "    image_diretory = []\n",
    "\n",
    "    for d in os.listdir(training_path):\n",
    "        d1_path = d\n",
    "        d1.append(d1_path)\n",
    "\n",
    "    for x in d1:\n",
    "        for d in os.listdir(os.path.join(training_path, x)):\n",
    "            d2_path = d\n",
    "            (d2.append(d2_path))\n",
    "\n",
    "    for x1 in d1:\n",
    "        for x2 in d2:\n",
    "            if os.path.isdir(os.path.join(training_path, x1, x2)):\n",
    "                for d in os.listdir(os.path.join(training_path, x1, x2)):\n",
    "                    d3_path = d\n",
    "                    (d3.append(d3_path))\n",
    "                \n",
    "    for x1 in d1:\n",
    "        for x2 in d2:\n",
    "            for x3 in d3:\n",
    "                if os.path.isdir(os.path.join(training_path, x1, x2,x3)):                \n",
    "                    for d in os.listdir(os.path.join(training_path, x1, x2, x3)):\n",
    "                        image_path = os.path.join(training_path, x1, x2, x3)\n",
    "                        image_diretory.append(image_path)   \n",
    "                    \n",
    "\n",
    "    for y in image_diretory:\n",
    "        for f in os.listdir(y):\n",
    "            if f.endswith('.png'):\n",
    "                img_cv2 = cv2.imread(os.path.join(y,f))\n",
    "                (b, g, r)=cv2.split(img_cv2)\n",
    "                img_cv2=cv2.merge([r,g,b])\n",
    "                images_cv2.append(img_cv2)\n",
    "                if 'positive' in os.path.join(y,f):\n",
    "                    l_cv2 = 0\n",
    "                    labels_cv2.append(l_cv2)\n",
    "                elif 'negative' in os.path.join(y,f):\n",
    "                    l_cv2 = 1\n",
    "                    labels_cv2.append(l_cv2)\n",
    "    \n",
    "    return images_cv2, labels_cv2\n",
    "\n"
   ]
  },
  {
   "cell_type": "code",
   "execution_count": 3,
   "metadata": {},
   "outputs": [],
   "source": [
    "images_cv2, labels_cv2 = load_data(training_path)"
   ]
  },
  {
   "cell_type": "code",
   "execution_count": 9,
   "metadata": {},
   "outputs": [],
   "source": [
    "\n",
    "from skimage import transform\n",
    "\n",
    "images_cv2 = [transform.resize(image, (56, 56)) for image in images_cv2]\n",
    "\n",
    "images_cv2 = np.array(images_cv2)\n",
    "\n",
    "from skimage.color import rgb2gray\n",
    "\n",
    "# Convert `images56` to an array\n",
    "images_bw = np.array(images_cv2)\n",
    "\n",
    "# Convert `images56` to grayscale\n",
    "images_bw = rgb2gray(images_bw)"
   ]
  },
  {
   "cell_type": "code",
   "execution_count": 20,
   "metadata": {},
   "outputs": [
    {
     "name": "stdout",
     "output_type": "stream",
     "text": [
      "<class 'numpy.ndarray'>\n"
     ]
    }
   ],
   "source": [
    "# print images and label shape\n",
    "\n",
    "#print(images_bw.shape)\n",
    "#print(len(labels_cv2))\n",
    "#print(type(labels_cv2))\n",
    "\n",
    "image_labels = np.asarray(labels_cv2)\n",
    "\n",
    "print(type(image_labels))"
   ]
  },
  {
   "cell_type": "code",
   "execution_count": 21,
   "metadata": {},
   "outputs": [
    {
     "name": "stdout",
     "output_type": "stream",
     "text": [
      "Frequency of unique values of the said array:\n",
      "[[   0    1]\n",
      " [1755 6604]]\n"
     ]
    }
   ],
   "source": [
    "# get the count of unique values of classes\n",
    "# total 8359 valus : 0 - 1755\n",
    "#                    1 - 6604 \n",
    "\n",
    "unique_elements, counts_elements = np.unique(image_labels, return_counts=True)\n",
    "print(\"Frequency of unique values of the said array:\")\n",
    "print(np.asarray((unique_elements, counts_elements)))"
   ]
  },
  {
   "cell_type": "code",
   "execution_count": 47,
   "metadata": {},
   "outputs": [],
   "source": [
    "# split the data into training, validation and testing datasets\n",
    "\n",
    "from keras.utils import to_categorical\n",
    "image_labels_cat = to_categorical(image_labels)\n",
    "\n",
    "from sklearn.model_selection import train_test_split\n",
    "\n",
    "X_train, X_valtest, y_train, y_valtest = train_test_split(images_bw, image_labels_cat, test_size = 0.3, random_state = 42)\n",
    "\n",
    "# split the valtest data into validation and test datasets\n",
    "\n",
    "X_val, X_test, y_val, y_test = train_test_split(X_valtest, y_valtest, test_size = 0.5, random_state = 40)"
   ]
  },
  {
   "cell_type": "code",
   "execution_count": 48,
   "metadata": {},
   "outputs": [
    {
     "name": "stdout",
     "output_type": "stream",
     "text": [
      "(5851, 56, 56)\n",
      "(5851, 2)\n",
      "\n",
      "\n",
      "(1254, 56, 56)\n",
      "(1254, 2)\n",
      "\n",
      "\n",
      "(1254, 56, 56)\n",
      "(1254, 2)\n"
     ]
    }
   ],
   "source": [
    "print(X_train.shape)\n",
    "print(y_train.shape)\n",
    "#print(X_valtest.shape)\n",
    "#print(y_valtest.shape)\n",
    "print('\\n')\n",
    "print(X_val.shape)\n",
    "print(y_val.shape)\n",
    "\n",
    "print('\\n')\n",
    "print(X_test.shape)\n",
    "print(y_test.shape)\n"
   ]
  },
  {
   "cell_type": "code",
   "execution_count": 50,
   "metadata": {},
   "outputs": [],
   "source": [
    "# dimensions of our images.\n",
    "img_width, img_height = 56, 56\n",
    "\n",
    "epochs = 50\n",
    "batch_size = 16\n",
    "\n",
    "input_shape = (img_width, img_height, 1)\n",
    "\n",
    "# create a function for classification\n",
    "model = Sequential()\n",
    "model.add(Conv2D(32, (3, 3), padding='same', activation='relu', input_shape=input_shape))\n",
    "model.add(Conv2D(32, (3, 3), activation='relu'))\n",
    "model.add(MaxPool2D(pool_size=(2, 2)))\n",
    "model.add(Dropout(0.25))\n",
    "  \n",
    "model.add(Conv2D(64, (3, 3), padding='same', activation='relu'))\n",
    "model.add(Conv2D(64, (3, 3), activation='relu'))\n",
    "model.add(MaxPool2D(pool_size=(2, 2)))\n",
    "model.add(Dropout(0.25))\n",
    "  \n",
    "model.add(Conv2D(64, (3, 3), padding='same', activation='relu'))\n",
    "model.add(Conv2D(64, (3, 3), activation='relu'))\n",
    "model.add(MaxPool2D(pool_size=(2, 2)))\n",
    "model.add(Dropout(0.25))\n",
    "  \n",
    "model.add(Flatten())\n",
    "model.add(Dense(512, activation='relu'))\n",
    "model.add(Dropout(0.5))\n",
    "model.add(Dense(2, activation='sigmoid'))\n",
    "  \n"
   ]
  },
  {
   "cell_type": "code",
   "execution_count": 51,
   "metadata": {},
   "outputs": [
    {
     "name": "stdout",
     "output_type": "stream",
     "text": [
      "WARNING:tensorflow:From C:\\ProgramData\\Anaconda3\\lib\\site-packages\\tensorflow\\python\\ops\\math_ops.py:3066: to_int32 (from tensorflow.python.ops.math_ops) is deprecated and will be removed in a future version.\n",
      "Instructions for updating:\n",
      "Use tf.cast instead.\n",
      "Train on 5851 samples, validate on 1254 samples\n",
      "Epoch 1/50\n",
      "5851/5851 [==============================] - 55s 9ms/step - loss: 0.3052 - acc: 0.8735 - val_loss: 0.0086 - val_acc: 1.0000\n",
      "Epoch 2/50\n",
      "5851/5851 [==============================] - 51s 9ms/step - loss: 0.0632 - acc: 0.9880 - val_loss: 1.0075e-05 - val_acc: 1.0000\n",
      "Epoch 3/50\n",
      "5851/5851 [==============================] - 52s 9ms/step - loss: 0.0404 - acc: 0.9942 - val_loss: 9.3107e-06 - val_acc: 1.0000\n",
      "Epoch 4/50\n",
      "5851/5851 [==============================] - 53s 9ms/step - loss: 0.0470 - acc: 0.9934 - val_loss: 3.0313e-07 - val_acc: 1.0000\n",
      "Epoch 5/50\n",
      "5851/5851 [==============================] - 53s 9ms/step - loss: 0.0270 - acc: 0.9967 - val_loss: 0.0445 - val_acc: 0.9864\n",
      "Epoch 6/50\n",
      "5851/5851 [==============================] - 52s 9ms/step - loss: 0.0247 - acc: 0.9974 - val_loss: 1.6324e-07 - val_acc: 1.0000\n",
      "Epoch 7/50\n",
      "5851/5851 [==============================] - 52s 9ms/step - loss: 0.0197 - acc: 0.9972 - val_loss: 2.4300e-07 - val_acc: 1.0000\n",
      "Epoch 8/50\n",
      "5851/5851 [==============================] - 53s 9ms/step - loss: 0.0238 - acc: 0.9974 - val_loss: 3.1412e-07 - val_acc: 1.0000\n",
      "Epoch 9/50\n",
      "5851/5851 [==============================] - 52s 9ms/step - loss: 0.0449 - acc: 0.9960 - val_loss: 1.1439e-07 - val_acc: 1.0000\n",
      "Epoch 10/50\n",
      "5851/5851 [==============================] - 53s 9ms/step - loss: 0.0414 - acc: 0.9953 - val_loss: 5.7278e-06 - val_acc: 1.0000\n",
      "Epoch 11/50\n",
      "5851/5851 [==============================] - 52s 9ms/step - loss: 0.0116 - acc: 0.9989 - val_loss: 1.0960e-07 - val_acc: 1.0000\n",
      "Epoch 12/50\n",
      "5851/5851 [==============================] - 51s 9ms/step - loss: 0.0294 - acc: 0.9975 - val_loss: 1.0960e-07 - val_acc: 1.0000\n",
      "Epoch 13/50\n",
      "5851/5851 [==============================] - 50s 9ms/step - loss: 0.0441 - acc: 0.9968 - val_loss: 1.1081e-07 - val_acc: 1.0000\n",
      "Epoch 14/50\n",
      "5851/5851 [==============================] - 50s 9ms/step - loss: 0.0516 - acc: 0.9957 - val_loss: 1.0960e-07 - val_acc: 1.0000\n",
      "Epoch 15/50\n",
      "5851/5851 [==============================] - 51s 9ms/step - loss: 0.0276 - acc: 0.9978 - val_loss: 1.0960e-07 - val_acc: 1.0000\n",
      "Epoch 16/50\n",
      "5851/5851 [==============================] - 52s 9ms/step - loss: 0.0248 - acc: 0.9979 - val_loss: 1.0960e-07 - val_acc: 1.0000\n",
      "Epoch 17/50\n",
      "5851/5851 [==============================] - 52s 9ms/step - loss: 0.0306 - acc: 0.9979 - val_loss: 0.1578 - val_acc: 0.9896\n",
      "Epoch 18/50\n",
      "5851/5851 [==============================] - 51s 9ms/step - loss: 0.0402 - acc: 0.9972 - val_loss: 1.0960e-07 - val_acc: 1.0000\n",
      "Epoch 19/50\n",
      "5851/5851 [==============================] - 52s 9ms/step - loss: 0.0130 - acc: 0.9990 - val_loss: 1.0960e-07 - val_acc: 1.0000\n",
      "Epoch 20/50\n",
      "5851/5851 [==============================] - 52s 9ms/step - loss: 0.0601 - acc: 0.9960 - val_loss: 1.0960e-07 - val_acc: 1.0000\n",
      "Epoch 21/50\n",
      "5851/5851 [==============================] - 52s 9ms/step - loss: 0.0373 - acc: 0.9972 - val_loss: 1.0960e-07 - val_acc: 1.0000\n",
      "Epoch 22/50\n",
      "5851/5851 [==============================] - 52s 9ms/step - loss: 0.0214 - acc: 0.9985 - val_loss: 1.0960e-07 - val_acc: 1.0000\n",
      "Epoch 23/50\n",
      "5851/5851 [==============================] - 52s 9ms/step - loss: 0.0468 - acc: 0.9964 - val_loss: 1.0960e-07 - val_acc: 1.0000\n",
      "Epoch 24/50\n",
      "5851/5851 [==============================] - 52s 9ms/step - loss: 0.0055 - acc: 0.9997 - val_loss: 1.0960e-07 - val_acc: 1.0000\n",
      "Epoch 25/50\n",
      "5851/5851 [==============================] - 52s 9ms/step - loss: 0.0055 - acc: 0.9997 - val_loss: 1.0960e-07 - val_acc: 1.0000\n",
      "Epoch 26/50\n",
      "5851/5851 [==============================] - 52s 9ms/step - loss: 0.0114 - acc: 0.9992 - val_loss: 1.0960e-07 - val_acc: 1.0000\n",
      "Epoch 27/50\n",
      "5851/5851 [==============================] - 52s 9ms/step - loss: 0.0312 - acc: 0.9979 - val_loss: 1.0960e-07 - val_acc: 1.0000\n",
      "Epoch 28/50\n",
      "5851/5851 [==============================] - 52s 9ms/step - loss: 0.0171 - acc: 0.9988 - val_loss: 1.0960e-07 - val_acc: 1.0000\n",
      "Epoch 29/50\n",
      "5851/5851 [==============================] - 52s 9ms/step - loss: 0.0393 - acc: 0.9974 - val_loss: 1.0960e-07 - val_acc: 1.0000\n",
      "Epoch 30/50\n",
      "5851/5851 [==============================] - 52s 9ms/step - loss: 0.0432 - acc: 0.9969 - val_loss: 1.0960e-07 - val_acc: 1.0000\n",
      "Epoch 31/50\n",
      "5851/5851 [==============================] - 52s 9ms/step - loss: 0.0084 - acc: 0.9994 - val_loss: 1.0960e-07 - val_acc: 1.0000\n",
      "Epoch 32/50\n",
      "5851/5851 [==============================] - 52s 9ms/step - loss: 0.0358 - acc: 0.9977 - val_loss: 1.0960e-07 - val_acc: 1.0000\n",
      "Epoch 33/50\n",
      "5851/5851 [==============================] - 52s 9ms/step - loss: 0.0233 - acc: 0.9985 - val_loss: 1.0960e-07 - val_acc: 1.0000\n",
      "Epoch 34/50\n",
      "5851/5851 [==============================] - 52s 9ms/step - loss: 0.0502 - acc: 0.9967 - val_loss: 1.0960e-07 - val_acc: 1.0000\n",
      "Epoch 35/50\n",
      "5851/5851 [==============================] - 52s 9ms/step - loss: 0.0570 - acc: 0.9964 - val_loss: 1.0960e-07 - val_acc: 1.0000\n",
      "Epoch 36/50\n",
      "5851/5851 [==============================] - 52s 9ms/step - loss: 0.0292 - acc: 0.9981 - val_loss: 1.0960e-07 - val_acc: 1.0000\n",
      "Epoch 37/50\n",
      "5851/5851 [==============================] - 52s 9ms/step - loss: 0.0437 - acc: 0.9972 - val_loss: 1.0960e-07 - val_acc: 1.0000\n",
      "Epoch 38/50\n",
      "5851/5851 [==============================] - 52s 9ms/step - loss: 0.0721 - acc: 0.9953 - val_loss: 1.0960e-07 - val_acc: 1.0000\n",
      "Epoch 39/50\n",
      "5851/5851 [==============================] - 53s 9ms/step - loss: 0.0437 - acc: 0.9971 - val_loss: 1.0960e-07 - val_acc: 1.0000\n",
      "Epoch 40/50\n",
      "5851/5851 [==============================] - 52s 9ms/step - loss: 0.0110 - acc: 0.9992 - val_loss: 1.0960e-07 - val_acc: 1.0000\n",
      "Epoch 41/50\n",
      "5851/5851 [==============================] - 52s 9ms/step - loss: 0.0151 - acc: 0.9991 - val_loss: 1.0960e-07 - val_acc: 1.0000\n",
      "Epoch 42/50\n",
      "5851/5851 [==============================] - 52s 9ms/step - loss: 0.0082 - acc: 0.9995 - val_loss: 1.0960e-07 - val_acc: 1.0000\n",
      "Epoch 43/50\n",
      "5851/5851 [==============================] - 53s 9ms/step - loss: 0.0186 - acc: 0.9988 - val_loss: 1.0960e-07 - val_acc: 1.0000\n",
      "Epoch 44/50\n",
      "5851/5851 [==============================] - 53s 9ms/step - loss: 0.0260 - acc: 0.9984 - val_loss: 1.0960e-07 - val_acc: 1.0000\n",
      "Epoch 45/50\n",
      "5851/5851 [==============================] - 53s 9ms/step - loss: 0.0597 - acc: 0.9962 - val_loss: 1.0960e-07 - val_acc: 1.0000\n",
      "Epoch 46/50\n",
      "5851/5851 [==============================] - 52s 9ms/step - loss: 0.0140 - acc: 0.9991 - val_loss: 1.0960e-07 - val_acc: 1.0000\n",
      "Epoch 47/50\n",
      "5851/5851 [==============================] - 52s 9ms/step - loss: 0.0515 - acc: 0.9968 - val_loss: 1.0960e-07 - val_acc: 1.0000\n",
      "Epoch 48/50\n",
      "5851/5851 [==============================] - 52s 9ms/step - loss: 0.0464 - acc: 0.9971 - val_loss: 1.0960e-07 - val_acc: 1.0000\n",
      "Epoch 49/50\n",
      "5851/5851 [==============================] - 52s 9ms/step - loss: 0.0151 - acc: 0.9991 - val_loss: 1.0960e-07 - val_acc: 1.0000\n",
      "Epoch 50/50\n",
      "5851/5851 [==============================] - 53s 9ms/step - loss: 0.0199 - acc: 0.9986 - val_loss: 1.0960e-07 - val_acc: 1.0000\n"
     ]
    }
   ],
   "source": [
    "X_train = X_train.reshape(-1,56, 56, 1)   #Reshape for CNN -  should work!!\n",
    "X_val = X_val.reshape(-1,56, 56, 1)\n",
    "X_test = X_test.reshape(-1,56, 56, 1)\n",
    "\n",
    "model.compile(optimizer='rmsprop', loss='binary_crossentropy', metrics=['accuracy'])\n",
    "\n",
    "history = model.fit(X_train, y_train, batch_size=batch_size, epochs=epochs, verbose=1,\n",
    "                   validation_data=(X_test, y_test))\n",
    "  \n",
    "#model.evaluate(X_test, y_test)\n"
   ]
  },
  {
   "cell_type": "code",
   "execution_count": 52,
   "metadata": {},
   "outputs": [
    {
     "data": {
      "text/plain": [
       "Text(0.5, 1.0, 'Accuracy Curves')"
      ]
     },
     "execution_count": 52,
     "metadata": {},
     "output_type": "execute_result"
    },
    {
     "data": {
      "image/png": "[encoded data removed]",
      "text/plain": [
       "<Figure size 576x432 with 1 Axes>"
      ]
     },
     "metadata": {
      "needs_background": "light"
     },
     "output_type": "display_data"
    },
    {
     "data": {
      "image/png": "[encoded data removed]",
      "text/plain": [
       "<Figure size 576x432 with 1 Axes>"
      ]
     },
     "metadata": {
      "needs_background": "light"
     },
     "output_type": "display_data"
    }
   ],
   "source": [
    "# Loss Curves\n",
    "plt.figure(figsize=[8,6])\n",
    "plt.plot(history.history['loss'],'r',linewidth=3.0)\n",
    "plt.plot(history.history['val_loss'],'b',linewidth=3.0)\n",
    "plt.legend(['Training loss', 'Validation Loss'],fontsize=18)\n",
    "plt.xlabel('Epochs ',fontsize=16)\n",
    "plt.ylabel('Loss',fontsize=16)\n",
    "plt.title('Loss Curves',fontsize=16)\n",
    "  \n",
    "# Accuracy Curves\n",
    "plt.figure(figsize=[8,6])\n",
    "plt.plot(history.history['acc'],'r',linewidth=3.0)\n",
    "plt.plot(history.history['val_acc'],'b',linewidth=3.0)\n",
    "plt.legend(['Training Accuracy', 'Validation Accuracy'],fontsize=18)\n",
    "plt.xlabel('Epochs ',fontsize=16)\n",
    "plt.ylabel('Accuracy',fontsize=16)\n",
    "plt.title('Accuracy Curves',fontsize=16)"
   ]
  },
  {
   "cell_type": "code",
   "execution_count": 60,
   "metadata": {},
   "outputs": [
    {
     "ename": "ValueError",
     "evalue": "multilabel-indicator format is not supported",
     "output_type": "error",
     "traceback": [
      "\u001b[1;31m---------------------------------------------------------------------------\u001b[0m",
      "\u001b[1;31mValueError\u001b[0m                                Traceback (most recent call last)",
      "\u001b[1;32m<ipython-input-60-c8b921d160e2>\u001b[0m in \u001b[0;36m<module>\u001b[1;34m\u001b[0m\n\u001b[0;32m      3\u001b[0m \u001b[1;33m\u001b[0m\u001b[0m\n\u001b[0;32m      4\u001b[0m \u001b[0mlogit_roc_auc\u001b[0m \u001b[1;33m=\u001b[0m \u001b[0mroc_auc_score\u001b[0m\u001b[1;33m(\u001b[0m\u001b[0my_test\u001b[0m\u001b[1;33m,\u001b[0m \u001b[0mmodel\u001b[0m\u001b[1;33m.\u001b[0m\u001b[0mpredict\u001b[0m\u001b[1;33m(\u001b[0m\u001b[0mX_test\u001b[0m\u001b[1;33m)\u001b[0m\u001b[1;33m)\u001b[0m\u001b[1;33m\u001b[0m\u001b[1;33m\u001b[0m\u001b[0m\n\u001b[1;32m----> 5\u001b[1;33m \u001b[0mfpr\u001b[0m\u001b[1;33m,\u001b[0m \u001b[0mtpr\u001b[0m\u001b[1;33m,\u001b[0m \u001b[0mthresholds\u001b[0m \u001b[1;33m=\u001b[0m \u001b[0mroc_curve\u001b[0m\u001b[1;33m(\u001b[0m\u001b[0my_test\u001b[0m\u001b[1;33m,\u001b[0m \u001b[0mmodel\u001b[0m\u001b[1;33m.\u001b[0m\u001b[0mpredict_proba\u001b[0m\u001b[1;33m(\u001b[0m\u001b[0mX_test\u001b[0m\u001b[1;33m)\u001b[0m\u001b[1;33m)\u001b[0m\u001b[1;33m\u001b[0m\u001b[1;33m\u001b[0m\u001b[0m\n\u001b[0m\u001b[0;32m      6\u001b[0m \u001b[0mplt\u001b[0m\u001b[1;33m.\u001b[0m\u001b[0mfigure\u001b[0m\u001b[1;33m(\u001b[0m\u001b[1;33m)\u001b[0m\u001b[1;33m\u001b[0m\u001b[1;33m\u001b[0m\u001b[0m\n\u001b[0;32m      7\u001b[0m \u001b[0mplt\u001b[0m\u001b[1;33m.\u001b[0m\u001b[0mplot\u001b[0m\u001b[1;33m(\u001b[0m\u001b[0mfpr\u001b[0m\u001b[1;33m,\u001b[0m \u001b[0mtpr\u001b[0m\u001b[1;33m,\u001b[0m \u001b[0mlabel\u001b[0m\u001b[1;33m=\u001b[0m\u001b[1;34m'Logistic Regression (area = %0.2f)'\u001b[0m \u001b[1;33m%\u001b[0m \u001b[0mlogit_roc_auc\u001b[0m\u001b[1;33m)\u001b[0m\u001b[1;33m\u001b[0m\u001b[1;33m\u001b[0m\u001b[0m\n",
      "\u001b[1;32mC:\\ProgramData\\Anaconda3\\lib\\site-packages\\sklearn\\metrics\\ranking.py\u001b[0m in \u001b[0;36mroc_curve\u001b[1;34m(y_true, y_score, pos_label, sample_weight, drop_intermediate)\u001b[0m\n\u001b[0;32m    616\u001b[0m     \"\"\"\n\u001b[0;32m    617\u001b[0m     fps, tps, thresholds = _binary_clf_curve(\n\u001b[1;32m--> 618\u001b[1;33m         y_true, y_score, pos_label=pos_label, sample_weight=sample_weight)\n\u001b[0m\u001b[0;32m    619\u001b[0m \u001b[1;33m\u001b[0m\u001b[0m\n\u001b[0;32m    620\u001b[0m     \u001b[1;31m# Attempt to drop thresholds corresponding to points in between and\u001b[0m\u001b[1;33m\u001b[0m\u001b[1;33m\u001b[0m\u001b[1;33m\u001b[0m\u001b[0m\n",
      "\u001b[1;32mC:\\ProgramData\\Anaconda3\\lib\\site-packages\\sklearn\\metrics\\ranking.py\u001b[0m in \u001b[0;36m_binary_clf_curve\u001b[1;34m(y_true, y_score, pos_label, sample_weight)\u001b[0m\n\u001b[0;32m    395\u001b[0m     if not (y_type == \"binary\" or\n\u001b[0;32m    396\u001b[0m             (y_type == \"multiclass\" and pos_label is not None)):\n\u001b[1;32m--> 397\u001b[1;33m         \u001b[1;32mraise\u001b[0m \u001b[0mValueError\u001b[0m\u001b[1;33m(\u001b[0m\u001b[1;34m\"{0} format is not supported\"\u001b[0m\u001b[1;33m.\u001b[0m\u001b[0mformat\u001b[0m\u001b[1;33m(\u001b[0m\u001b[0my_type\u001b[0m\u001b[1;33m)\u001b[0m\u001b[1;33m)\u001b[0m\u001b[1;33m\u001b[0m\u001b[1;33m\u001b[0m\u001b[0m\n\u001b[0m\u001b[0;32m    398\u001b[0m \u001b[1;33m\u001b[0m\u001b[0m\n\u001b[0;32m    399\u001b[0m     \u001b[0mcheck_consistent_length\u001b[0m\u001b[1;33m(\u001b[0m\u001b[0my_true\u001b[0m\u001b[1;33m,\u001b[0m \u001b[0my_score\u001b[0m\u001b[1;33m,\u001b[0m \u001b[0msample_weight\u001b[0m\u001b[1;33m)\u001b[0m\u001b[1;33m\u001b[0m\u001b[1;33m\u001b[0m\u001b[0m\n",
      "\u001b[1;31mValueError\u001b[0m: multilabel-indicator format is not supported"
     ]
    }
   ],
   "source": [
    "from sklearn.metrics import roc_auc_score\n",
    "from sklearn.metrics import roc_curve\n",
    "\n",
    "logit_roc_auc = roc_auc_score(y_test, model.predict(X_test))\n",
    "fpr, tpr, thresholds = roc_curve(y_test, model.predict_proba(X_test))\n",
    "plt.figure()\n",
    "plt.plot(fpr, tpr, label='Logistic Regression (area = %0.2f)' % logit_roc_auc)\n",
    "plt.plot([0, 1], [0, 1],'r--')\n",
    "plt.xlim([0.0, 1.0])\n",
    "plt.ylim([0.0, 1.05])\n",
    "plt.xlabel('False Positive Rate')\n",
    "plt.ylabel('True Positive Rate')\n",
    "plt.title('Receiver operating characteristic')\n",
    "plt.legend(loc=\"lower right\")\n",
    "plt.savefig('Log_ROC')\n",
    "plt.show()"
   ]
  },
  {
   "cell_type": "code",
   "execution_count": 58,
   "metadata": {},
   "outputs": [],
   "source": [
    "y_pred = model.predict_proba(X_test)"
   ]
  },
  {
   "cell_type": "code",
   "execution_count": 59,
   "metadata": {},
   "outputs": [
    {
     "data": {
      "text/plain": [
       "array([[0., 1.],\n",
       "       [0., 1.],\n",
       "       [0., 1.],\n",
       "       ...,\n",
       "       [1., 0.],\n",
       "       [0., 1.],\n",
       "       [0., 1.]], dtype=float32)"
      ]
     },
     "execution_count": 59,
     "metadata": {},
     "output_type": "execute_result"
    }
   ],
   "source": [
    "y_pred"
   ]
  },
  {
   "cell_type": "code",
   "execution_count": null,
   "metadata": {},
   "outputs": [],
   "source": []
  }
 ],
 "metadata": {
  "kernelspec": {
   "display_name": "Python 3",
   "language": "python",
   "name": "python3"
  },
  "language_info": {
   "codemirror_mode": {
    "name": "ipython",
    "version": 3
   },
   "file_extension": ".py",
   "mimetype": "text/x-python",
   "name": "python",
   "nbconvert_exporter": "python",
   "pygments_lexer": "ipython3",
   "version": "3.7.1"
  }
 },
 "nbformat": 4,
 "nbformat_minor": 2
}
