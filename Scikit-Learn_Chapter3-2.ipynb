{
 "cells": [
  {
   "cell_type": "markdown",
   "metadata": {},
   "source": [
    "# Dimentionality Reduction"
   ]
  },
  {
   "cell_type": "markdown",
   "metadata": {},
   "source": [
    "## <font color = 'red'> Principal Component Analysis </font>"
   ]
  },
  {
   "cell_type": "code",
   "execution_count": 1,
   "metadata": {},
   "outputs": [],
   "source": [
    "# import modules\n",
    "\n",
    "import numpy as np\n",
    "import pandas as pd\n",
    "\n",
    "# ignore warnings\n",
    "\n",
    "from warnings import filterwarnings\n",
    "filterwarnings('ignore')"
   ]
  },
  {
   "cell_type": "code",
   "execution_count": 2,
   "metadata": {},
   "outputs": [],
   "source": [
    "# load cancer data\n",
    "\n",
    "from sklearn.datasets import load_breast_cancer\n",
    "\n",
    "cancer = load_breast_cancer()"
   ]
  },
  {
   "cell_type": "code",
   "execution_count": 3,
   "metadata": {},
   "outputs": [],
   "source": [
    "# split the data into traning and testing datasets\n",
    "\n",
    "from sklearn.model_selection import train_test_split\n",
    "\n",
    "X_train, X_test, y_train, y_test = train_test_split(cancer.data, cancer.target, test_size = 0.3, random_state = 0)"
   ]
  },
  {
   "cell_type": "code",
   "execution_count": 4,
   "metadata": {},
   "outputs": [],
   "source": [
    "# scale the data using standard scalar\n",
    "\n",
    "from sklearn.preprocessing import StandardScaler\n",
    "\n",
    "scaler = StandardScaler()\n",
    "\n",
    "X_train_scaled = scaler.fit_transform(X_train)"
   ]
  },
  {
   "cell_type": "code",
   "execution_count": 8,
   "metadata": {},
   "outputs": [
    {
     "name": "stdout",
     "output_type": "stream",
     "text": [
      "(398, 30)\n",
      "(398, 30)\n"
     ]
    }
   ],
   "source": [
    "# get shape of X_train and X_train_scaled\n",
    "# the shape is same after scaling\n",
    "\n",
    "print(X_train.shape)\n",
    "print(X_train_scaled.shape)"
   ]
  },
  {
   "cell_type": "code",
   "execution_count": 9,
   "metadata": {},
   "outputs": [],
   "source": [
    "# apply PCA\n",
    "\n",
    "from sklearn.decomposition import PCA\n",
    "\n",
    "pca = PCA(n_components=2)\n",
    "\n",
    "X_train_scaled_pca = pca.fit_transform(X_train_scaled)"
   ]
  },
  {
   "cell_type": "code",
   "execution_count": 11,
   "metadata": {},
   "outputs": [
    {
     "name": "stdout",
     "output_type": "stream",
     "text": [
      "Original Shape: (398, 30)\n",
      "Reduced Shape: (398, 2)\n"
     ]
    }
   ],
   "source": [
    "# get the shape difference\n",
    "\n",
    "print('Original Shape: {}'.format(X_train_scaled.shape))\n",
    "print('Reduced Shape: {}'.format(X_train_scaled_pca.shape))"
   ]
  },
  {
   "cell_type": "code",
   "execution_count": 12,
   "metadata": {},
   "outputs": [
    {
     "data": {
      "text/plain": [
       "array([[ 0.22183507,  0.09843155,  0.22977848,  0.22359875,  0.14361794,\n",
       "         0.24172028,  0.26117979,  0.26365091,  0.13344334,  0.05618948,\n",
       "         0.20608943,  0.00574103,  0.20897881,  0.20175717,  0.02075672,\n",
       "         0.16636418,  0.14596337,  0.17896059,  0.03027705,  0.10040736,\n",
       "         0.23037171,  0.09964167,  0.23768526,  0.22703082,  0.13272872,\n",
       "         0.20907174,  0.23287611,  0.25249875,  0.11996997,  0.1284259 ],\n",
       "       [-0.22836001, -0.05227985, -0.21163994, -0.22571516,  0.18522104,\n",
       "         0.14839872,  0.05632136, -0.03004301,  0.19741043,  0.36648338,\n",
       "        -0.10470902,  0.10205632, -0.09744722, -0.14923662,  0.21594272,\n",
       "         0.23257301,  0.20088492,  0.14419154,  0.18104981,  0.27888278,\n",
       "        -0.21449313, -0.03456265, -0.19843682, -0.21444239,  0.1796883 ,\n",
       "         0.14004561,  0.09232704, -0.00178006,  0.14677585,  0.27493669]])"
      ]
     },
     "execution_count": 12,
     "metadata": {},
     "output_type": "execute_result"
    }
   ],
   "source": [
    "pca.components_"
   ]
  },
  {
   "cell_type": "code",
   "execution_count": null,
   "metadata": {},
   "outputs": [],
   "source": []
  }
 ],
 "metadata": {
  "kernelspec": {
   "display_name": "Python 3",
   "language": "python",
   "name": "python3"
  },
  "language_info": {
   "codemirror_mode": {
    "name": "ipython",
    "version": 3
   },
   "file_extension": ".py",
   "mimetype": "text/x-python",
   "name": "python",
   "nbconvert_exporter": "python",
   "pygments_lexer": "ipython3",
   "version": "3.7.1"
  }
 },
 "nbformat": 4,
 "nbformat_minor": 2
}
