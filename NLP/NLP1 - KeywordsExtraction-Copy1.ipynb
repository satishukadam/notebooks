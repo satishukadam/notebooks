{
 "cells": [
  {
   "cell_type": "code",
   "execution_count": 1,
   "metadata": {},
   "outputs": [],
   "source": [
    "# import basic modules\n",
    "import numpy as np\n",
    "import pandas as pd\n",
    "from collections import Counter\n",
    "\n",
    "#import NLTK modules\n",
    "from nltk.corpus import stopwords \n",
    "from nltk.tokenize import word_tokenize \n",
    "from nltk.tokenize import RegexpTokenizer\n",
    "from nltk.stem.lancaster import LancasterStemmer\n",
    "from nltk.stem import PorterStemmer\n",
    "from nltk.stem import WordNetLemmatizer\n",
    "import nltk\n",
    "\n",
    "# read data file\n",
    "df = pd.read_excel('D:/Intelliza_Projects/NLP/test.xlsx')\n",
    "\n",
    "# append the data into comtent field\n",
    "df['content'] = df.iloc[:,0] + df.iloc[:,1] + df.iloc[:,2]\n",
    "\n",
    "#convert data from content field to text\n",
    "txt = df['content'].astype(str)\n",
    "\n",
    "# function to clean the text from stopwords, punctuations and perform lemmatization\n",
    "def cleanText(contentString):\n",
    "    tokenizer = RegexpTokenizer(r'\\w+')\n",
    "    tokenizedString = tokenizer.tokenize(contentString)\n",
    "    stop = stopwords.words('english')\n",
    "    stopwordsRemovedString = [i for i in tokenizedString if i not in stop]\n",
    "    lemmatizedList = []\n",
    "    wordnet_lemmatizer = WordNetLemmatizer()\n",
    "    lemmatizedString = [wordnet_lemmatizer.lemmatize(i, pos=\"v\") for i in stopwordsRemovedString]\n",
    "    lemmatizedList.append(lemmatizedString)\n",
    "    return lemmatizedList"
   ]
  },
  {
   "cell_type": "code",
   "execution_count": 2,
   "metadata": {},
   "outputs": [],
   "source": [
    "tmp = cleanText(txt[0])"
   ]
  },
  {
   "cell_type": "code",
   "execution_count": 3,
   "metadata": {},
   "outputs": [],
   "source": [
    "def pos(contentString):\n",
    "    tokenizer = RegexpTokenizer(r'\\w+')\n",
    "    tokenizedString = tokenizer.tokenize(contentString)\n",
    "    return nltk.pos_tag(tokenizedString)"
   ]
  },
  {
   "cell_type": "code",
   "execution_count": 4,
   "metadata": {},
   "outputs": [],
   "source": [
    "tags = pos(txt[0])"
   ]
  },
  {
   "cell_type": "code",
   "execution_count": 13,
   "metadata": {
    "scrolled": true
   },
   "outputs": [
    {
     "name": "stdout",
     "output_type": "stream",
     "text": [
      "Counter({'NN': 11, 'IN': 11, 'JJ': 10, 'CD': 8, 'NNS': 8, 'VBZ': 6, 'DT': 5, 'NNP': 4, 'TO': 3, 'WDT': 3, 'JJR': 3, 'VB': 2, 'CC': 2, 'PRP': 2, 'VBN': 2, 'RB': 2, 'VBP': 2, 'VBD': 1})\n"
     ]
    }
   ],
   "source": [
    "counts = Counter(tag for word,  tag in tags)\n",
    "print(counts)"
   ]
  },
  {
   "cell_type": "code",
   "execution_count": 6,
   "metadata": {},
   "outputs": [],
   "source": [
    "# result = dict((k, v) for k, v in coun_dict.items() if k in ('CD','NN','NNP', 'VB','VBD', 'VBZ','JJ','JJR')  )"
   ]
  },
  {
   "cell_type": "code",
   "execution_count": 7,
   "metadata": {},
   "outputs": [],
   "source": [
    "filtered_result = [i for i in tags if i[1] in ('CD','NN','NNP','NNS', 'VB','VBD','JJ','JJR') ]"
   ]
  },
  {
   "cell_type": "code",
   "execution_count": 8,
   "metadata": {},
   "outputs": [],
   "source": [
    "filtered_result2 = set(filtered_result)"
   ]
  },
  {
   "cell_type": "code",
   "execution_count": 9,
   "metadata": {},
   "outputs": [
    {
     "data": {
      "text/plain": [
       "{('3', 'CD'),\n",
       " ('4', 'CD'),\n",
       " ('404', 'CD'),\n",
       " ('40mm', 'CD'),\n",
       " ('50mm', 'CD'),\n",
       " ('650MPa', 'CD'),\n",
       " ('Gives', 'NNS'),\n",
       " ('ISC', 'NNP'),\n",
       " ('Strength', 'NNP'),\n",
       " ('Ultrashine', 'NNP'),\n",
       " ('XL', 'NNP'),\n",
       " ('announce', 'VB'),\n",
       " ('competition', 'NN'),\n",
       " ('durability', 'NN'),\n",
       " ('feet', 'NNS'),\n",
       " ('launch', 'NN'),\n",
       " ('more', 'JJR'),\n",
       " ('new', 'JJ'),\n",
       " ('other', 'JJ'),\n",
       " ('salt', 'JJ'),\n",
       " ('same', 'JJ'),\n",
       " ('sheet', 'NN'),\n",
       " ('sheets', 'NNS'),\n",
       " ('spray', 'NN'),\n",
       " ('steel', 'NN'),\n",
       " ('strong', 'JJ'),\n",
       " ('strongThe', 'VB'),\n",
       " ('tensile', 'JJ'),\n",
       " ('tested', 'VBD'),\n",
       " ('thick', 'NN'),\n",
       " ('thinner', 'JJR'),\n",
       " ('weight', 'NN'),\n",
       " ('wide', 'JJ'),\n",
       " ('width', 'JJ'),\n",
       " ('width', 'NNS')}"
      ]
     },
     "execution_count": 9,
     "metadata": {},
     "output_type": "execute_result"
    }
   ],
   "source": [
    "filtered_result2"
   ]
  },
  {
   "cell_type": "code",
   "execution_count": 10,
   "metadata": {},
   "outputs": [],
   "source": [
    "filtered_result = [i for i in tags if i[1] in ('NN','NNP','NNS', 'VB','VBD','JJ','JJR') ]"
   ]
  },
  {
   "cell_type": "code",
   "execution_count": 11,
   "metadata": {},
   "outputs": [
    {
     "data": {
      "text/plain": [
       "[('announce', 'VB'),\n",
       " ('launch', 'NN'),\n",
       " ('Ultrashine', 'NNP'),\n",
       " ('XL', 'NNP'),\n",
       " ('thinner', 'JJR'),\n",
       " ('other', 'JJ'),\n",
       " ('steel', 'NN'),\n",
       " ('sheets', 'NNS'),\n",
       " ('strongThe', 'VB'),\n",
       " ('new', 'JJ'),\n",
       " ('sheet', 'NN'),\n",
       " ('ISC', 'NNP'),\n",
       " ('thinner', 'JJR'),\n",
       " ('other', 'JJ'),\n",
       " ('steel', 'NN'),\n",
       " ('sheets', 'NNS'),\n",
       " ('strong', 'JJ'),\n",
       " ('more', 'JJR'),\n",
       " ('width', 'NNS'),\n",
       " ('same', 'JJ'),\n",
       " ('weight', 'NN'),\n",
       " ('thick', 'NN'),\n",
       " ('competition', 'NN'),\n",
       " ('tensile', 'JJ'),\n",
       " ('Strength', 'NNP'),\n",
       " ('sheet', 'NN'),\n",
       " ('strong', 'JJ'),\n",
       " ('Gives', 'NNS'),\n",
       " ('sheets', 'NNS'),\n",
       " ('feet', 'NNS'),\n",
       " ('width', 'JJ'),\n",
       " ('competition', 'NN'),\n",
       " ('feet', 'NNS'),\n",
       " ('wide', 'JJ'),\n",
       " ('sheets', 'NNS'),\n",
       " ('salt', 'JJ'),\n",
       " ('spray', 'NN'),\n",
       " ('tested', 'VBD'),\n",
       " ('durability', 'NN')]"
      ]
     },
     "execution_count": 11,
     "metadata": {},
     "output_type": "execute_result"
    }
   ],
   "source": [
    "filtered_result"
   ]
  },
  {
   "cell_type": "code",
   "execution_count": null,
   "metadata": {},
   "outputs": [],
   "source": []
  }
 ],
 "metadata": {
  "kernelspec": {
   "display_name": "Python 3",
   "language": "python",
   "name": "python3"
  },
  "language_info": {
   "codemirror_mode": {
    "name": "ipython",
    "version": 3
   },
   "file_extension": ".py",
   "mimetype": "text/x-python",
   "name": "python",
   "nbconvert_exporter": "python",
   "pygments_lexer": "ipython3",
   "version": "3.7.1"
  }
 },
 "nbformat": 4,
 "nbformat_minor": 2
}
