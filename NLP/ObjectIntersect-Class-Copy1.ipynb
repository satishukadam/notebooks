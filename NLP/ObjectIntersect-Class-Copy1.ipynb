{
 "cells": [
  {
   "cell_type": "code",
   "execution_count": 62,
   "metadata": {},
   "outputs": [],
   "source": [
    "import numpy as np\n",
    "import cv2\n",
    "import matplotlib.pyplot as plt\n",
    "%matplotlib inline\n",
    "from PlaceImageLogo import PlaceImageLogo"
   ]
  },
  {
   "cell_type": "code",
   "execution_count": 55,
   "metadata": {},
   "outputs": [],
   "source": [
    "image1 = cv2.imread('D:/Study/DataScience/OpenCV/basket1.jpg')\n",
    "tagline1 = 'This is the tagline'\n",
    "\n",
    "#image_logo = False\n",
    "image_logo = False"
   ]
  },
  {
   "cell_type": "code",
   "execution_count": 58,
   "metadata": {},
   "outputs": [],
   "source": [
    "class ObjectIntersect:\n",
    "    \n",
    "    def __init__(self):\n",
    "        self\n",
    "        \n",
    "    def object_intersect(self, image, tagline): \n",
    "        \n",
    "        self.image = cv2.cvtColor(image, cv2.COLOR_BGR2RGB)\n",
    "\n",
    "        self.img_gr = cv2.cvtColor(self.image, cv2.COLOR_BGR2GRAY)\n",
    "\n",
    "        self.ret, self.thresh = cv2.threshold(self.img_gr, 127, 255, 0)\n",
    "\n",
    "        self.contours, self.heirarchy = cv2.findContours(self.thresh, cv2.RETR_TREE, cv2.CHAIN_APPROX_NONE)\n",
    "     \n",
    "        # font \n",
    "        self.font = cv2.FONT_HERSHEY_SIMPLEX \n",
    "\n",
    "        # fontScale \n",
    "        self.fontScale = 2\n",
    "        \n",
    "        # Yellow font color in RGB \n",
    "        color = (255,0,0) \n",
    "  \n",
    "        # Line thickness of 2 px \n",
    "        self.thickness = 2\n",
    "\n",
    "        # text to be placed on image\n",
    "        self.tagline = tagline\n",
    "        \n",
    "        self.textsize = cv2.getTextSize(self.tagline, self.font, self.fontScale, self.thickness)[0]\n",
    "\n",
    "        # origin \n",
    "        self.org_top = (int((self.image.shape[1]-self.textsize[0])/2),int(self.image.shape[0]*15/100))\n",
    "\n",
    "        self.org_bottom = (int((self.image.shape[1]-self.textsize[0])/2),self.image.shape[0] - int(self.image.shape[0]*15/100))\n",
    "  \n",
    "\n",
    "        for contour in self.contours:\n",
    "            (self.x, self.y, self.w, self.h) = cv2.boundingRect(contour)\n",
    "            \n",
    "            if (self.x >= self.org_top[0] and self.x <= self.org_top[0] + self.textsize[0]) and (self.y >= self.org_top[1] - self.textsize[1] and self.y <= self.org_top[1]):\n",
    "                return True\n",
    "                break\n",
    "  \n",
    "        # This else executes only if break is NEVER reached and loop terminated after all iterations. \n",
    "        else:\n",
    "            return False "
   ]
  },
  {
   "cell_type": "code",
   "execution_count": 21,
   "metadata": {},
   "outputs": [],
   "source": [
    "t = ObjectIntersect()"
   ]
  },
  {
   "cell_type": "code",
   "execution_count": 52,
   "metadata": {},
   "outputs": [],
   "source": [
    "is_intersect = t.object_intersect(image1, tagline1)"
   ]
  },
  {
   "cell_type": "code",
   "execution_count": 61,
   "metadata": {},
   "outputs": [
    {
     "name": "stdout",
     "output_type": "stream",
     "text": [
      "Has intersect and no logo\n"
     ]
    }
   ],
   "source": [
    "if is_intersect:\n",
    "    if image_logo is False:\n",
    "        print('Has intersect and no logo')\n",
    "        # tagged_image = cv2.putText(image, text, org_btm, font, fontScale, color, thickness, cv2.LINE_AA)\n",
    "        # imagetagline bottom\n",
    "    else:\n",
    "        print('Has intersect and logo')\n",
    "        # place_logo(image, logo, location) --> tmp.place_logo(image, logo, 'tl')\n",
    "        #tagged_image = cv2.putText(image, text, org_btm, font, fontScale, color, thickness, cv2.LINE_AA)\n",
    "        \n",
    "else:\n",
    "    if image_logo is False:\n",
    "        print('Has no intersect and no logo')\n",
    "        # tagged_image = cv2.putText(image, text, org_top, font, fontScale, color, thickness, cv2.LINE_AA)\n",
    "        # imagetagline top\n",
    "    else:\n",
    "        print('Has no intersect and logo')\n",
    "        #tmp.place_logo(image, logo) --> place_logo(image, logo)\n",
    "        # tagged_image = cv2.putText(image, text, org_top, font, fontScale, color, thickness, cv2.LINE_AA)"
   ]
  },
  {
   "cell_type": "code",
   "execution_count": null,
   "metadata": {},
   "outputs": [],
   "source": []
  }
 ],
 "metadata": {
  "kernelspec": {
   "display_name": "Python 3",
   "language": "python",
   "name": "python3"
  },
  "language_info": {
   "codemirror_mode": {
    "name": "ipython",
    "version": 3
   },
   "file_extension": ".py",
   "mimetype": "text/x-python",
   "name": "python",
   "nbconvert_exporter": "python",
   "pygments_lexer": "ipython3",
   "version": "3.7.3"
  }
 },
 "nbformat": 4,
 "nbformat_minor": 2
}
