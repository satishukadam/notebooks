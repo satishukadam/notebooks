{
 "cells": [
  {
   "cell_type": "code",
   "execution_count": 1,
   "metadata": {},
   "outputs": [
    {
     "name": "stdout",
     "output_type": "stream",
     "text": [
      "Enter Search Query: hurdy gurdy\n",
      "Directory :  D:\\Study\\Python\\Practice\\hurdy gurdy  Created \n"
     ]
    }
   ],
   "source": [
    "from bs4 import BeautifulSoup\n",
    "import requests\n",
    "import urllib.request\n",
    "import os\n",
    "\n",
    "query = input('Enter Search Query: ')\n",
    "\n",
    "root_path = 'D:\\Study\\Python\\Practice' \n",
    "\n",
    "image_dir = os.path.join(root_path, query)\n",
    "\n",
    "\n",
    "if not os.path.exists(image_dir):\n",
    "    os.mkdir(image_dir)\n",
    "    print(\"Directory : \" , image_dir ,  \" Created \")\n",
    "else:    \n",
    "    print(\"Directory : \" , image_dir ,  \" already exists\")\n",
    "\n",
    "\n",
    "url = 'https://stocksnap.io/search/' + query\n",
    "\n",
    "# get contents from url\n",
    "headers = {'User-Agent': 'Chrome/76.0.3809.100'}\n",
    "content = requests.get(url, headers = headers).content\n",
    "\n",
    "# get soup\n",
    "soup = BeautifulSoup(content,'lxml') # choose lxml parser\n",
    "\n",
    "# find the tag : <img ... >\n",
    "image_tags = soup.findAll('img')\n",
    "\n",
    "# print out image urls\n",
    "#for image_tag in image_tags:\n",
    "#    print(image_tag.get('src'))\n",
    "\n",
    "# make a list of all the image urls\n",
    "list_of_images = [image_tag.get('src') for image_tag in image_tags]\n",
    "\n",
    "# Remove none values from the list\n",
    "\n",
    "#list_of_images_non_none = [val for val in list_of_images if val != None]\n",
    "\n",
    "# Add only valid image urls\n",
    "\n",
    "######filtered_list_of_images = [k for k in list_of_images if 'jpg' in k]\n",
    "filtered_list_of_images = [k for k in list_of_images if 'image.shutterstock.com' in k]\n",
    "\n",
    "\n",
    "def download_image(filtered_list_of_images):\n",
    "    for image in filtered_list_of_images:\n",
    "        name = image.split('/')[-1] + '.jpg'\n",
    "        urllib.request.urlretrieve(image, os.path.join(image_dir, name))\n",
    "        \n",
    "download_image(filtered_list_of_images)"
   ]
  },
  {
   "cell_type": "code",
   "execution_count": null,
   "metadata": {},
   "outputs": [],
   "source": []
  }
 ],
 "metadata": {
  "kernelspec": {
   "display_name": "Python 3",
   "language": "python",
   "name": "python3"
  },
  "language_info": {
   "codemirror_mode": {
    "name": "ipython",
    "version": 3
   },
   "file_extension": ".py",
   "mimetype": "text/x-python",
   "name": "python",
   "nbconvert_exporter": "python",
   "pygments_lexer": "ipython3",
   "version": "3.7.3"
  }
 },
 "nbformat": 4,
 "nbformat_minor": 2
}
