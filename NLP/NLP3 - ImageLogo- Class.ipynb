{
 "cells": [
  {
   "cell_type": "code",
   "execution_count": null,
   "metadata": {},
   "outputs": [],
   "source": [
    "import numpy as np\n",
    "import cv2\n",
    "import matplotlib.pyplot as plt\n",
    "%matplotlib inline"
   ]
  },
  {
   "cell_type": "code",
   "execution_count": null,
   "metadata": {},
   "outputs": [],
   "source": [
    "# read image\n",
    "\n",
    "image = cv2.imread(\"D:\\Study\\DataScience\\OpenCV\\car1.jpg\")\n",
    "image = cv2.cvtColor(image, cv2.COLOR_BGR2RGB)\n",
    "\n",
    "# read logo\n",
    "logo = cv2.imread(\"D:\\Study\\DataScience\\OpenCV\\logo.jpg\")\n",
    "logo = cv2.cvtColor(logo, cv2.COLOR_BGR2RGB)\n",
    "logo = cv2.resize(logo, (160, 80))"
   ]
  },
  {
   "cell_type": "code",
   "execution_count": null,
   "metadata": {},
   "outputs": [],
   "source": [
    "class PlaceImageLogo:\n",
    "    \n",
    "    def __init__(self):\n",
    "        self\n",
    "    \n",
    "    def place_logo(self, image, logo, loc = None):\n",
    "        \n",
    "        self.image = image\n",
    "        self.logo = logo\n",
    "        self.loc = loc\n",
    "            \n",
    "        self.x_offset = 50\n",
    "        self.y_offset = 50\n",
    "        \n",
    "        assert image.shape[0] > logo.shape[0], \"Height of main image is less than logo image\"\n",
    "        assert image.shape[1] > logo.shape[1], \"Width of main image in less than logo image\"\n",
    "        \n",
    "        if self.loc is None:\n",
    "            self.loc == 'bc'\n",
    "            \n",
    "            self.image[self.image.shape[0]-self.logo.shape[0]-self.y_offset:self.image.shape[0]-self.y_offset,\n",
    "              int(self.image.shape[1]-self.logo.shape[1])//2:int(self.image.shape[1]-self.logo.shape[1])//2 + self.logo.shape[1]] = self.logo\n",
    "            \n",
    "        else:\n",
    " \n",
    "            assert self.loc in ['tl', 'bl', 'tr', 'br'], \"Please specify corrent location from 'tl', 'bl', 'tr', 'br'\"\n",
    "        \n",
    "          \n",
    "            if self.loc == 'br':\n",
    "                self.image[self.image.shape[0]- self.logo.shape[0]-self.y_offset:self.image.shape[0]-self.y_offset, \n",
    "                  self.image.shape[1]- self.logo.shape[1]-self.x_offset:self.image.shape[1]-self.x_offset] = self.logo\n",
    "            \n",
    "            elif self.loc == 'tl':\n",
    "                self.image[self.y_offset:self.y_offset+self.logo.shape[0], self.x_offset:self.x_offset+self.logo.shape[1]] = self.logo\n",
    "            \n",
    "            elif self.loc == 'bl':\n",
    "                self.image[self.image.shape[0]- logo.shape[0]-self.y_offset:self.image.shape[0]-self.y_offset, \n",
    "                  self.x_offset:self.x_offset+self.logo.shape[1]] = self.logo\n",
    "            \n",
    "            elif self.loc == 'tr':\n",
    "                self.image[self.y_offset:self.y_offset+self.logo.shape[0], \n",
    "                  self.image.shape[1]- self.logo.shape[1]-self.x_offset:self.image.shape[1]-self.x_offset] = self.logo\n",
    " \n",
    "\n",
    "        return self.image\n",
    " "
   ]
  },
  {
   "cell_type": "code",
   "execution_count": null,
   "metadata": {},
   "outputs": [],
   "source": []
  }
 ],
 "metadata": {
  "kernelspec": {
   "display_name": "Python 3",
   "language": "python",
   "name": "python3"
  },
  "language_info": {
   "codemirror_mode": {
    "name": "ipython",
    "version": 3
   },
   "file_extension": ".py",
   "mimetype": "text/x-python",
   "name": "python",
   "nbconvert_exporter": "python",
   "pygments_lexer": "ipython3",
   "version": "3.7.3"
  }
 },
 "nbformat": 4,
 "nbformat_minor": 2
}
