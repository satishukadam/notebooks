{
 "cells": [
  {
   "cell_type": "code",
   "execution_count": 2,
   "metadata": {},
   "outputs": [],
   "source": [
    "from PIL import ImageFont, ImageDraw, Image\n",
    "import numpy as np\n",
    "import cv2"
   ]
  },
  {
   "cell_type": "code",
   "execution_count": 3,
   "metadata": {},
   "outputs": [
    {
     "ename": "NameError",
     "evalue": "name 'cv2_im_processed' is not defined",
     "output_type": "error",
     "traceback": [
      "\u001b[1;31m---------------------------------------------------------------------------\u001b[0m",
      "\u001b[1;31mNameError\u001b[0m                                 Traceback (most recent call last)",
      "\u001b[1;32m<ipython-input-3-ae07c06b8dac>\u001b[0m in \u001b[0;36m<module>\u001b[1;34m\u001b[0m\n\u001b[0;32m     18\u001b[0m \u001b[1;33m\u001b[0m\u001b[0m\n\u001b[0;32m     19\u001b[0m \u001b[1;33m\u001b[0m\u001b[0m\n\u001b[1;32m---> 20\u001b[1;33m draw.text((cv2_im_processed.shape[1]/2, cv2_im_processed.shape[0]/2),\n\u001b[0m\u001b[0;32m     21\u001b[0m           \"Your Text Here\", font=font,  fill=(250,250,250))\n\u001b[0;32m     22\u001b[0m \u001b[1;33m\u001b[0m\u001b[0m\n",
      "\u001b[1;31mNameError\u001b[0m: name 'cv2_im_processed' is not defined"
     ]
    }
   ],
   "source": [
    "image = cv2.imread(\"D:/Intelliza_Projects/NLP/ImageDownload/thin steel sheet/image.jpg\")\n",
    "\n",
    "# Convert to PIL Image\n",
    "cv2_im_rgb = cv2.cvtColor(image, cv2.COLOR_BGR2RGB)\n",
    "pil_im = Image.fromarray(cv2_im_rgb)\n",
    "\n",
    "draw = ImageDraw.Draw(pil_im)\n",
    "\n",
    "# Choose a font\n",
    "font = ImageFont.truetype(\"ARLRDBD.TTF\", 40)\n",
    "\n",
    "# Draw the text\n",
    "\n",
    "text = \"Enter Text\"\n",
    "\n",
    "draw.text((0, 0), text , font=font,  fill=(250,250,250))\n",
    "\n",
    "\n",
    "\n",
    "draw.text((cv2_im_processed.shape[1]/2, cv2_im_processed.shape[0]/2),\n",
    "          \"Your Text Here\", font=font,  fill=(250,250,250))\n",
    "\n",
    "text_width, text_height = draw.textsize(text)\n",
    "position = ((cv2_im_processed.shape[0]-text_width)/2,(cv2_im_processed.shape[1]-text_height)/2)\n",
    "draw.text(position,text,(255,255,255),font=font)\n",
    "\n",
    "# Save the image\n",
    "cv2_im_processed = cv2.cvtColor(np.array(pil_im), cv2.COLOR_RGB2BGR)\n",
    "cv2.imwrite(\"result.png\", cv2_im_processed)\n",
    "\n",
    "##img = cv2.imread(\"pyimg.jpg\")\n",
    "cv2.imshow('Image Template', cv2_im_processed)\n",
    "cv2.waitKey(0)"
   ]
  },
  {
   "cell_type": "code",
   "execution_count": null,
   "metadata": {},
   "outputs": [],
   "source": [
    "draw.textsize(text)"
   ]
  },
  {
   "cell_type": "code",
   "execution_count": null,
   "metadata": {},
   "outputs": [],
   "source": [
    "width, height = cv2_im_processed.size"
   ]
  },
  {
   "cell_type": "code",
   "execution_count": null,
   "metadata": {},
   "outputs": [],
   "source": []
  }
 ],
 "metadata": {
  "kernelspec": {
   "display_name": "Python 3",
   "language": "python",
   "name": "python3"
  },
  "language_info": {
   "codemirror_mode": {
    "name": "ipython",
    "version": 3
   },
   "file_extension": ".py",
   "mimetype": "text/x-python",
   "name": "python",
   "nbconvert_exporter": "python",
   "pygments_lexer": "ipython3",
   "version": "3.7.3"
  }
 },
 "nbformat": 4,
 "nbformat_minor": 2
}
