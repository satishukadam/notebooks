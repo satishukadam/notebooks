{
 "cells": [
  {
   "cell_type": "code",
   "execution_count": 1,
   "metadata": {},
   "outputs": [],
   "source": [
    "# Import required libraries\n",
    "import numpy as np\n",
    "import pandas as pd\n",
    "import re\n",
    "import tensorflow as tf\n",
    "import tensorflow_hub as hub\n",
    "from tensorflow.keras.models import Model\n",
    "from tensorflow.keras import layers\n",
    "import bert\n",
    "from tqdm import tqdm\n",
    "from collections import namedtuple"
   ]
  },
  {
   "cell_type": "code",
   "execution_count": 261,
   "metadata": {},
   "outputs": [],
   "source": [
    "from transformers import BertTokenizer, TFBertModel\n",
    "tokenizer = BertTokenizer.from_pretrained('bert-base-uncased', do_lower_case = True)"
   ]
  },
  {
   "cell_type": "code",
   "execution_count": 3,
   "metadata": {},
   "outputs": [
    {
     "data": {
      "text/plain": [
       "(50000, 2)"
      ]
     },
     "execution_count": 3,
     "metadata": {},
     "output_type": "execute_result"
    }
   ],
   "source": [
    "# Read the dataset\n",
    "df = pd.read_csv(\"D:\\\\Study\\\\DataScience\\\\Projects\\\\AI-Advertising\\\\SentimentAnalysis\\\\sentiments.csv\")\n",
    "\n",
    "df.isnull().values.any()\n",
    "df.shape"
   ]
  },
  {
   "cell_type": "code",
   "execution_count": null,
   "metadata": {},
   "outputs": [],
   "source": [
    "data = df[:5]\n",
    "X = data['review'].fillna(\"CVxTz\").values\n",
    "\n",
    "y = data['sentiment']\n",
    "\n",
    "y = np.array(list(map(lambda x: 1 if x==\"positive\" else 0, y)))\n",
    "\n",
    "data['y'] = y"
   ]
  },
  {
   "cell_type": "code",
   "execution_count": 4,
   "metadata": {},
   "outputs": [
    {
     "name": "stderr",
     "output_type": "stream",
     "text": [
      "C:\\ProgramData\\Anaconda3\\envs\\nlp_bert\\lib\\site-packages\\pandas\\core\\indexing.py:845: SettingWithCopyWarning: \n",
      "A value is trying to be set on a copy of a slice from a DataFrame.\n",
      "Try using .loc[row_indexer,col_indexer] = value instead\n",
      "\n",
      "See the caveats in the documentation: https://pandas.pydata.org/pandas-docs/stable/user_guide/indexing.html#returning-a-view-versus-a-copy\n",
      "  self.obj[key] = _infer_fill_value(value)\n",
      "C:\\ProgramData\\Anaconda3\\envs\\nlp_bert\\lib\\site-packages\\pandas\\core\\indexing.py:966: SettingWithCopyWarning: \n",
      "A value is trying to be set on a copy of a slice from a DataFrame.\n",
      "Try using .loc[row_indexer,col_indexer] = value instead\n",
      "\n",
      "See the caveats in the documentation: https://pandas.pydata.org/pandas-docs/stable/user_guide/indexing.html#returning-a-view-versus-a-copy\n",
      "  self.obj[item] = s\n"
     ]
    }
   ],
   "source": [
    "train_data = df[:5]\n",
    "train_data.loc[:, 'y'] =  np.where((train_data.loc[:, 'sentiment'] == 'positive') , 1, 0)"
   ]
  },
  {
   "cell_type": "code",
   "execution_count": 5,
   "metadata": {},
   "outputs": [],
   "source": [
    "val_data = df[5:10]\n",
    "val_data.loc[:, 'y'] =  np.where((val_data.loc[:, 'sentiment'] == 'positive') , 1, 0)"
   ]
  },
  {
   "cell_type": "code",
   "execution_count": 8,
   "metadata": {},
   "outputs": [
    {
     "data": {
      "text/html": [
       "<div>\n",
       "<style scoped>\n",
       "    .dataframe tbody tr th:only-of-type {\n",
       "        vertical-align: middle;\n",
       "    }\n",
       "\n",
       "    .dataframe tbody tr th {\n",
       "        vertical-align: top;\n",
       "    }\n",
       "\n",
       "    .dataframe thead th {\n",
       "        text-align: right;\n",
       "    }\n",
       "</style>\n",
       "<table border=\"1\" class=\"dataframe\">\n",
       "  <thead>\n",
       "    <tr style=\"text-align: right;\">\n",
       "      <th></th>\n",
       "      <th>review</th>\n",
       "      <th>sentiment</th>\n",
       "      <th>y</th>\n",
       "    </tr>\n",
       "  </thead>\n",
       "  <tbody>\n",
       "    <tr>\n",
       "      <th>0</th>\n",
       "      <td>One of the other reviewers has mentioned that ...</td>\n",
       "      <td>positive</td>\n",
       "      <td>1</td>\n",
       "    </tr>\n",
       "    <tr>\n",
       "      <th>1</th>\n",
       "      <td>A wonderful little production. &lt;br /&gt;&lt;br /&gt;The...</td>\n",
       "      <td>positive</td>\n",
       "      <td>1</td>\n",
       "    </tr>\n",
       "    <tr>\n",
       "      <th>2</th>\n",
       "      <td>I thought this was a wonderful way to spend ti...</td>\n",
       "      <td>positive</td>\n",
       "      <td>1</td>\n",
       "    </tr>\n",
       "    <tr>\n",
       "      <th>3</th>\n",
       "      <td>Basically there's a family where a little boy ...</td>\n",
       "      <td>negative</td>\n",
       "      <td>0</td>\n",
       "    </tr>\n",
       "    <tr>\n",
       "      <th>4</th>\n",
       "      <td>Petter Mattei's \"Love in the Time of Money\" is...</td>\n",
       "      <td>positive</td>\n",
       "      <td>1</td>\n",
       "    </tr>\n",
       "  </tbody>\n",
       "</table>\n",
       "</div>"
      ],
      "text/plain": [
       "                                              review sentiment  y\n",
       "0  One of the other reviewers has mentioned that ...  positive  1\n",
       "1  A wonderful little production. <br /><br />The...  positive  1\n",
       "2  I thought this was a wonderful way to spend ti...  positive  1\n",
       "3  Basically there's a family where a little boy ...  negative  0\n",
       "4  Petter Mattei's \"Love in the Time of Money\" is...  positive  1"
      ]
     },
     "execution_count": 8,
     "metadata": {},
     "output_type": "execute_result"
    }
   ],
   "source": [
    "train_data"
   ]
  },
  {
   "cell_type": "code",
   "execution_count": 302,
   "metadata": {},
   "outputs": [],
   "source": [
    "#tokenizer = BertTokenizer.from_pretrained('bert-base-uncased', do_lower_case=True)\n",
    "MAX_SEQ_LENGTH = 512\n",
    "\n",
    "def convert_example_to_feature(review):\n",
    "    # add special tokens\n",
    "    review_with_special_tokens = '[CLS]' + review + '[SEP]'\n",
    "    tokenized = tokenizer.tokenize(review_with_special_tokens)\n",
    "\n",
    "    # convert tokens to ids in WordPiece\n",
    "    input_ids = tokenizer.convert_tokens_to_ids(tokenized)\n",
    "  \n",
    "    # precalculation of pad length, so that we can reuse it later on\n",
    "    padding_length = MAX_SEQ_LENGTH - len(input_ids)\n",
    "        \n",
    "    # map tokens to WordPiece dictionary and add pad token for those text shorter than our max length\n",
    "    input_ids = input_ids + ([0] * padding_length)\n",
    "\n",
    "    # attention should focus just on sequence with non padded tokens\n",
    "    #special_tokens_mask = [1] * len(input_ids)\n",
    "\n",
    "    # do not focus attention on padded tokens\n",
    "    #special_tokens_mask = special_tokens_mask + ([0] * padding_length)\n",
    "    \n",
    "    special_tokens_mask = [1] * len(input_ids) + [0] * (MAX_SEQ_LENGTH - len(input_ids))\n",
    "\n",
    "    # token types, needed for example for question answering, for our purpose we will just set 0 as we have just one sequence\n",
    "    token_type_ids = [0] * MAX_SEQ_LENGTH\n",
    "\n",
    "    bert_encoding = {\n",
    "        \"token_ids\": input_ids,\n",
    "        \"token_type_ids\": token_type_ids,\n",
    "        \"special_tokens_mask\": special_tokens_mask\n",
    "        }\n",
    "    return bert_encoding\n",
    "    \n",
    "\n",
    "def encode(df):\n",
    "    \n",
    "    df = df.reset_index(drop=True)\n",
    "    \n",
    "    input_ids_list = []\n",
    "    token_type_ids_list = []\n",
    "    special_tokens_mask_list = []\n",
    "    label_list = []\n",
    "    \n",
    "    for i in range(len(df)) : \n",
    "        review = df.loc[i, \"review\"]\n",
    "        label = np.int32(df.loc[i, \"y\"])\n",
    "        \n",
    "        bert_layer = convert_example_to_feature(review)\n",
    "        \n",
    "        input_ids_list.append(bert_layer['token_ids'])\n",
    "        token_type_ids_list.append(bert_layer['token_type_ids'])\n",
    "        special_tokens_mask_list.append(bert_layer['special_tokens_mask'])\n",
    "        label_list.append([label])\n",
    "\n",
    "        #return tf.data.Dataset.from_tensor_slices((input_ids_list, special_tokens_mask_list, token_type_ids_list, label_list)).map(map_example_to_dict)\n",
    "        \n",
    "    return {\"input_ids\": input_ids_list, \"attention_mask\": special_tokens_mask_list,\n",
    "          \"token_type_ids\": token_type_ids_list}, label_list"
   ]
  },
  {
   "cell_type": "code",
   "execution_count": 303,
   "metadata": {},
   "outputs": [],
   "source": [
    "train_ds = encode(train_data)\n",
    "val_ds = encode(val_data)\n",
    "\n",
    "training_data = train_ds[0]\n",
    "validation_data = val_ds[0]\n",
    "\n",
    "labels_train = train_ds[1]\n",
    "labels_test = val_ds[1]\n",
    "\n",
    "training_data['labels'] = labels_train\n",
    "validation_data['labels'] = labels_test"
   ]
  },
  {
   "cell_type": "code",
   "execution_count": 304,
   "metadata": {},
   "outputs": [
    {
     "name": "stdout",
     "output_type": "stream",
     "text": [
      "dict_keys(['input_ids', 'attention_mask', 'token_type_ids', 'labels'])\n"
     ]
    }
   ],
   "source": [
    "print(training_data.keys())"
   ]
  },
  {
   "cell_type": "code",
   "execution_count": 317,
   "metadata": {},
   "outputs": [],
   "source": [
    "input_ids_array = np.array(training_data['input_ids'], dtype=np.int32)\n",
    "attention_mask_array = np.array(training_data['attention_mask'], dtype=np.int32)\n",
    "token_type_ids_array = np.array(training_data['token_type_ids'], dtype=np.int32)\n",
    "labels_array = np.array(training_data['labels'], dtype=np.int32)\n",
    "\n",
    "training_dataset = tf.data.Dataset.from_tensor_slices(({\"input_ids\": input_ids_array,\n",
    "                                               \"attention_mask\": attention_mask_array,\n",
    "                                               \"attention_mask\": token_type_ids_array,\n",
    "                                              }, labels_array))"
   ]
  },
  {
   "cell_type": "code",
   "execution_count": 315,
   "metadata": {},
   "outputs": [],
   "source": [
    "val_input_ids_array = np.array(validation_data['input_ids'], dtype=np.int32)\n",
    "val_attention_mask_array = np.array(validation_data['attention_mask'], dtype=np.int32)\n",
    "val_token_type_ids_array = np.array(validation_data['token_type_ids'], dtype=np.int32)\n",
    "val_labels_array = np.array(validation_data['labels'], dtype=np.int32)\n",
    "\n",
    "validation_dataset = tf.data.Dataset.from_tensor_slices(({\"input_ids\": val_input_ids_array,\n",
    "                                               \"attention_mask\": val_attention_mask_array,\n",
    "                                               \"attention_mask\": val_token_type_ids_array,\n",
    "                                              }, val_labels_array))"
   ]
  },
  {
   "cell_type": "code",
   "execution_count": 319,
   "metadata": {},
   "outputs": [
    {
     "data": {
      "text/plain": [
       "tensorflow.python.data.ops.dataset_ops.TensorSliceDataset"
      ]
     },
     "execution_count": 319,
     "metadata": {},
     "output_type": "execute_result"
    }
   ],
   "source": [
    "type(validation_dataset)"
   ]
  },
  {
   "cell_type": "code",
   "execution_count": 328,
   "metadata": {},
   "outputs": [],
   "source": [
    "from transformers import TFBertForSequenceClassification\n",
    "import tensorflow as tf\n",
    "\n",
    "# recommended learning rate for Adam 5e-5, 3e-5, 2e-5\n",
    "learning_rate = 2e-5\n",
    "# we will do just 1 epoch for illustration, though multiple epochs might be better as long as we will not overfit the model\n",
    "\n",
    "number_of_epochs = 1\n",
    "# model initialization\n",
    "\n",
    "model = TFBertForSequenceClassification.from_pretrained('bert-base-uncased')\n",
    "# classifier Adam recommended\n",
    "\n",
    "optimizer = tf.keras.optimizers.Adam(learning_rate=learning_rate, epsilon=1e-08)\n",
    "\n",
    "# we do not have one-hot vectors, we can use sparce categorical cross entropy and accuracy\n",
    "loss = tf.keras.losses.CategoricalCrossentropy\n",
    "\n",
    "metric = tf.keras.metrics.SparseCategoricalAccuracy('accuracy')\n",
    "model.compile(optimizer=optimizer,\n",
    "              loss='categorical_crossentropy',\n",
    "              metrics=['accuracy'])"
   ]
  },
  {
   "cell_type": "code",
   "execution_count": 329,
   "metadata": {},
   "outputs": [
    {
     "name": "stdout",
     "output_type": "stream",
     "text": [
      "Train for 5 steps, validate for 5 steps\n",
      "5/5 [==============================] - 64s 13s/step - loss: 5.4230 - accuracy: 0.5727 - val_loss: 0.9798 - val_accuracy: 0.9641\n"
     ]
    }
   ],
   "source": [
    "bert_history = model.fit(training_dataset, epochs=1, validation_data=validation_dataset)"
   ]
  },
  {
   "cell_type": "code",
   "execution_count": null,
   "metadata": {},
   "outputs": [],
   "source": []
  },
  {
   "cell_type": "code",
   "execution_count": null,
   "metadata": {},
   "outputs": [],
   "source": []
  },
  {
   "cell_type": "code",
   "execution_count": null,
   "metadata": {},
   "outputs": [],
   "source": []
  },
  {
   "cell_type": "code",
   "execution_count": null,
   "metadata": {},
   "outputs": [],
   "source": []
  },
  {
   "cell_type": "code",
   "execution_count": null,
   "metadata": {},
   "outputs": [],
   "source": []
  }
 ],
 "metadata": {
  "kernelspec": {
   "display_name": "Python 3",
   "language": "python",
   "name": "python3"
  },
  "language_info": {
   "codemirror_mode": {
    "name": "ipython",
    "version": 3
   },
   "file_extension": ".py",
   "mimetype": "text/x-python",
   "name": "python",
   "nbconvert_exporter": "python",
   "pygments_lexer": "ipython3",
   "version": "3.7.7"
  }
 },
 "nbformat": 4,
 "nbformat_minor": 2
}
