{
 "cells": [
  {
   "cell_type": "code",
   "execution_count": 46,
   "metadata": {},
   "outputs": [
    {
     "name": "stderr",
     "output_type": "stream",
     "text": [
      "Using TensorFlow backend.\n"
     ]
    }
   ],
   "source": [
    "# import libraries\n",
    "\n",
    "import numpy as np\n",
    "import pandas as pd\n",
    "import matplotlib.pyplot as plt\n",
    "%matplotlib inline\n",
    "import seaborn as sns\n",
    "from sklearn.manifold import TSNE\n",
    "from sklearn.decomposition import PCA, TruncatedSVD\n",
    "import matplotlib.patches as mpatches\n",
    "import time\n",
    "\n",
    "# import classsfier\n",
    "\n",
    "from sklearn.linear_model import LogisticRegression\n",
    "from sklearn.svm import SVC\n",
    "from sklearn.neighbors import KNeighborsClassifier\n",
    "from sklearn.tree import DecisionTreeClassifier\n",
    "from sklearn.ensemble import RandomForestClassifier\n",
    "import collections\n",
    "\n",
    "# other libraries\n",
    "\n",
    "from sklearn.model_selection import train_test_split\n",
    "from sklearn.pipeline import make_pipeline\n",
    "from sklearn.pipeline import make_pipeline as imbalanced_make_pipeline\n",
    "from sklearn.metrics import precision_score, recall_score, f1_score, roc_auc_score, accuracy_score, classification_report\n",
    "from imblearn.over_sampling import SMOTE\n",
    "from imblearn.under_sampling import NearMiss\n",
    "\n",
    "from sklearn.model_selection import KFold, StratifiedKFold\n",
    "from collections import Counter\n",
    "\n",
    "from warnings import filterwarnings\n",
    "filterwarnings('ignore')"
   ]
  },
  {
   "cell_type": "code",
   "execution_count": 9,
   "metadata": {},
   "outputs": [],
   "source": [
    "# read credit card data\n",
    "\n",
    "df = pd.read_csv('D:/Study/DataScience/Data/creditcard.csv')"
   ]
  },
  {
   "cell_type": "code",
   "execution_count": 12,
   "metadata": {},
   "outputs": [
    {
     "data": {
      "text/plain": [
       "0"
      ]
     },
     "execution_count": 12,
     "metadata": {},
     "output_type": "execute_result"
    }
   ],
   "source": [
    "# find null values\n",
    "\n",
    "df.isnull().sum().max()"
   ]
  },
  {
   "cell_type": "code",
   "execution_count": 16,
   "metadata": {},
   "outputs": [
    {
     "data": {
      "text/plain": [
       "0    284315\n",
       "1       492\n",
       "Name: Class, dtype: int64"
      ]
     },
     "execution_count": 16,
     "metadata": {},
     "output_type": "execute_result"
    }
   ],
   "source": [
    "# Find unique values of non-fraud and fraud classes\n",
    "\n",
    "df['Class'].value_counts()"
   ]
  },
  {
   "cell_type": "code",
   "execution_count": 32,
   "metadata": {},
   "outputs": [
    {
     "name": "stdout",
     "output_type": "stream",
     "text": [
      "Percentage of Non-Fraudelent Class : 99.83%\n",
      "Percentage of Fraudelent Class : 0.17%\n"
     ]
    }
   ],
   "source": [
    "# find percentage of fraud and non-fraud classes\n",
    "\n",
    "print('Percentage of Non-Fraudelent Class : {:0.2f}%'.format(len(df[df['Class'] == 0])/ len(df.index)*100))\n",
    "print('Percentage of Fraudelent Class : {:0.2}%'.format(len(df[df['Class'] != 0])/ len(df.index)*100))"
   ]
  },
  {
   "cell_type": "code",
   "execution_count": 43,
   "metadata": {},
   "outputs": [],
   "source": [
    "# Scale the data ..\n",
    "# since all the columns are scaled excepi amount and time. lets scale these two columns\n",
    "\n",
    "# import modules for scaling\n",
    "\n",
    "from sklearn.preprocessing import StandardScaler, RobustScaler\n",
    "\n",
    "# we will use robust scaler as it is less prone to outliers\n",
    "\n",
    "rob_scaler = RobustScaler()\n",
    "\n",
    "df['scaled_time'] = rob_scaler.fit_transform((df['Time']).values.reshape(-1, 1))\n",
    "df['scaled_amount'] = rob_scaler.fit_transform((df['Amount']).values.reshape(-1, 1))"
   ]
  },
  {
   "cell_type": "code",
   "execution_count": 44,
   "metadata": {},
   "outputs": [],
   "source": [
    "# now drop old amount and time columns\n",
    "\n",
    "df.drop( columns= ['Time', 'Amount'], inplace= True)"
   ]
  },
  {
   "cell_type": "code",
   "execution_count": 45,
   "metadata": {},
   "outputs": [
    {
     "data": {
      "text/plain": [
       "Index(['V1', 'V2', 'V3', 'V4', 'V5', 'V6', 'V7', 'V8', 'V9', 'V10', 'V11',\n",
       "       'V12', 'V13', 'V14', 'V15', 'V16', 'V17', 'V18', 'V19', 'V20', 'V21',\n",
       "       'V22', 'V23', 'V24', 'V25', 'V26', 'V27', 'V28', 'Class', 'scaled_time',\n",
       "       'scaled_amount'],\n",
       "      dtype='object')"
      ]
     },
     "execution_count": 45,
     "metadata": {},
     "output_type": "execute_result"
    }
   ],
   "source": [
    "df.columns"
   ]
  },
  {
   "cell_type": "code",
   "execution_count": 55,
   "metadata": {},
   "outputs": [
    {
     "name": "stdout",
     "output_type": "stream",
     "text": [
      "No Frauds 99.83 % of the data\n",
      "Frauds 0.17 % of the data\n"
     ]
    }
   ],
   "source": [
    "# split the dataset before using under sampling or over sampling techniques in order to use the original test dataset for testing\n",
    "\n",
    "from sklearn.model_selection import train_test_split\n",
    "from sklearn.model_selection import StratifiedShuffleSplit\n",
    "\n",
    "print('No Frauds', round(df['Class'].value_counts()[0]/len(df)*100,2), '% of the data')\n",
    "print('Frauds', round(df['Class'].value_counts()[1]/len(df)*100,2), '% of the data')\n",
    "\n",
    "# define feature and target variables\n",
    "\n",
    "X = df.drop(columns=['Class'])\n",
    "\n",
    "y = df['Class']\n",
    "\n",
    "sss = StratifiedKFold(n_splits=5, random_state=None, shuffle=False)\n",
    "\n",
    "original_Xtrain, original_Xtest, original_ytrain, original_ytest = train_test_split(X, y, test_size=0.2, random_state=42)"
   ]
  },
  {
   "cell_type": "code",
   "execution_count": 63,
   "metadata": {},
   "outputs": [
    {
     "data": {
      "text/html": [
       "<div>\n",
       "<style scoped>\n",
       "    .dataframe tbody tr th:only-of-type {\n",
       "        vertical-align: middle;\n",
       "    }\n",
       "\n",
       "    .dataframe tbody tr th {\n",
       "        vertical-align: top;\n",
       "    }\n",
       "\n",
       "    .dataframe thead th {\n",
       "        text-align: right;\n",
       "    }\n",
       "</style>\n",
       "<table border=\"1\" class=\"dataframe\">\n",
       "  <thead>\n",
       "    <tr style=\"text-align: right;\">\n",
       "      <th></th>\n",
       "      <th>V1</th>\n",
       "      <th>V2</th>\n",
       "      <th>V3</th>\n",
       "      <th>V4</th>\n",
       "      <th>V5</th>\n",
       "      <th>V6</th>\n",
       "      <th>V7</th>\n",
       "      <th>V8</th>\n",
       "      <th>V9</th>\n",
       "      <th>V10</th>\n",
       "      <th>...</th>\n",
       "      <th>V22</th>\n",
       "      <th>V23</th>\n",
       "      <th>V24</th>\n",
       "      <th>V25</th>\n",
       "      <th>V26</th>\n",
       "      <th>V27</th>\n",
       "      <th>V28</th>\n",
       "      <th>Class</th>\n",
       "      <th>scaled_time</th>\n",
       "      <th>scaled_amount</th>\n",
       "    </tr>\n",
       "  </thead>\n",
       "  <tbody>\n",
       "    <tr>\n",
       "      <th>48386</th>\n",
       "      <td>-0.950891</td>\n",
       "      <td>1.571234</td>\n",
       "      <td>2.251255</td>\n",
       "      <td>2.907859</td>\n",
       "      <td>-0.608814</td>\n",
       "      <td>0.453746</td>\n",
       "      <td>-0.119901</td>\n",
       "      <td>0.760844</td>\n",
       "      <td>-1.424009</td>\n",
       "      <td>0.551279</td>\n",
       "      <td>...</td>\n",
       "      <td>-0.646894</td>\n",
       "      <td>-0.030603</td>\n",
       "      <td>0.494323</td>\n",
       "      <td>-0.031074</td>\n",
       "      <td>0.000912</td>\n",
       "      <td>0.216938</td>\n",
       "      <td>0.086358</td>\n",
       "      <td>0</td>\n",
       "      <td>-0.482548</td>\n",
       "      <td>-0.233215</td>\n",
       "    </tr>\n",
       "    <tr>\n",
       "      <th>229712</th>\n",
       "      <td>0.908637</td>\n",
       "      <td>2.849024</td>\n",
       "      <td>-5.647343</td>\n",
       "      <td>6.009415</td>\n",
       "      <td>0.216656</td>\n",
       "      <td>-2.397014</td>\n",
       "      <td>-1.819308</td>\n",
       "      <td>0.338527</td>\n",
       "      <td>-2.819883</td>\n",
       "      <td>-4.063098</td>\n",
       "      <td>...</td>\n",
       "      <td>-0.397435</td>\n",
       "      <td>-0.080006</td>\n",
       "      <td>-0.168597</td>\n",
       "      <td>0.465058</td>\n",
       "      <td>0.210510</td>\n",
       "      <td>0.648705</td>\n",
       "      <td>0.360224</td>\n",
       "      <td>1</td>\n",
       "      <td>0.720521</td>\n",
       "      <td>-0.290924</td>\n",
       "    </tr>\n",
       "    <tr>\n",
       "      <th>205469</th>\n",
       "      <td>0.002952</td>\n",
       "      <td>0.749106</td>\n",
       "      <td>0.141228</td>\n",
       "      <td>-0.792770</td>\n",
       "      <td>0.689749</td>\n",
       "      <td>-0.512287</td>\n",
       "      <td>0.846587</td>\n",
       "      <td>0.010089</td>\n",
       "      <td>-0.231384</td>\n",
       "      <td>-0.238491</td>\n",
       "      <td>...</td>\n",
       "      <td>-0.534363</td>\n",
       "      <td>0.022032</td>\n",
       "      <td>-0.481086</td>\n",
       "      <td>-0.490197</td>\n",
       "      <td>0.151705</td>\n",
       "      <td>0.243320</td>\n",
       "      <td>0.082489</td>\n",
       "      <td>0</td>\n",
       "      <td>0.599960</td>\n",
       "      <td>-0.270104</td>\n",
       "    </tr>\n",
       "    <tr>\n",
       "      <th>124176</th>\n",
       "      <td>-0.356326</td>\n",
       "      <td>1.435305</td>\n",
       "      <td>-0.813564</td>\n",
       "      <td>1.993117</td>\n",
       "      <td>2.055878</td>\n",
       "      <td>-0.543579</td>\n",
       "      <td>0.487691</td>\n",
       "      <td>0.085449</td>\n",
       "      <td>-0.536352</td>\n",
       "      <td>-2.231209</td>\n",
       "      <td>...</td>\n",
       "      <td>-0.687874</td>\n",
       "      <td>-0.267003</td>\n",
       "      <td>-1.158480</td>\n",
       "      <td>0.271460</td>\n",
       "      <td>-0.155397</td>\n",
       "      <td>0.114328</td>\n",
       "      <td>0.101526</td>\n",
       "      <td>1</td>\n",
       "      <td>-0.087994</td>\n",
       "      <td>-0.293440</td>\n",
       "    </tr>\n",
       "    <tr>\n",
       "      <th>151807</th>\n",
       "      <td>-3.552173</td>\n",
       "      <td>5.426461</td>\n",
       "      <td>-3.731810</td>\n",
       "      <td>6.679062</td>\n",
       "      <td>-2.187543</td>\n",
       "      <td>2.433940</td>\n",
       "      <td>-8.748110</td>\n",
       "      <td>-12.108284</td>\n",
       "      <td>-2.856359</td>\n",
       "      <td>-5.665862</td>\n",
       "      <td>...</td>\n",
       "      <td>2.510980</td>\n",
       "      <td>0.953933</td>\n",
       "      <td>-0.542506</td>\n",
       "      <td>-0.620152</td>\n",
       "      <td>0.406013</td>\n",
       "      <td>0.023025</td>\n",
       "      <td>0.164741</td>\n",
       "      <td>1</td>\n",
       "      <td>0.136268</td>\n",
       "      <td>0.161951</td>\n",
       "    </tr>\n",
       "  </tbody>\n",
       "</table>\n",
       "<p>5 rows × 31 columns</p>\n",
       "</div>"
      ],
      "text/plain": [
       "              V1        V2        V3        V4        V5        V6        V7  \\\n",
       "48386  -0.950891  1.571234  2.251255  2.907859 -0.608814  0.453746 -0.119901   \n",
       "229712  0.908637  2.849024 -5.647343  6.009415  0.216656 -2.397014 -1.819308   \n",
       "205469  0.002952  0.749106  0.141228 -0.792770  0.689749 -0.512287  0.846587   \n",
       "124176 -0.356326  1.435305 -0.813564  1.993117  2.055878 -0.543579  0.487691   \n",
       "151807 -3.552173  5.426461 -3.731810  6.679062 -2.187543  2.433940 -8.748110   \n",
       "\n",
       "               V8        V9       V10      ...             V22       V23  \\\n",
       "48386    0.760844 -1.424009  0.551279      ...       -0.646894 -0.030603   \n",
       "229712   0.338527 -2.819883 -4.063098      ...       -0.397435 -0.080006   \n",
       "205469   0.010089 -0.231384 -0.238491      ...       -0.534363  0.022032   \n",
       "124176   0.085449 -0.536352 -2.231209      ...       -0.687874 -0.267003   \n",
       "151807 -12.108284 -2.856359 -5.665862      ...        2.510980  0.953933   \n",
       "\n",
       "             V24       V25       V26       V27       V28  Class  scaled_time  \\\n",
       "48386   0.494323 -0.031074  0.000912  0.216938  0.086358      0    -0.482548   \n",
       "229712 -0.168597  0.465058  0.210510  0.648705  0.360224      1     0.720521   \n",
       "205469 -0.481086 -0.490197  0.151705  0.243320  0.082489      0     0.599960   \n",
       "124176 -1.158480  0.271460 -0.155397  0.114328  0.101526      1    -0.087994   \n",
       "151807 -0.542506 -0.620152  0.406013  0.023025  0.164741      1     0.136268   \n",
       "\n",
       "        scaled_amount  \n",
       "48386       -0.233215  \n",
       "229712      -0.290924  \n",
       "205469      -0.270104  \n",
       "124176      -0.293440  \n",
       "151807       0.161951  \n",
       "\n",
       "[5 rows x 31 columns]"
      ]
     },
     "execution_count": 63,
     "metadata": {},
     "output_type": "execute_result"
    }
   ],
   "source": [
    "# Since our classes are highly skewed we should make them equivalent in order to have a normal distribution of the classes.\n",
    "\n",
    "# Lets shuffle the data before creating the subsamples\n",
    "\n",
    "df = df.sample(frac=1)\n",
    "\n",
    "# amount of fraud classes 492 rows.\n",
    "fraud_df = df.loc[df['Class'] == 1]\n",
    "non_fraud_df = df.loc[df['Class'] == 0][:492]\n",
    "\n",
    "normal_distributed_df = pd.concat([fraud_df, non_fraud_df])\n",
    "\n",
    "# Shuffle dataframe rows\n",
    "new_df = normal_distributed_df.sample(frac=1, random_state=42)\n",
    "\n",
    "new_df.head()"
   ]
  },
  {
   "cell_type": "code",
   "execution_count": 64,
   "metadata": {},
   "outputs": [
    {
     "name": "stdout",
     "output_type": "stream",
     "text": [
      "Distribution of the Classes in the subsample dataset\n",
      "1    0.5\n",
      "0    0.5\n",
      "Name: Class, dtype: float64\n"
     ]
    }
   ],
   "source": [
    "print('Distribution of the Classes in the subsample dataset')\n",
    "print(new_df['Class'].value_counts()/len(new_df))"
   ]
  },
  {
   "cell_type": "code",
   "execution_count": 68,
   "metadata": {},
   "outputs": [
    {
     "data": {
      "image/png": "[encoded data removed]",
      "text/plain": [
       "<Figure size 1728x1440 with 3 Axes>"
      ]
     },
     "metadata": {
      "needs_background": "light"
     },
     "output_type": "display_data"
    }
   ],
   "source": [
    "# plot heatmap to find out correlation between the features\n",
    "f, (ax1, ax2) = plt.subplots(2, 1, figsize=(24,20))\n",
    "\n",
    "sub_sample_corr = new_df.corr()\n",
    "sns.heatmap(sub_sample_corr, cmap='coolwarm_r', annot_kws={'size':20}, ax=ax2)\n",
    "ax2.set_title('SubSample Correlation Matrix \\n (use for reference)', fontsize=14)\n",
    "plt.show()"
   ]
  },
  {
   "cell_type": "code",
   "execution_count": null,
   "metadata": {},
   "outputs": [],
   "source": []
  }
 ],
 "metadata": {
  "kernelspec": {
   "display_name": "Python 3",
   "language": "python",
   "name": "python3"
  },
  "language_info": {
   "codemirror_mode": {
    "name": "ipython",
    "version": 3
   },
   "file_extension": ".py",
   "mimetype": "text/x-python",
   "name": "python",
   "nbconvert_exporter": "python",
   "pygments_lexer": "ipython3",
   "version": "3.7.1"
  }
 },
 "nbformat": 4,
 "nbformat_minor": 2
}
