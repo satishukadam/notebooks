{
 "cells": [
  {
   "cell_type": "code",
   "execution_count": 133,
   "metadata": {},
   "outputs": [],
   "source": [
    "# Import basic libraries\n",
    "\n",
    "import numpy as np\n",
    "import pandas as pd\n",
    "from matplotlib import rc\n",
    "import matplotlib.pyplot as plt\n",
    "%matplotlib inline\n",
    "import seaborn as sns"
   ]
  },
  {
   "cell_type": "code",
   "execution_count": 62,
   "metadata": {},
   "outputs": [],
   "source": [
    "# Read table from wikipedia page\n",
    "\n",
    "df = pd.read_html('https://en.wikipedia.org/wiki/Template:2019%E2%80%9320_coronavirus_pandemic_data')[0]"
   ]
  },
  {
   "cell_type": "code",
   "execution_count": 164,
   "metadata": {},
   "outputs": [
    {
     "data": {
      "text/plain": [
       "Index(['Countries', 'Cases', 'Deaths', 'Recovered'], dtype='object')"
      ]
     },
     "execution_count": 164,
     "metadata": {},
     "output_type": "execute_result"
    }
   ],
   "source": [
    "# Check the columns\n",
    "\n",
    "df.columns"
   ]
  },
  {
   "cell_type": "code",
   "execution_count": 64,
   "metadata": {},
   "outputs": [],
   "source": [
    "# Remove unneccessory columns\n",
    "\n",
    "df = df.iloc[:, 1:5]"
   ]
  },
  {
   "cell_type": "code",
   "execution_count": 65,
   "metadata": {},
   "outputs": [
    {
     "data": {
      "text/html": [
       "<div>\n",
       "<style scoped>\n",
       "    .dataframe tbody tr th:only-of-type {\n",
       "        vertical-align: middle;\n",
       "    }\n",
       "\n",
       "    .dataframe tbody tr th {\n",
       "        vertical-align: top;\n",
       "    }\n",
       "\n",
       "    .dataframe thead tr th {\n",
       "        text-align: left;\n",
       "    }\n",
       "</style>\n",
       "<table border=\"1\" class=\"dataframe\">\n",
       "  <thead>\n",
       "    <tr>\n",
       "      <th></th>\n",
       "      <th>Countries and territories[a]</th>\n",
       "      <th>Cases[b]</th>\n",
       "      <th>Deaths[c]</th>\n",
       "      <th>Recov.[d]</th>\n",
       "    </tr>\n",
       "    <tr>\n",
       "      <th></th>\n",
       "      <th>‍225.1</th>\n",
       "      <th>‍2,790,986</th>\n",
       "      <th>‍195,920</th>\n",
       "      <th>‍781,382</th>\n",
       "    </tr>\n",
       "  </thead>\n",
       "  <tbody>\n",
       "    <tr>\n",
       "      <th>0</th>\n",
       "      <td>United States[e]</td>\n",
       "      <td>927150</td>\n",
       "      <td>52400</td>\n",
       "      <td>101315</td>\n",
       "    </tr>\n",
       "    <tr>\n",
       "      <th>1</th>\n",
       "      <td>Spain</td>\n",
       "      <td>219764</td>\n",
       "      <td>22524</td>\n",
       "      <td>92355</td>\n",
       "    </tr>\n",
       "    <tr>\n",
       "      <th>2</th>\n",
       "      <td>Italy</td>\n",
       "      <td>192994</td>\n",
       "      <td>25969</td>\n",
       "      <td>60498</td>\n",
       "    </tr>\n",
       "    <tr>\n",
       "      <th>3</th>\n",
       "      <td>Germany[f]</td>\n",
       "      <td>154999</td>\n",
       "      <td>5760</td>\n",
       "      <td>99928</td>\n",
       "    </tr>\n",
       "    <tr>\n",
       "      <th>4</th>\n",
       "      <td>United Kingdom[g]</td>\n",
       "      <td>143464</td>\n",
       "      <td>19506</td>\n",
       "      <td>—</td>\n",
       "    </tr>\n",
       "  </tbody>\n",
       "</table>\n",
       "</div>"
      ],
      "text/plain": [
       "  Countries and territories[a]   Cases[b] Deaths[c] Recov.[d]\n",
       "                        ‍225.1 ‍2,790,986  ‍195,920  ‍781,382\n",
       "0             United States[e]     927150     52400    101315\n",
       "1                        Spain     219764     22524     92355\n",
       "2                        Italy     192994     25969     60498\n",
       "3                   Germany[f]     154999      5760     99928\n",
       "4            United Kingdom[g]     143464     19506         —"
      ]
     },
     "execution_count": 65,
     "metadata": {},
     "output_type": "execute_result"
    }
   ],
   "source": [
    "df.head()"
   ]
  },
  {
   "cell_type": "code",
   "execution_count": 66,
   "metadata": {},
   "outputs": [],
   "source": [
    "# Remove MultiIndex Level and rename columns\n",
    "\n",
    "df.columns = ['_'.join(col) for col in df.columns]\n",
    "\n",
    "# Rename columns\n",
    "\n",
    "df.columns = ['Countries', 'Cases', 'Deaths', 'Recovered']"
   ]
  },
  {
   "cell_type": "code",
   "execution_count": 110,
   "metadata": {},
   "outputs": [
    {
     "data": {
      "text/html": [
       "<div>\n",
       "<style scoped>\n",
       "    .dataframe tbody tr th:only-of-type {\n",
       "        vertical-align: middle;\n",
       "    }\n",
       "\n",
       "    .dataframe tbody tr th {\n",
       "        vertical-align: top;\n",
       "    }\n",
       "\n",
       "    .dataframe thead th {\n",
       "        text-align: right;\n",
       "    }\n",
       "</style>\n",
       "<table border=\"1\" class=\"dataframe\">\n",
       "  <thead>\n",
       "    <tr style=\"text-align: right;\">\n",
       "      <th></th>\n",
       "      <th>Countries</th>\n",
       "      <th>Cases</th>\n",
       "      <th>Deaths</th>\n",
       "      <th>Recovered</th>\n",
       "    </tr>\n",
       "  </thead>\n",
       "  <tbody>\n",
       "    <tr>\n",
       "      <th>0</th>\n",
       "      <td>United States</td>\n",
       "      <td>927150</td>\n",
       "      <td>52400</td>\n",
       "      <td>101315</td>\n",
       "    </tr>\n",
       "    <tr>\n",
       "      <th>1</th>\n",
       "      <td>Spain</td>\n",
       "      <td>219764</td>\n",
       "      <td>22524</td>\n",
       "      <td>92355</td>\n",
       "    </tr>\n",
       "    <tr>\n",
       "      <th>2</th>\n",
       "      <td>Italy</td>\n",
       "      <td>192994</td>\n",
       "      <td>25969</td>\n",
       "      <td>60498</td>\n",
       "    </tr>\n",
       "    <tr>\n",
       "      <th>3</th>\n",
       "      <td>Germany</td>\n",
       "      <td>154999</td>\n",
       "      <td>5760</td>\n",
       "      <td>99928</td>\n",
       "    </tr>\n",
       "    <tr>\n",
       "      <th>4</th>\n",
       "      <td>United Kingdom</td>\n",
       "      <td>143464</td>\n",
       "      <td>19506</td>\n",
       "      <td>—</td>\n",
       "    </tr>\n",
       "    <tr>\n",
       "      <th>...</th>\n",
       "      <td>...</td>\n",
       "      <td>...</td>\n",
       "      <td>...</td>\n",
       "      <td>...</td>\n",
       "    </tr>\n",
       "    <tr>\n",
       "      <th>222</th>\n",
       "      <td>Greg Mortimer</td>\n",
       "      <td>128</td>\n",
       "      <td>0</td>\n",
       "      <td>—</td>\n",
       "    </tr>\n",
       "    <tr>\n",
       "      <th>223</th>\n",
       "      <td>MS Zaandam</td>\n",
       "      <td>13</td>\n",
       "      <td>4</td>\n",
       "      <td>—</td>\n",
       "    </tr>\n",
       "    <tr>\n",
       "      <th>224</th>\n",
       "      <td>Coral Princess</td>\n",
       "      <td>12</td>\n",
       "      <td>2</td>\n",
       "      <td>—</td>\n",
       "    </tr>\n",
       "    <tr>\n",
       "      <th>225</th>\n",
       "      <td>HNLMS Dolfijn</td>\n",
       "      <td>8</td>\n",
       "      <td>0</td>\n",
       "      <td>—</td>\n",
       "    </tr>\n",
       "    <tr>\n",
       "      <th>226</th>\n",
       "      <td>Leopold I</td>\n",
       "      <td>1</td>\n",
       "      <td>0</td>\n",
       "      <td>0</td>\n",
       "    </tr>\n",
       "  </tbody>\n",
       "</table>\n",
       "<p>226 rows × 4 columns</p>\n",
       "</div>"
      ],
      "text/plain": [
       "          Countries   Cases Deaths Recovered\n",
       "0     United States  927150  52400    101315\n",
       "1             Spain  219764  22524     92355\n",
       "2             Italy  192994  25969     60498\n",
       "3           Germany  154999   5760     99928\n",
       "4    United Kingdom  143464  19506         —\n",
       "..              ...     ...    ...       ...\n",
       "222   Greg Mortimer     128      0         —\n",
       "223      MS Zaandam      13      4         —\n",
       "224  Coral Princess      12      2         —\n",
       "225   HNLMS Dolfijn       8      0         —\n",
       "226       Leopold I       1      0         0\n",
       "\n",
       "[226 rows x 4 columns]"
      ]
     },
     "execution_count": 110,
     "metadata": {},
     "output_type": "execute_result"
    }
   ],
   "source": [
    "# Remove last couple of rows and unnecessory rows from Dataframe\n",
    "\n",
    "#df = df[:-2]\n",
    "\n",
    "df[df.Countries != 'International conveyances']"
   ]
  },
  {
   "cell_type": "code",
   "execution_count": 81,
   "metadata": {},
   "outputs": [],
   "source": [
    "# Clean Country names e.g. includng '[]'\n",
    "\n",
    "def rename_country(col):\n",
    "    if '[' in col:\n",
    "        col = col.split('[')[0]\n",
    "    return col\n",
    "\n",
    "df['Countries'] = df['Countries'].apply(rename_country)"
   ]
  },
  {
   "cell_type": "code",
   "execution_count": 115,
   "metadata": {},
   "outputs": [],
   "source": [
    "# Change Object data type columns to Integer\n",
    "\n",
    "#df[['Deaths', 'Recovered']] = df[['Deaths', 'Recovered']].astype(int)\n",
    "\n",
    "df.to_csv('D:\\\\Study\\\\DataScience\\\\Data\\\\co.csv')"
   ]
  },
  {
   "cell_type": "code",
   "execution_count": 142,
   "metadata": {},
   "outputs": [],
   "source": [
    "# Create a new dataframe consisiting of top 50 countires based on number of cases\n",
    "data_top50 = data.sort_values('Cases', ascending = False).head(50)"
   ]
  },
  {
   "cell_type": "code",
   "execution_count": 162,
   "metadata": {},
   "outputs": [
    {
     "data": {
      "image/png": "[encoded data removed]",
      "text/plain": [
       "<Figure size 1332x756 with 1 Axes>"
      ]
     },
     "metadata": {
      "needs_background": "light"
     },
     "output_type": "display_data"
    }
   ],
   "source": [
    "# Plot the stacked bar plot\n",
    "# Set the index as Countries if it is not\n",
    "#data_top50.set_index('Countries', inplace = True)\n",
    "\n",
    "ax = data_top50.plot(kind='bar', stacked=True, figsize=(18.5, 10.5))\n",
    "ax.set_ylabel('Total Number of COVID-19 Cases')\n",
    "plt.savefig('Stacked_Bar_CoronaTop50.png')\n",
    "plt.show()"
   ]
  },
  {
   "cell_type": "code",
   "execution_count": 165,
   "metadata": {},
   "outputs": [],
   "source": [
    "# Export the dataframe to csv\n",
    "\n",
    "data_top50.to_csv('D:\\\\Study\\\\DataScience\\\\Data\\\\covid_top50.csv')"
   ]
  },
  {
   "cell_type": "code",
   "execution_count": null,
   "metadata": {},
   "outputs": [],
   "source": []
  }
 ],
 "metadata": {
  "kernelspec": {
   "display_name": "Python 3",
   "language": "python",
   "name": "python3"
  },
  "language_info": {
   "codemirror_mode": {
    "name": "ipython",
    "version": 3
   },
   "file_extension": ".py",
   "mimetype": "text/x-python",
   "name": "python",
   "nbconvert_exporter": "python",
   "pygments_lexer": "ipython3",
   "version": "3.7.7"
  }
 },
 "nbformat": 4,
 "nbformat_minor": 2
}
