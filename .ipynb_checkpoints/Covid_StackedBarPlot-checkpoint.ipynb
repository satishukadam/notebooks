{
 "cells": [
  {
   "cell_type": "code",
   "execution_count": 12,
   "metadata": {},
   "outputs": [],
   "source": [
    "# Import basic libraries\n",
    "\n",
    "import numpy as np\n",
    "import pandas as pd\n",
    "from matplotlib import rc\n",
    "import matplotlib.pyplot as plt\n",
    "%matplotlib inline\n",
    "import seaborn as sns"
   ]
  },
  {
   "cell_type": "code",
   "execution_count": 2,
   "metadata": {},
   "outputs": [],
   "source": [
    "# Read table from wikipedia page\n",
    "\n",
    "df = pd.read_html('https://en.wikipedia.org/wiki/Template:2019%E2%80%9320_coronavirus_pandemic_data')[0]"
   ]
  },
  {
   "cell_type": "code",
   "execution_count": 3,
   "metadata": {},
   "outputs": [
    {
     "data": {
      "text/plain": [
       "MultiIndex([('Countries and territories[a]',       '‍225'),\n",
       "            ('Countries and territories[a]',     '‍225.1'),\n",
       "            (                    'Cases[b]', '‍2,897,645'),\n",
       "            (                   'Deaths[c]',   '‍202,880'),\n",
       "            (                   'Recov.[d]',   '‍817,034'),\n",
       "            (                        'Ref.',        '[2]')],\n",
       "           )"
      ]
     },
     "execution_count": 3,
     "metadata": {},
     "output_type": "execute_result"
    }
   ],
   "source": [
    "# Check the columns\n",
    "\n",
    "df.columns"
   ]
  },
  {
   "cell_type": "code",
   "execution_count": 4,
   "metadata": {},
   "outputs": [],
   "source": [
    "# Remove unneccessory columns\n",
    "\n",
    "df = df.iloc[:, 1:5]"
   ]
  },
  {
   "cell_type": "code",
   "execution_count": 5,
   "metadata": {},
   "outputs": [
    {
     "data": {
      "text/html": [
       "<div>\n",
       "<style scoped>\n",
       "    .dataframe tbody tr th:only-of-type {\n",
       "        vertical-align: middle;\n",
       "    }\n",
       "\n",
       "    .dataframe tbody tr th {\n",
       "        vertical-align: top;\n",
       "    }\n",
       "\n",
       "    .dataframe thead tr th {\n",
       "        text-align: left;\n",
       "    }\n",
       "</style>\n",
       "<table border=\"1\" class=\"dataframe\">\n",
       "  <thead>\n",
       "    <tr>\n",
       "      <th></th>\n",
       "      <th>Countries and territories[a]</th>\n",
       "      <th>Cases[b]</th>\n",
       "      <th>Deaths[c]</th>\n",
       "      <th>Recov.[d]</th>\n",
       "    </tr>\n",
       "    <tr>\n",
       "      <th></th>\n",
       "      <th>‍225.1</th>\n",
       "      <th>‍2,897,645</th>\n",
       "      <th>‍202,880</th>\n",
       "      <th>‍817,034</th>\n",
       "    </tr>\n",
       "  </thead>\n",
       "  <tbody>\n",
       "    <tr>\n",
       "      <th>0</th>\n",
       "      <td>United States[e]</td>\n",
       "      <td>958863</td>\n",
       "      <td>54161</td>\n",
       "      <td>108083</td>\n",
       "    </tr>\n",
       "    <tr>\n",
       "      <th>1</th>\n",
       "      <td>Spain</td>\n",
       "      <td>223759</td>\n",
       "      <td>22902</td>\n",
       "      <td>95708</td>\n",
       "    </tr>\n",
       "    <tr>\n",
       "      <th>2</th>\n",
       "      <td>Italy</td>\n",
       "      <td>195351</td>\n",
       "      <td>26384</td>\n",
       "      <td>63120</td>\n",
       "    </tr>\n",
       "    <tr>\n",
       "      <th>3</th>\n",
       "      <td>Germany[f]</td>\n",
       "      <td>156513</td>\n",
       "      <td>5877</td>\n",
       "      <td>100129</td>\n",
       "    </tr>\n",
       "    <tr>\n",
       "      <th>4</th>\n",
       "      <td>United Kingdom[g]</td>\n",
       "      <td>148377</td>\n",
       "      <td>20319</td>\n",
       "      <td>—</td>\n",
       "    </tr>\n",
       "  </tbody>\n",
       "</table>\n",
       "</div>"
      ],
      "text/plain": [
       "  Countries and territories[a]   Cases[b] Deaths[c] Recov.[d]\n",
       "                        ‍225.1 ‍2,897,645  ‍202,880  ‍817,034\n",
       "0             United States[e]     958863     54161    108083\n",
       "1                        Spain     223759     22902     95708\n",
       "2                        Italy     195351     26384     63120\n",
       "3                   Germany[f]     156513      5877    100129\n",
       "4            United Kingdom[g]     148377     20319         —"
      ]
     },
     "execution_count": 5,
     "metadata": {},
     "output_type": "execute_result"
    }
   ],
   "source": [
    "df.head()"
   ]
  },
  {
   "cell_type": "code",
   "execution_count": 6,
   "metadata": {},
   "outputs": [],
   "source": [
    "# Remove MultiIndex Level and rename columns\n",
    "\n",
    "df.columns = ['_'.join(col) for col in df.columns]\n",
    "\n",
    "# Rename columns\n",
    "\n",
    "df.columns = ['Countries', 'Cases', 'Deaths', 'Recovered']"
   ]
  },
  {
   "cell_type": "code",
   "execution_count": 7,
   "metadata": {},
   "outputs": [
    {
     "data": {
      "text/html": [
       "<div>\n",
       "<style scoped>\n",
       "    .dataframe tbody tr th:only-of-type {\n",
       "        vertical-align: middle;\n",
       "    }\n",
       "\n",
       "    .dataframe tbody tr th {\n",
       "        vertical-align: top;\n",
       "    }\n",
       "\n",
       "    .dataframe thead th {\n",
       "        text-align: right;\n",
       "    }\n",
       "</style>\n",
       "<table border=\"1\" class=\"dataframe\">\n",
       "  <thead>\n",
       "    <tr style=\"text-align: right;\">\n",
       "      <th></th>\n",
       "      <th>Countries</th>\n",
       "      <th>Cases</th>\n",
       "      <th>Deaths</th>\n",
       "      <th>Recovered</th>\n",
       "    </tr>\n",
       "  </thead>\n",
       "  <tbody>\n",
       "    <tr>\n",
       "      <th>0</th>\n",
       "      <td>United States[e]</td>\n",
       "      <td>958863</td>\n",
       "      <td>54161</td>\n",
       "      <td>108083</td>\n",
       "    </tr>\n",
       "    <tr>\n",
       "      <th>1</th>\n",
       "      <td>Spain</td>\n",
       "      <td>223759</td>\n",
       "      <td>22902</td>\n",
       "      <td>95708</td>\n",
       "    </tr>\n",
       "    <tr>\n",
       "      <th>2</th>\n",
       "      <td>Italy</td>\n",
       "      <td>195351</td>\n",
       "      <td>26384</td>\n",
       "      <td>63120</td>\n",
       "    </tr>\n",
       "    <tr>\n",
       "      <th>3</th>\n",
       "      <td>Germany[f]</td>\n",
       "      <td>156513</td>\n",
       "      <td>5877</td>\n",
       "      <td>100129</td>\n",
       "    </tr>\n",
       "    <tr>\n",
       "      <th>4</th>\n",
       "      <td>United Kingdom[g]</td>\n",
       "      <td>148377</td>\n",
       "      <td>20319</td>\n",
       "      <td>—</td>\n",
       "    </tr>\n",
       "    <tr>\n",
       "      <th>...</th>\n",
       "      <td>...</td>\n",
       "      <td>...</td>\n",
       "      <td>...</td>\n",
       "      <td>...</td>\n",
       "    </tr>\n",
       "    <tr>\n",
       "      <th>225</th>\n",
       "      <td>Coral Princess[at]</td>\n",
       "      <td>12</td>\n",
       "      <td>2</td>\n",
       "      <td>—</td>\n",
       "    </tr>\n",
       "    <tr>\n",
       "      <th>226</th>\n",
       "      <td>HNLMS Dolfijn[au]</td>\n",
       "      <td>8</td>\n",
       "      <td>0</td>\n",
       "      <td>—</td>\n",
       "    </tr>\n",
       "    <tr>\n",
       "      <th>227</th>\n",
       "      <td>Leopold I</td>\n",
       "      <td>1</td>\n",
       "      <td>0</td>\n",
       "      <td>0</td>\n",
       "    </tr>\n",
       "    <tr>\n",
       "      <th>228</th>\n",
       "      <td>As of 26 April 2020 (UTC) · History of cases: ...</td>\n",
       "      <td>As of 26 April 2020 (UTC) · History of cases: ...</td>\n",
       "      <td>As of 26 April 2020 (UTC) · History of cases: ...</td>\n",
       "      <td>As of 26 April 2020 (UTC) · History of cases: ...</td>\n",
       "    </tr>\n",
       "    <tr>\n",
       "      <th>229</th>\n",
       "      <td>Notes ^ Countries, territories, and internatio...</td>\n",
       "      <td>Notes ^ Countries, territories, and internatio...</td>\n",
       "      <td>Notes ^ Countries, territories, and internatio...</td>\n",
       "      <td>Notes ^ Countries, territories, and internatio...</td>\n",
       "    </tr>\n",
       "  </tbody>\n",
       "</table>\n",
       "<p>229 rows × 4 columns</p>\n",
       "</div>"
      ],
      "text/plain": [
       "                                             Countries  \\\n",
       "0                                     United States[e]   \n",
       "1                                                Spain   \n",
       "2                                                Italy   \n",
       "3                                           Germany[f]   \n",
       "4                                    United Kingdom[g]   \n",
       "..                                                 ...   \n",
       "225                                 Coral Princess[at]   \n",
       "226                                  HNLMS Dolfijn[au]   \n",
       "227                                          Leopold I   \n",
       "228  As of 26 April 2020 (UTC) · History of cases: ...   \n",
       "229  Notes ^ Countries, territories, and internatio...   \n",
       "\n",
       "                                                 Cases  \\\n",
       "0                                               958863   \n",
       "1                                               223759   \n",
       "2                                               195351   \n",
       "3                                               156513   \n",
       "4                                               148377   \n",
       "..                                                 ...   \n",
       "225                                                 12   \n",
       "226                                                  8   \n",
       "227                                                  1   \n",
       "228  As of 26 April 2020 (UTC) · History of cases: ...   \n",
       "229  Notes ^ Countries, territories, and internatio...   \n",
       "\n",
       "                                                Deaths  \\\n",
       "0                                                54161   \n",
       "1                                                22902   \n",
       "2                                                26384   \n",
       "3                                                 5877   \n",
       "4                                                20319   \n",
       "..                                                 ...   \n",
       "225                                                  2   \n",
       "226                                                  0   \n",
       "227                                                  0   \n",
       "228  As of 26 April 2020 (UTC) · History of cases: ...   \n",
       "229  Notes ^ Countries, territories, and internatio...   \n",
       "\n",
       "                                             Recovered  \n",
       "0                                               108083  \n",
       "1                                                95708  \n",
       "2                                                63120  \n",
       "3                                               100129  \n",
       "4                                                    —  \n",
       "..                                                 ...  \n",
       "225                                                  —  \n",
       "226                                                  —  \n",
       "227                                                  0  \n",
       "228  As of 26 April 2020 (UTC) · History of cases: ...  \n",
       "229  Notes ^ Countries, territories, and internatio...  \n",
       "\n",
       "[229 rows x 4 columns]"
      ]
     },
     "execution_count": 7,
     "metadata": {},
     "output_type": "execute_result"
    }
   ],
   "source": [
    "# Remove last couple of rows and unnecessory rows from Dataframe\n",
    "\n",
    "#df = df[:-2]\n",
    "\n",
    "df[df.Countries != 'International conveyances']"
   ]
  },
  {
   "cell_type": "code",
   "execution_count": 8,
   "metadata": {},
   "outputs": [],
   "source": [
    "# Clean Country names e.g. includng '[]'\n",
    "\n",
    "def rename_country(col):\n",
    "    if '[' in col:\n",
    "        col = col.split('[')[0]\n",
    "    return col\n",
    "\n",
    "df['Countries'] = df['Countries'].apply(rename_country)"
   ]
  },
  {
   "cell_type": "code",
   "execution_count": 9,
   "metadata": {},
   "outputs": [],
   "source": [
    "# Change Object data type columns to Integer\n",
    "\n",
    "#df[['Deaths', 'Recovered']] = df[['Deaths', 'Recovered']].astype(int)\n",
    "\n",
    "df.to_csv('D:\\\\Study\\\\DataScience\\\\Data\\\\co.csv')"
   ]
  },
  {
   "cell_type": "code",
   "execution_count": 10,
   "metadata": {},
   "outputs": [
    {
     "ename": "NameError",
     "evalue": "name 'data' is not defined",
     "output_type": "error",
     "traceback": [
      "\u001b[1;31m---------------------------------------------------------------------------\u001b[0m",
      "\u001b[1;31mNameError\u001b[0m                                 Traceback (most recent call last)",
      "\u001b[1;32m<ipython-input-10-59ae11bca2c2>\u001b[0m in \u001b[0;36m<module>\u001b[1;34m\u001b[0m\n\u001b[0;32m      1\u001b[0m \u001b[1;31m# Create a new dataframe consisiting of top 50 countires based on number of cases\u001b[0m\u001b[1;33m\u001b[0m\u001b[1;33m\u001b[0m\u001b[1;33m\u001b[0m\u001b[0m\n\u001b[1;32m----> 2\u001b[1;33m \u001b[0mdata_top50\u001b[0m \u001b[1;33m=\u001b[0m \u001b[0mdata\u001b[0m\u001b[1;33m.\u001b[0m\u001b[0msort_values\u001b[0m\u001b[1;33m(\u001b[0m\u001b[1;34m'Cases'\u001b[0m\u001b[1;33m,\u001b[0m \u001b[0mascending\u001b[0m \u001b[1;33m=\u001b[0m \u001b[1;32mFalse\u001b[0m\u001b[1;33m)\u001b[0m\u001b[1;33m.\u001b[0m\u001b[0mhead\u001b[0m\u001b[1;33m(\u001b[0m\u001b[1;36m50\u001b[0m\u001b[1;33m)\u001b[0m\u001b[1;33m\u001b[0m\u001b[1;33m\u001b[0m\u001b[0m\n\u001b[0m",
      "\u001b[1;31mNameError\u001b[0m: name 'data' is not defined"
     ]
    }
   ],
   "source": [
    "# Create a new dataframe consisiting of top 50 countires based on number of cases\n",
    "data_top50 = data.sort_values('Cases', ascending = False).head(50)"
   ]
  },
  {
   "cell_type": "code",
   "execution_count": 14,
   "metadata": {},
   "outputs": [
    {
     "data": {
      "image/png": "[encoded data removed]",
      "text/plain": [
       "<Figure size 1332x756 with 1 Axes>"
      ]
     },
     "metadata": {
      "needs_background": "light"
     },
     "output_type": "display_data"
    }
   ],
   "source": [
    "# Plot the stacked bar plot\n",
    "# Set the index as Countries if it is not\n",
    "\n",
    "\n",
    "data_top50 = pd.read_csv('D:\\\\Study\\\\DataScience\\\\Data\\\\covid_top50.csv')\n",
    "data_top50.set_index('Countries', inplace = True)\n",
    "ax = data_top50.plot(kind='bar', stacked=True, figsize=(18.5, 10.5))\n",
    "ax.set_ylabel('Total Number of COVID-19 Cases')\n",
    "plt.savefig('Stacked_Bar_CoronaTop50.png')\n",
    "plt.show()"
   ]
  },
  {
   "cell_type": "code",
   "execution_count": null,
   "metadata": {},
   "outputs": [],
   "source": [
    "# Export the dataframe to csv\n",
    "\n",
    "data_top50.to_csv('D:\\\\Study\\\\DataScience\\\\Data\\\\covid_top50.csv')"
   ]
  },
  {
   "cell_type": "code",
   "execution_count": null,
   "metadata": {},
   "outputs": [],
   "source": []
  }
 ],
 "metadata": {
  "kernelspec": {
   "display_name": "Python 3",
   "language": "python",
   "name": "python3"
  },
  "language_info": {
   "codemirror_mode": {
    "name": "ipython",
    "version": 3
   },
   "file_extension": ".py",
   "mimetype": "text/x-python",
   "name": "python",
   "nbconvert_exporter": "python",
   "pygments_lexer": "ipython3",
   "version": "3.7.7"
  }
 },
 "nbformat": 4,
 "nbformat_minor": 2
}
