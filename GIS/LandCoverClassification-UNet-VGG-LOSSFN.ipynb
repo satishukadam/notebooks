{
 "cells": [
  {
   "cell_type": "code",
   "execution_count": 1,
   "metadata": {},
   "outputs": [],
   "source": [
    "# Import basic libraries\n",
    "import numpy as np\n",
    "import cv2\n",
    "import json\n",
    "import matplotlib.pyplot as plt\n",
    "%matplotlib inline\n",
    "import os\n",
    "import PIL\n",
    "import PIL.Image\n",
    "\n",
    "# Ignore warnings\n",
    "from warnings import filterwarnings\n",
    "filterwarnings('ignore')"
   ]
  },
  {
   "cell_type": "code",
   "execution_count": 2,
   "metadata": {},
   "outputs": [],
   "source": [
    "folder_path = 'D:\\\\Study\\\\DataScience\\\\GeoAI\\\\ImageClassification\\\\ImageSegmentation\\\\landcover'\n",
    "\n",
    "# Load images and masks as X and y\n",
    "def load_images_masks_from_folder(folder):\n",
    "    \n",
    "    # Image Path\n",
    "    image_path = os.path.join(folder, 'images')\n",
    "    \n",
    "    list_of_images = []\n",
    "    for root, d_names, i_names in os.walk(image_path):\n",
    "        for i in i_names:\n",
    "            list_of_images.append(os.path.join(root, i))\n",
    "    \n",
    "    # Masks Path\n",
    "    mask_path = os.path.join(folder, 'masks')\n",
    "    \n",
    "    list_of_masks = []\n",
    "    for root, d_names, m_names in os.walk(mask_path):\n",
    "        for m in m_names:\n",
    "            list_of_masks.append(os.path.join(root, m))\n",
    "    \n",
    "    \n",
    "    # Read Images\n",
    "    images = []\n",
    "    for image in list_of_images:\n",
    "        img = cv2.imread(image, cv2.IMREAD_COLOR)\n",
    "        \n",
    "        #img = cv2.resize(img, (128, 128, 3))\n",
    "        images.append(img)\n",
    "    \n",
    "    # Read Masks\n",
    "    masks = []\n",
    "    for mask in list_of_masks:\n",
    "        msk = np.asarray(PIL.Image.open(mask))\n",
    "        \n",
    "        #msk = cv2.resize(msk, (128, 128, 1))\n",
    "        masks.append(msk)\n",
    "    \n",
    "    return images, masks"
   ]
  },
  {
   "cell_type": "code",
   "execution_count": 3,
   "metadata": {},
   "outputs": [],
   "source": [
    "X, y = load_images_masks_from_folder(folder_path)"
   ]
  },
  {
   "cell_type": "code",
   "execution_count": 4,
   "metadata": {},
   "outputs": [],
   "source": [
    "# Convert list into numpy arrays\n",
    "X = np.asarray(X)\n",
    "y = np.asarray(y)"
   ]
  },
  {
   "cell_type": "code",
   "execution_count": 5,
   "metadata": {},
   "outputs": [],
   "source": [
    "# The shape of X array should be : (N, H, W, C), where\n",
    "# N - Number of images,\n",
    "# H - Height of the image\n",
    "# W - Width of the image\n",
    "# C - Channels in the image\n",
    "\n",
    "\n",
    "# The shape of the y array should be : (N, H, W, 1)\n",
    "#y = y.reshape((y.shape[0], y.shape[1], y.shape[2], 1))\n",
    "y = np.asarray(y).reshape((36, 128, 128, 1))"
   ]
  },
  {
   "cell_type": "code",
   "execution_count": 6,
   "metadata": {
    "scrolled": true
   },
   "outputs": [
    {
     "name": "stdout",
     "output_type": "stream",
     "text": [
      "(28, 128, 128, 3)\n",
      "(28, 128, 128, 1)\n",
      "(8, 128, 128, 3)\n",
      "(8, 128, 128, 1)\n"
     ]
    }
   ],
   "source": [
    "# Split the data into training and testing datasets\n",
    "from sklearn.model_selection import train_test_split\n",
    "\n",
    "X_train, X_test, y_train, y_test = train_test_split(X, y, test_size = 0.2, random_state= 0)\n",
    "\n",
    "# Print the shapes\n",
    "print(X_train.shape)\n",
    "print(y_train.shape)\n",
    "print(X_test.shape)\n",
    "print(y_test.shape)"
   ]
  },
  {
   "cell_type": "code",
   "execution_count": 7,
   "metadata": {},
   "outputs": [
    {
     "name": "stderr",
     "output_type": "stream",
     "text": [
      "Using TensorFlow backend.\n"
     ]
    },
    {
     "name": "stdout",
     "output_type": "stream",
     "text": [
      "Segmentation Models: using `keras` framework.\n"
     ]
    }
   ],
   "source": [
    "# Import the modules required for image segmentation\n",
    "import segmentation_models as sm\n",
    "from segmentation_models import Unet\n",
    "from segmentation_models import get_preprocessing\n",
    "from segmentation_models.losses import bce_jaccard_loss, CategoricalCELoss\n",
    "from segmentation_models.metrics import iou_score"
   ]
  },
  {
   "cell_type": "code",
   "execution_count": 47,
   "metadata": {},
   "outputs": [
    {
     "name": "stdout",
     "output_type": "stream",
     "text": [
      "Train on 28 samples, validate on 8 samples\n",
      "Epoch 1/100\n",
      "28/28 [==============================] - 34s 1s/step - loss: 0.6559 - iou_score: 0.1763 - f1-score: 0.2538 - val_loss: 1.2038 - val_iou_score: 0.2774 - val_f1-score: 0.3130\n",
      "\n",
      "Epoch 00001: val_loss improved from inf to 1.20382, saving model to vgg_unet_lossfn.h5\n",
      "Epoch 2/100\n",
      "28/28 [==============================] - 34s 1s/step - loss: 0.5032 - iou_score: 0.2748 - f1-score: 0.3737 - val_loss: 0.9347 - val_iou_score: 0.2747 - val_f1-score: 0.3316\n",
      "\n",
      "Epoch 00002: val_loss improved from 1.20382 to 0.93473, saving model to vgg_unet_lossfn.h5\n",
      "Epoch 3/100\n",
      "28/28 [==============================] - 32s 1s/step - loss: 0.3994 - iou_score: 0.3781 - f1-score: 0.4945 - val_loss: 1.0105 - val_iou_score: 0.2846 - val_f1-score: 0.3251\n",
      "\n",
      "Epoch 00003: val_loss did not improve from 0.93473\n",
      "Epoch 4/100\n",
      "28/28 [==============================] - 34s 1s/step - loss: 0.3991 - iou_score: 0.3805 - f1-score: 0.4927 - val_loss: 0.8831 - val_iou_score: 0.3358 - val_f1-score: 0.3942\n",
      "\n",
      "Epoch 00004: val_loss improved from 0.93473 to 0.88306, saving model to vgg_unet_lossfn.h5\n",
      "Epoch 5/100\n",
      "28/28 [==============================] - 37s 1s/step - loss: 0.3422 - iou_score: 0.4066 - f1-score: 0.5218 - val_loss: 0.8536 - val_iou_score: 0.1808 - val_f1-score: 0.2476\n",
      "\n",
      "Epoch 00005: val_loss improved from 0.88306 to 0.85359, saving model to vgg_unet_lossfn.h5\n",
      "Epoch 6/100\n",
      "28/28 [==============================] - 39s 1s/step - loss: 0.3275 - iou_score: 0.4165 - f1-score: 0.5297 - val_loss: 0.8560 - val_iou_score: 0.2653 - val_f1-score: 0.3352\n",
      "\n",
      "Epoch 00006: val_loss did not improve from 0.85359\n",
      "Epoch 7/100\n",
      "28/28 [==============================] - 32s 1s/step - loss: 0.3129 - iou_score: 0.4241 - f1-score: 0.5360 - val_loss: 0.7638 - val_iou_score: 0.2502 - val_f1-score: 0.3152\n",
      "\n",
      "Epoch 00007: val_loss improved from 0.85359 to 0.76382, saving model to vgg_unet_lossfn.h5\n",
      "Epoch 8/100\n",
      "28/28 [==============================] - 32s 1s/step - loss: 0.2914 - iou_score: 0.4357 - f1-score: 0.5467 - val_loss: 0.6367 - val_iou_score: 0.3139 - val_f1-score: 0.3867\n",
      "\n",
      "Epoch 00008: val_loss improved from 0.76382 to 0.63673, saving model to vgg_unet_lossfn.h5\n",
      "Epoch 9/100\n",
      "28/28 [==============================] - 31s 1s/step - loss: 0.2682 - iou_score: 0.4537 - f1-score: 0.5601 - val_loss: 0.8169 - val_iou_score: 0.2749 - val_f1-score: 0.3454\n",
      "\n",
      "Epoch 00009: val_loss did not improve from 0.63673\n",
      "Epoch 10/100\n",
      "28/28 [==============================] - 31s 1s/step - loss: 0.2735 - iou_score: 0.4490 - f1-score: 0.5574 - val_loss: 0.8042 - val_iou_score: 0.1562 - val_f1-score: 0.2384\n",
      "\n",
      "Epoch 00010: val_loss did not improve from 0.63673\n",
      "Epoch 11/100\n",
      "28/28 [==============================] - 31s 1s/step - loss: 0.2786 - iou_score: 0.4519 - f1-score: 0.5588 - val_loss: 1.1593 - val_iou_score: 0.0737 - val_f1-score: 0.1249\n",
      "\n",
      "Epoch 00011: val_loss did not improve from 0.63673\n",
      "Epoch 12/100\n",
      "28/28 [==============================] - 31s 1s/step - loss: 0.2575 - iou_score: 0.4611 - f1-score: 0.5671 - val_loss: 0.6672 - val_iou_score: 0.2120 - val_f1-score: 0.3128\n",
      "\n",
      "Epoch 00012: val_loss did not improve from 0.63673\n",
      "Epoch 13/100\n",
      "28/28 [==============================] - 31s 1s/step - loss: 0.2427 - iou_score: 0.4753 - f1-score: 0.5765 - val_loss: 0.6706 - val_iou_score: 0.2066 - val_f1-score: 0.3120\n",
      "\n",
      "Epoch 00013: ReduceLROnPlateau reducing learning rate to 0.00010000000474974513.\n",
      "\n",
      "Epoch 00013: val_loss did not improve from 0.63673\n",
      "Epoch 00013: early stopping\n"
     ]
    }
   ],
   "source": [
    "BACKBONE = 'vgg16'\n",
    "preprocess_input = sm.get_preprocessing(BACKBONE)\n",
    "\n",
    "# Define Classes\n",
    "CLASSES = ['building', 'road', 'grass']\n",
    "class_values = [CLASSES.index(cls.lower()) for cls in CLASSES]\n",
    "#class_values.insert(len(class_values), 0)\n",
    "\n",
    "# Preprocess input\n",
    "X_train = preprocess_input(X_train)\n",
    "X_test = preprocess_input(X_test)\n",
    "\n",
    "# Reshape mask shape to (N, H, W, Number of classes+background) > (N, 128, 128, 4)\n",
    "m_train = [(y_train == v) for v in class_values]\n",
    "m_train = np.stack(m_train, axis=-1).astype('float')\n",
    "#m_train = np.asarray(m_train).reshape((y_train.shape[0], 128, 128, 4))\n",
    "\n",
    "# add background if mask is not binary\n",
    "if m_train.shape[-1] != 1:\n",
    "    background = 1 - m_train.sum(axis=-1, keepdims=True)\n",
    "    m_train = np.concatenate((m_train, background), axis=-1)\n",
    "\n",
    "# Squeeze shape from (N, 128, 128, 1, 4) to (N, 128, 128, 4)\n",
    "m_train = m_train.squeeze()    \n",
    "    \n",
    "m_test = [(y_test == v) for v in class_values]\n",
    "m_test = np.stack(m_test, axis=-1).astype('float')\n",
    "#m_test = np.asarray(m_test).reshape((y_test.shape[0], 128, 128, 4))\n",
    "\n",
    "# add background if mask is not binary\n",
    "if m_test.shape[-1] != 1:\n",
    "    background = 1 - m_test.sum(axis=-1, keepdims=True)\n",
    "    m_test = np.concatenate((m_test, background), axis=-1)\n",
    "\n",
    "# Squeeze shape from (N, 128, 128, 1, 4) to (N, 128, 128, 4)\n",
    "m_test = m_test.squeeze()      \n",
    "    \n",
    "# Define model parameters\n",
    "# Segmentation models losses can be combined together by '+' and scaled by integer or float factor\n",
    "# set class weights for dice_loss (building: 1.; road: 2.; grass: 3.; background: 0.5;)\n",
    "n_classes = 1 if len(CLASSES) == 1 else (len(CLASSES) + 1)  # case for binary and multiclass segmentation\n",
    "activation = 'sigmoid' if n_classes == 1 else 'softmax'\n",
    "\n",
    "dice_loss = sm.losses.DiceLoss(class_weights=np.array([1, 2, 3, 0.5])) \n",
    "focal_loss = sm.losses.BinaryFocalLoss() if n_classes == 1 else sm.losses.CategoricalFocalLoss()\n",
    "total_loss = dice_loss + (1 * focal_loss)\n",
    "\n",
    "metrics = [sm.metrics.IOUScore(threshold=0.5), sm.metrics.FScore(threshold=0.5)]\n",
    "\n",
    "# Define model\n",
    "model = sm.Unet(BACKBONE, encoder_weights = 'imagenet', classes = n_classes, activation = activation)\n",
    "model.compile('Adam', loss = total_loss, metrics = metrics)\n",
    "\n",
    "from keras.callbacks import EarlyStopping, ModelCheckpoint, ReduceLROnPlateau\n",
    "callbacks = [EarlyStopping(patience=5, verbose=1), ReduceLROnPlateau(factor=0.1, patience=5, min_lr=0.00001, verbose=1),\n",
    "    ModelCheckpoint('vgg_unet_lossfn.h5', verbose=1, save_best_only=True)]\n",
    "\n",
    "# Fit model\n",
    "# if you use data generator use model.fit_generator(...) instead of model.fit(...)\n",
    "# more about `fit_generator` here: https://keras.io/models/sequential/#fit_generator\n",
    "history = model.fit(x=X_train, y=m_train, batch_size=1, callbacks=callbacks, epochs=100, validation_data=(X_test, m_test))"
   ]
  },
  {
   "cell_type": "code",
   "execution_count": 48,
   "metadata": {},
   "outputs": [
    {
     "data": {
      "text/plain": [
       "Text(0.5, 1.0, 'Accuracy Curves')"
      ]
     },
     "execution_count": 48,
     "metadata": {},
     "output_type": "execute_result"
    },
    {
     "data": {
      "image/png": "[encoded data removed]",
      "text/plain": [
       "<Figure size 2160x360 with 2 Axes>"
      ]
     },
     "metadata": {
      "needs_background": "light"
     },
     "output_type": "display_data"
    }
   ],
   "source": [
    "# Visualize Loss Curves\n",
    "plt.figure(figsize=(30, 5))\n",
    "plt.subplot(121)\n",
    "plt.plot(history.history['loss'],'r', linewidth=2.0)\n",
    "plt.plot(history.history['val_loss'],'b', linewidth=2.0)\n",
    "plt.legend(['Training loss', 'Validation Loss'], fontsize=12, loc='upper left')\n",
    "plt.xlabel('Epochs', fontsize=12)\n",
    "plt.ylabel('Loss', fontsize=12)\n",
    "plt.title('Loss Curves', fontsize=14)\n",
    "  \n",
    "# Visualize IoU Curves\n",
    "plt.subplot(122)\n",
    "plt.plot(history.history['iou_score'], 'r', linewidth=2.0)\n",
    "plt.plot(history.history['val_iou_score'], 'b', linewidth=2.0)\n",
    "plt.legend(['Training IoU Score', 'Validation IoU Score'], fontsize=12, loc='upper left')\n",
    "plt.xlabel('Epochs', fontsize=12)\n",
    "plt.ylabel('IoU', fontsize=12)\n",
    "plt.title('Accuracy Curves', fontsize=14)"
   ]
  },
  {
   "cell_type": "code",
   "execution_count": null,
   "metadata": {},
   "outputs": [],
   "source": []
  }
 ],
 "metadata": {
  "kernelspec": {
   "display_name": "Python 3",
   "language": "python",
   "name": "python3"
  },
  "language_info": {
   "codemirror_mode": {
    "name": "ipython",
    "version": 3
   },
   "file_extension": ".py",
   "mimetype": "text/x-python",
   "name": "python",
   "nbconvert_exporter": "python",
   "pygments_lexer": "ipython3",
   "version": "3.7.7"
  }
 },
 "nbformat": 4,
 "nbformat_minor": 4
}
