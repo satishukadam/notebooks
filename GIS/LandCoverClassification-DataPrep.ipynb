{
 "cells": [
  {
   "cell_type": "code",
   "execution_count": 35,
   "metadata": {},
   "outputs": [],
   "source": [
    "import numpy as np\n",
    "import cv2\n",
    "import json\n",
    "import matplotlib.pyplot as plt\n",
    "%matplotlib inline\n",
    "import os\n",
    "import PIL.Image\n",
    "\n",
    "#import geojson\n",
    "# Ignore warnings\n",
    "from warnings import filterwarnings\n",
    "filterwarnings('ignore')"
   ]
  },
  {
   "cell_type": "code",
   "execution_count": 48,
   "metadata": {},
   "outputs": [],
   "source": [
    "# 1. Resize 735 X 768 image into 768 X 768 image \n",
    "# 2. Crop image into 128 X 128 images\n",
    "# 3. Repeat for mask images too"
   ]
  },
  {
   "cell_type": "code",
   "execution_count": 12,
   "metadata": {},
   "outputs": [],
   "source": [
    "image_path = 'D:\\\\Study\\\\DataScience\\\\GeoAI\\\\ImageClassification\\\\ImageSegmentation\\\\landcover\\\\mainimage\\\\img.png'\n",
    "\n",
    "fname = []\n",
    "fname.append(image_path)"
   ]
  },
  {
   "cell_type": "code",
   "execution_count": 26,
   "metadata": {},
   "outputs": [],
   "source": [
    "for image in fname:\n",
    "    im =  cv2.imread(image, cv2.IMREAD_COLOR)\n",
    "    im = cv2.resize(im, (im.shape[1], im.shape[1]))\n",
    "\n",
    "    imgheight=im.shape[1]\n",
    "    imgwidth=im.shape[1]\n",
    "    \n",
    "    y1 = 0\n",
    "    M = imgheight//6\n",
    "    N = imgwidth//6\n",
    "    \n",
    "    image_name = os.path.basename(image)\n",
    "    \n",
    "    index = 0\n",
    "    \n",
    "    for y in range(0, imgheight, M):\n",
    "        for x in range(0, imgwidth, N):\n",
    "            y1 = y + M\n",
    "            x1 = x + N\n",
    "            tiles = im[y:y+M,x:x+N]\n",
    "\n",
    "            cv2.rectangle(im, (x, y), (x1, y1), (0, 255, 0))\n",
    "        \n",
    "            index = index + 1\n",
    "            \n",
    "            cropped_image_path = 'D:\\\\Study\\\\DataScience\\\\GeoAI\\\\ImageClassification\\\\ImageSegmentation\\\\landcover\\\\images'\n",
    "            \n",
    "            cropped_image = os.path.join(cropped_image_path, image_name.split('.')[0] + '_' + str(index) + '.png')\n",
    "            cv2.imwrite(cropped_image, tiles)"
   ]
  },
  {
   "cell_type": "code",
   "execution_count": 27,
   "metadata": {},
   "outputs": [],
   "source": [
    "mask_path = 'D:\\\\Study\\\\DataScience\\\\GeoAI\\\\ImageClassification\\\\ImageSegmentation\\\\landcover\\\\mainimage\\\\label.png'\n",
    "\n",
    "mname = []\n",
    "mname.append(mask_path)"
   ]
  },
  {
   "cell_type": "code",
   "execution_count": 39,
   "metadata": {},
   "outputs": [],
   "source": [
    "for mask in mname:\n",
    "       \n",
    "    # Here we are using PIL to read the image and convert it to array so as to preserve mask values in the label image\n",
    "    msk = np.asarray(PIL.Image.open(label_png))\n",
    "    \n",
    "    msk = cv2.resize(msk, (msk.shape[1], msk.shape[1]))\n",
    "\n",
    "    mskheight=msk.shape[1]\n",
    "    mskwidth=msk.shape[1]\n",
    "    \n",
    "    y1 = 0\n",
    "    M = mskheight//6\n",
    "    N = mskwidth//6\n",
    "    \n",
    "    mask_name = os.path.basename(mask)\n",
    "    \n",
    "    index = 0\n",
    "    \n",
    "    for y in range(0, mskheight, M):\n",
    "        for x in range(0, mskwidth, N):\n",
    "            y1 = y + M\n",
    "            x1 = x + N\n",
    "            tiles = msk[y:y+M,x:x+N]\n",
    "\n",
    "            cv2.rectangle(msk, (x, y), (x1, y1), (0, 255, 0))\n",
    "        \n",
    "            index = index + 1\n",
    "            \n",
    "            cropped_mask_path = 'D:\\\\Study\\\\DataScience\\\\GeoAI\\\\ImageClassification\\\\ImageSegmentation\\\\landcover\\\\masks'\n",
    "            \n",
    "            cropped_mask = os.path.join(cropped_mask_path, mask_name.split('.')[0] + '_' + str(index) + '.png')\n",
    "            cv2.imwrite(cropped_mask, tiles)"
   ]
  },
  {
   "cell_type": "code",
   "execution_count": 50,
   "metadata": {},
   "outputs": [
    {
     "name": "stdout",
     "output_type": "stream",
     "text": [
      "The shape of the cropped mask is: (128, 128)\n",
      "The type of the label data is: uint8\n",
      "The unique values of the labels are: [0 1 2 3]\n"
     ]
    }
   ],
   "source": [
    "# Varify the cropped masks in the respected folder\n",
    "# The cropped mask size should be 128 X 128\n",
    "# The dtype should be uint8\n",
    "# The unique values of the labels should be 1, 2, 3 for three classes ( buildings, roads and grass) and 0 for the background\n",
    "\n",
    "label_png = 'D:/Study/DataScience/GeoAI/ImageClassification/ImageSegmentation/landcover/masks/label_1.png'\n",
    "lbl = np.asarray(PIL.Image.open(label_png))\n",
    "\n",
    "\n",
    "print('The shape of the cropped mask is:', lbl.shape)\n",
    "print('The type of the label data is:', lbl.dtype)\n",
    "print('The unique values of the labels are:', np.unique(lbl))"
   ]
  },
  {
   "cell_type": "code",
   "execution_count": null,
   "metadata": {},
   "outputs": [],
   "source": []
  }
 ],
 "metadata": {
  "kernelspec": {
   "display_name": "Python 3",
   "language": "python",
   "name": "python3"
  },
  "language_info": {
   "codemirror_mode": {
    "name": "ipython",
    "version": 3
   },
   "file_extension": ".py",
   "mimetype": "text/x-python",
   "name": "python",
   "nbconvert_exporter": "python",
   "pygments_lexer": "ipython3",
   "version": "3.8.3"
  }
 },
 "nbformat": 4,
 "nbformat_minor": 4
}
