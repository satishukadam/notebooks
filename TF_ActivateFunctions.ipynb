{
 "cells": [
  {
   "cell_type": "markdown",
   "metadata": {},
   "source": [
    "<h1> Activate Functions </h1>"
   ]
  },
  {
   "cell_type": "code",
   "execution_count": 1,
   "metadata": {},
   "outputs": [],
   "source": [
    "import numpy as np"
   ]
  },
  {
   "cell_type": "markdown",
   "metadata": {},
   "source": [
    "<b> Sigmoid Function - (0 to 1)</b>"
   ]
  },
  {
   "cell_type": "code",
   "execution_count": 2,
   "metadata": {},
   "outputs": [],
   "source": [
    "def sinh_(a):\n",
    "    return 1/(1+np.exp(-a))"
   ]
  },
  {
   "cell_type": "code",
   "execution_count": 3,
   "metadata": {},
   "outputs": [
    {
     "name": "stdout",
     "output_type": "stream",
     "text": [
      "0.7310585786300049\n",
      "0.8807970779778823\n",
      "0.9525741268224334\n",
      "0.5\n",
      "0.2689414213699951\n",
      "0.11920292202211755\n",
      "0.04742587317756678\n"
     ]
    }
   ],
   "source": [
    "a = [1, 2, 3, 0, -1, -2, -3]\n",
    "\n",
    "for i in a:\n",
    "    print(sinh_(i))"
   ]
  },
  {
   "cell_type": "markdown",
   "metadata": {},
   "source": [
    "<b> Tanh Function - (-1 to 1) </b>"
   ]
  },
  {
   "cell_type": "code",
   "execution_count": 4,
   "metadata": {},
   "outputs": [
    {
     "name": "stdout",
     "output_type": "stream",
     "text": [
      "0.7615941559557646\n",
      "0.9640275800758169\n",
      "0.9950547536867307\n",
      "0.0\n",
      "-0.7615941559557649\n",
      "-0.9640275800758169\n",
      "-0.9950547536867305\n"
     ]
    }
   ],
   "source": [
    "def tanh_(b):\n",
    "    x = (2/(1+ np.exp(-2*b)))-1\n",
    "    return x\n",
    "\n",
    "for i in a:\n",
    "    print(tanh_(i))"
   ]
  },
  {
   "cell_type": "markdown",
   "metadata": {},
   "source": [
    "<b> ReLU Function - (0 to x) </b>"
   ]
  },
  {
   "cell_type": "code",
   "execution_count": 5,
   "metadata": {},
   "outputs": [
    {
     "name": "stdout",
     "output_type": "stream",
     "text": [
      "1\n",
      "2\n",
      "3\n",
      "0\n",
      "0\n",
      "0\n",
      "0\n"
     ]
    }
   ],
   "source": [
    "def relu_(c):\n",
    "    y = np.maximum(0, c)\n",
    "    return y\n",
    "\n",
    "for i in a:\n",
    "    print(relu_(i))"
   ]
  },
  {
   "cell_type": "markdown",
   "metadata": {},
   "source": [
    "<b> Softmax Function </b>"
   ]
  },
  {
   "cell_type": "code",
   "execution_count": 6,
   "metadata": {},
   "outputs": [
    {
     "name": "stdout",
     "output_type": "stream",
     "text": [
      "1.3132616875182228\n",
      "2.1269280110429727\n",
      "3.048587351573742\n",
      "0.6931471805599453\n",
      "0.31326168751822286\n",
      "0.1269280110429726\n",
      "0.04858735157374196\n"
     ]
    }
   ],
   "source": [
    "def softmax_(d):\n",
    "    z = np.log(1 + np.exp(d))\n",
    "    return z\n",
    "\n",
    "for i in a:\n",
    "    print(softmax_(i))"
   ]
  },
  {
   "cell_type": "markdown",
   "metadata": {},
   "source": [
    "<b> Step Function - (0 and 1) </b>"
   ]
  },
  {
   "cell_type": "code",
   "execution_count": 9,
   "metadata": {},
   "outputs": [
    {
     "name": "stdout",
     "output_type": "stream",
     "text": [
      "1\n",
      "1\n",
      "1\n",
      "0\n",
      "0\n",
      "0\n",
      "0\n"
     ]
    }
   ],
   "source": [
    "def step_(e):\n",
    "    if e <= 0:\n",
    "        return 0\n",
    "    else:\n",
    "        return 1\n",
    "    \n",
    "for i in a:\n",
    "    print(step_(i))"
   ]
  },
  {
   "cell_type": "code",
   "execution_count": null,
   "metadata": {},
   "outputs": [],
   "source": []
  }
 ],
 "metadata": {
  "kernelspec": {
   "display_name": "Python 3",
   "language": "python",
   "name": "python3"
  },
  "language_info": {
   "codemirror_mode": {
    "name": "ipython",
    "version": 3
   },
   "file_extension": ".py",
   "mimetype": "text/x-python",
   "name": "python",
   "nbconvert_exporter": "python",
   "pygments_lexer": "ipython3",
   "version": "3.7.1"
  }
 },
 "nbformat": 4,
 "nbformat_minor": 2
}
