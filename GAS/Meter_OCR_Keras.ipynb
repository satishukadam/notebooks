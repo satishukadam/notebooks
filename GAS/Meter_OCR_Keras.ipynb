{
 "cells": [
  {
   "cell_type": "code",
   "execution_count": 108,
   "metadata": {},
   "outputs": [],
   "source": [
    "# Import basic libraries\n",
    "import cv2\n",
    "import matplotlib.pyplot as plt\n",
    "%matplotlib inline\n",
    "import os"
   ]
  },
  {
   "cell_type": "code",
   "execution_count": 109,
   "metadata": {},
   "outputs": [],
   "source": [
    "# Create dataset directories\n",
    "\n",
    "base_path = 'D:\\Study\\DataScience\\OpenCV\\OCR'\n",
    "\n",
    "training_path = os.path.join(base_path, 'meter_ocr\\\\train\\\\')\n",
    "testing_path = os.path.join(base_path, 'meter_ocr\\\\test\\\\')"
   ]
  },
  {
   "cell_type": "code",
   "execution_count": 112,
   "metadata": {},
   "outputs": [
    {
     "name": "stdout",
     "output_type": "stream",
     "text": [
      "D:\\Study\\DataScience\\OpenCV\\OCR\\meter_ocr\\train\\0\n",
      "D:\\Study\\DataScience\\OpenCV\\OCR\\meter_ocr\\train\\1\n",
      "D:\\Study\\DataScience\\OpenCV\\OCR\\meter_ocr\\train\\2\n",
      "D:\\Study\\DataScience\\OpenCV\\OCR\\meter_ocr\\train\\3\n",
      "D:\\Study\\DataScience\\OpenCV\\OCR\\meter_ocr\\train\\4\n",
      "D:\\Study\\DataScience\\OpenCV\\OCR\\meter_ocr\\train\\5\n",
      "D:\\Study\\DataScience\\OpenCV\\OCR\\meter_ocr\\train\\6\n",
      "D:\\Study\\DataScience\\OpenCV\\OCR\\meter_ocr\\train\\7\n",
      "D:\\Study\\DataScience\\OpenCV\\OCR\\meter_ocr\\train\\8\n",
      "D:\\Study\\DataScience\\OpenCV\\OCR\\meter_ocr\\train\\9\n",
      "D:\\Study\\DataScience\\OpenCV\\OCR\\meter_ocr\\test\\0\n",
      "D:\\Study\\DataScience\\OpenCV\\OCR\\meter_ocr\\test\\1\n",
      "D:\\Study\\DataScience\\OpenCV\\OCR\\meter_ocr\\test\\2\n",
      "D:\\Study\\DataScience\\OpenCV\\OCR\\meter_ocr\\test\\3\n",
      "D:\\Study\\DataScience\\OpenCV\\OCR\\meter_ocr\\test\\4\n",
      "D:\\Study\\DataScience\\OpenCV\\OCR\\meter_ocr\\test\\5\n",
      "D:\\Study\\DataScience\\OpenCV\\OCR\\meter_ocr\\test\\6\n",
      "D:\\Study\\DataScience\\OpenCV\\OCR\\meter_ocr\\test\\7\n",
      "D:\\Study\\DataScience\\OpenCV\\OCR\\meter_ocr\\test\\8\n",
      "D:\\Study\\DataScience\\OpenCV\\OCR\\meter_ocr\\test\\9\n"
     ]
    }
   ],
   "source": [
    "def makedir(directory):\n",
    "    \"\"\"Creates a new directory if it does not exist\"\"\"\n",
    "    if not os.path.exists(directory):\n",
    "        os.makedirs(directory)\n",
    "        return None, 0\n",
    "    \n",
    "for i in range(0,10):\n",
    "    directory_name = training_path + str(i)\n",
    "    print(directory_name)\n",
    "    makedir(directory_name) \n",
    "\n",
    "for i in range(0,10):\n",
    "    directory_name = testing_path + str(i)\n",
    "    print(directory_name)\n",
    "    makedir(directory_name)"
   ]
  },
  {
   "cell_type": "code",
   "execution_count": 32,
   "metadata": {},
   "outputs": [],
   "source": [
    "# Create data augmentation functions using OpenCV\n",
    "import cv2\n",
    "import numpy as np \n",
    "import random\n",
    "from scipy.ndimage import convolve"
   ]
  },
  {
   "cell_type": "code",
   "execution_count": 86,
   "metadata": {},
   "outputs": [],
   "source": [
    "def DigitAugmentation(frame, dim = 32):\n",
    "    \"\"\"Randomly alters the image using noise, pixelation and streching image functions\"\"\"\n",
    "    frame = cv2.resize(frame, None, fx=2, fy=2, interpolation = cv2.INTER_CUBIC)\n",
    "    frame = cv2.cvtColor(frame, cv2.COLOR_GRAY2RGB)\n",
    "    random_num = np.random.randint(0,9)\n",
    "\n",
    "    if (random_num % 2 == 0):\n",
    "        frame = add_noise(frame)\n",
    "    if(random_num % 3 == 0):\n",
    "        frame = pixelate(frame)\n",
    "    if(random_num % 2 == 0):\n",
    "        frame = stretch(frame)\n",
    "    frame = cv2.resize(frame, (dim, dim), interpolation = cv2.INTER_AREA)\n",
    "\n",
    "    return frame \n",
    "\n",
    "def add_noise(image):\n",
    "    \"\"\"Addings noise to image\"\"\"\n",
    "    prob = random.uniform(0.01, 0.05)\n",
    "    rnd = np.random.rand(image.shape[0], image.shape[1])\n",
    "    noisy = image.copy()\n",
    "    noisy[rnd < prob] = 0\n",
    "    noisy[rnd > 1 - prob] = 1\n",
    "    return noisy\n",
    "\n",
    "def pixelate(image):\n",
    "    \"Pixelates an image by reducing the resolution then upscaling it\"\n",
    "    dim = np.random.randint(8,12)\n",
    "    image = cv2.resize(image, (dim, dim), interpolation = cv2.INTER_AREA)\n",
    "    image = cv2.resize(image, (16, 16), interpolation = cv2.INTER_AREA)\n",
    "    return image\n",
    "\n",
    "def stretch(image):\n",
    "    \"Randomly applies different degrees of stretch to image\"\n",
    "    ran = np.random.randint(0,3)*2\n",
    "    if np.random.randint(0,2) == 0:\n",
    "        frame = cv2.resize(image, (32, ran+32), interpolation = cv2.INTER_AREA)\n",
    "        return frame[int(ran/2):int(ran+32)-int(ran/2), 0:32]\n",
    "    else:\n",
    "        frame = cv2.resize(image, (ran+32, 32), interpolation = cv2.INTER_AREA)\n",
    "        return frame[0:32, int(ran/2):int(ran+32)-int(ran/2)]\n",
    "    \n",
    "def pre_process(image, inv = False):\n",
    "    \"\"\"Uses OTSU binarization on an image\"\"\"\n",
    "    try:\n",
    "        gray_image = cv2.cvtColor(image, cv2.COLOR_BGR2GRAY)\n",
    "    except:\n",
    "        gray_image = image\n",
    "        pass\n",
    "    \n",
    "    if inv == False:\n",
    "        _, th2 = cv2.threshold(gray_image, 0, 255, cv2.THRESH_BINARY + cv2.THRESH_OTSU)\n",
    "    else:\n",
    "        _, th2 = cv2.threshold(gray_image, 0, 255, cv2.THRESH_BINARY_INV + cv2.THRESH_OTSU)\n",
    "    resized = cv2.resize(th2, (32,32), interpolation = cv2.INTER_AREA)\n",
    "    return resized"
   ]
  },
  {
   "cell_type": "code",
   "execution_count": 91,
   "metadata": {},
   "outputs": [],
   "source": [
    "# Get the path for sample images\n",
    "sample_images_path = os.path.join(base_path, 'meter_ocr\\\\samples\\\\')\n",
    "\n",
    "# Get the full image path in a list\n",
    "fname = []\n",
    "for root,d_names,f_names in os.walk(sample_images_path):    \n",
    "    for f in f_names:\n",
    "        fname.append(os.path.join(sample_images_path, f))"
   ]
  },
  {
   "cell_type": "code",
   "execution_count": 95,
   "metadata": {},
   "outputs": [
    {
     "name": "stdout",
     "output_type": "stream",
     "text": [
      "Augmenting Digit -  0\n",
      "Augmenting Digit -  1\n",
      "Augmenting Digit -  2\n",
      "Augmenting Digit -  3\n",
      "Augmenting Digit -  4\n",
      "Augmenting Digit -  5\n",
      "Augmenting Digit -  6\n",
      "Augmenting Digit -  7\n",
      "Augmenting Digit -  8\n",
      "Augmenting Digit -  9\n"
     ]
    }
   ],
   "source": [
    "# Creating 2000 augmented images for each digit - TRAINING DATA\n",
    "\n",
    "for i in range(0, len(fname)):   \n",
    "    roi = cv2.imread(fname[i], 0)\n",
    "    #roi = cv2.cvtColor(roi, cv2.COLOR_RGB2GRAY)\n",
    "    \n",
    "    print(\"Augmenting Digit - \", str(i))\n",
    "    \n",
    "    # Create 2000 versions of each image for our dataset\n",
    "    for j in range(0, 2000):\n",
    "        roi2 = DigitAugmentation(roi)\n",
    "        roi_otsu = pre_process(roi2, inv = True)\n",
    "        folder_path = os.path.join(training_path, str(i))\n",
    "        image_number = os.path.join(folder_path, str(j))\n",
    "        image_path = image_number + '.jpg'\n",
    "        cv2.imwrite(image_path, roi_otsu)\n"
   ]
  },
  {
   "cell_type": "code",
   "execution_count": 97,
   "metadata": {},
   "outputs": [
    {
     "name": "stdout",
     "output_type": "stream",
     "text": [
      "Augmenting Digit -  0\n",
      "Augmenting Digit -  1\n",
      "Augmenting Digit -  2\n",
      "Augmenting Digit -  3\n",
      "Augmenting Digit -  4\n",
      "Augmenting Digit -  5\n",
      "Augmenting Digit -  6\n",
      "Augmenting Digit -  7\n",
      "Augmenting Digit -  8\n",
      "Augmenting Digit -  9\n"
     ]
    }
   ],
   "source": [
    "# Creating 200 augmented images for each digit - TESTING DATA\n",
    "\n",
    "for i in range(0, len(fname)):   \n",
    "    roi = cv2.imread(fname[i], 0)\n",
    "    #roi = cv2.cvtColor(roi, cv2.COLOR_RGB2GRAY)\n",
    "    \n",
    "    print(\"Augmenting Digit - \", str(i))\n",
    "    \n",
    "    # We create 2000 versions of each image for our dataset\n",
    "    for j in range(0, 200):\n",
    "        roi2 = DigitAugmentation(roi)\n",
    "        roi_otsu = pre_process(roi2, inv = True)\n",
    "        folder_path = os.path.join(testing_path, str(i))\n",
    "        image_number = os.path.join(folder_path, str(j))\n",
    "        image_path =image_number + '.jpg'\n",
    "        cv2.imwrite(image_path, roi_otsu)"
   ]
  },
  {
   "cell_type": "markdown",
   "metadata": {},
   "source": [
    "## Creating Keras Classifier"
   ]
  },
  {
   "cell_type": "code",
   "execution_count": 99,
   "metadata": {},
   "outputs": [
    {
     "name": "stderr",
     "output_type": "stream",
     "text": [
      "Using TensorFlow backend.\n"
     ]
    }
   ],
   "source": [
    "import os\n",
    "import numpy as np\n",
    "from keras.models import Sequential\n",
    "from keras.layers import Activation, Dropout, Flatten, Dense\n",
    "from keras.preprocessing.image import ImageDataGenerator\n",
    "from keras.layers import Conv2D, MaxPooling2D, ZeroPadding2D\n",
    "from keras import optimizers\n",
    "import keras"
   ]
  },
  {
   "cell_type": "code",
   "execution_count": 100,
   "metadata": {},
   "outputs": [
    {
     "name": "stdout",
     "output_type": "stream",
     "text": [
      "Found 20000 images belonging to 10 classes.\n",
      "Found 2000 images belonging to 10 classes.\n"
     ]
    }
   ],
   "source": [
    "input_shape = (32, 32, 3)\n",
    "img_width = 32\n",
    "img_height = 32\n",
    "num_classes = 10\n",
    "nb_train_samples = 10000\n",
    "nb_validation_samples = 2000\n",
    "batch_size = 16\n",
    "epochs = 1\n",
    "\n",
    "train_data_dir = training_path\n",
    "validation_data_dir = testing_path\n",
    "\n",
    "# Creating our data generator for our test data\n",
    "validation_datagen = ImageDataGenerator(\n",
    "    # used to rescale the pixel values from [0, 255] to [0, 1] interval\n",
    "    rescale = 1./255)\n",
    "\n",
    "# Creating our data generator for our training data\n",
    "train_datagen = ImageDataGenerator(\n",
    "      rescale = 1./255,              # normalize pixel values to [0,1]\n",
    "      rotation_range = 10,           # randomly applies rotations\n",
    "      width_shift_range = 0.25,       # randomly applies width shifting\n",
    "      height_shift_range = 0.25,      # randomly applies height shifting\n",
    "      shear_range=0.5,\n",
    "      zoom_range=0.5,\n",
    "      horizontal_flip = False,        # randonly flips the image\n",
    "      fill_mode = 'nearest')         # uses the fill mode nearest to fill gaps created by the above\n",
    "\n",
    "# Specify criteria about our training data, such as the directory, image size, batch size and type \n",
    "# automagically retrieve images and their classes for train and validation sets\n",
    "train_generator = train_datagen.flow_from_directory(\n",
    "        train_data_dir,\n",
    "        target_size = (img_width, img_height),\n",
    "        batch_size = batch_size,\n",
    "        class_mode = 'categorical')\n",
    "\n",
    "validation_generator = validation_datagen.flow_from_directory(\n",
    "        validation_data_dir,\n",
    "        target_size = (img_width, img_height),\n",
    "        batch_size = batch_size,\n",
    "        class_mode = 'categorical',\n",
    "        shuffle = False)    "
   ]
  },
  {
   "cell_type": "markdown",
   "metadata": {},
   "source": [
    "## Creating out Model based on the LeNet CNN Architecture"
   ]
  },
  {
   "cell_type": "code",
   "execution_count": 101,
   "metadata": {},
   "outputs": [
    {
     "name": "stdout",
     "output_type": "stream",
     "text": [
      "Model: \"sequential_1\"\n",
      "_________________________________________________________________\n",
      "Layer (type)                 Output Shape              Param #   \n",
      "=================================================================\n",
      "conv2d_1 (Conv2D)            (None, 32, 32, 20)        1520      \n",
      "_________________________________________________________________\n",
      "activation_1 (Activation)    (None, 32, 32, 20)        0         \n",
      "_________________________________________________________________\n",
      "max_pooling2d_1 (MaxPooling2 (None, 16, 16, 20)        0         \n",
      "_________________________________________________________________\n",
      "conv2d_2 (Conv2D)            (None, 16, 16, 50)        25050     \n",
      "_________________________________________________________________\n",
      "activation_2 (Activation)    (None, 16, 16, 50)        0         \n",
      "_________________________________________________________________\n",
      "max_pooling2d_2 (MaxPooling2 (None, 8, 8, 50)          0         \n",
      "_________________________________________________________________\n",
      "flatten_1 (Flatten)          (None, 3200)              0         \n",
      "_________________________________________________________________\n",
      "dense_1 (Dense)              (None, 500)               1600500   \n",
      "_________________________________________________________________\n",
      "activation_3 (Activation)    (None, 500)               0         \n",
      "_________________________________________________________________\n",
      "dense_2 (Dense)              (None, 10)                5010      \n",
      "_________________________________________________________________\n",
      "activation_4 (Activation)    (None, 10)                0         \n",
      "=================================================================\n",
      "Total params: 1,632,080\n",
      "Trainable params: 1,632,080\n",
      "Non-trainable params: 0\n",
      "_________________________________________________________________\n",
      "None\n"
     ]
    }
   ],
   "source": [
    "# create model\n",
    "model = Sequential()\n",
    "\n",
    "# 2 sets of CRP (Convolution, RELU, Pooling)\n",
    "model.add(Conv2D(20, (5, 5), padding = \"same\", input_shape = input_shape))\n",
    "model.add(Activation(\"relu\"))\n",
    "model.add(MaxPooling2D(pool_size = (2, 2), strides = (2, 2)))\n",
    "\n",
    "model.add(Conv2D(50, (5, 5), padding = \"same\"))\n",
    "model.add(Activation(\"relu\"))\n",
    "model.add(MaxPooling2D(pool_size = (2, 2), strides = (2, 2)))\n",
    "\n",
    "# Fully connected layers (w/ RELU)\n",
    "model.add(Flatten())\n",
    "model.add(Dense(500))\n",
    "model.add(Activation(\"relu\"))\n",
    "\n",
    "# Softmax (for classification)\n",
    "model.add(Dense(num_classes))\n",
    "model.add(Activation(\"softmax\"))\n",
    "           \n",
    "model.compile(loss = 'categorical_crossentropy',\n",
    "              optimizer = keras.optimizers.Adadelta(),\n",
    "              metrics = ['accuracy'])\n",
    "    \n",
    "print(model.summary())"
   ]
  },
  {
   "cell_type": "markdown",
   "metadata": {},
   "source": [
    "## Training our Model"
   ]
  },
  {
   "cell_type": "code",
   "execution_count": 103,
   "metadata": {},
   "outputs": [
    {
     "name": "stdout",
     "output_type": "stream",
     "text": [
      "Epoch 1/5\n",
      "1250/1250 [==============================] - 86s 68ms/step - loss: 0.4038 - accuracy: 0.8701 - val_loss: 2.1760e-04 - val_accuracy: 0.9985\n",
      "Epoch 2/5\n",
      "1250/1250 [==============================] - 84s 68ms/step - loss: 0.0860 - accuracy: 0.9745 - val_loss: 3.0547e-07 - val_accuracy: 1.0000\n",
      "Epoch 3/5\n",
      "1250/1250 [==============================] - 84s 67ms/step - loss: 0.0618 - accuracy: 0.9835 - val_loss: 8.1956e-08 - val_accuracy: 1.0000\n",
      "Epoch 4/5\n",
      "1250/1250 [==============================] - 81s 65ms/step - loss: 0.0592 - accuracy: 0.9839 - val_loss: 7.0780e-07 - val_accuracy: 1.0000\n",
      "Epoch 5/5\n",
      "1250/1250 [==============================] - 84s 67ms/step - loss: 0.0499 - accuracy: 0.9873 - val_loss: 0.0000e+00 - val_accuracy: 1.0000\n"
     ]
    }
   ],
   "source": [
    "from keras.optimizers import RMSprop\n",
    "from keras.callbacks import ModelCheckpoint, EarlyStopping\n",
    "                   \n",
    "earlystop = EarlyStopping(monitor = 'val_loss', min_delta = 0, patience = 3,\n",
    "                          verbose = 1, restore_best_weights = True)\n",
    "\n",
    "# we put our call backs into a callback list\n",
    "callbacks = [earlystop]\n",
    "\n",
    "# Note we use a very small learning rate \n",
    "model.compile(loss = 'categorical_crossentropy', optimizer = RMSprop(lr = 0.001),\n",
    "              metrics = ['accuracy'])\n",
    "\n",
    "nb_train_samples = 20000\n",
    "nb_validation_samples = 4000\n",
    "epochs = 5\n",
    "batch_size = 16\n",
    "\n",
    "history = model.fit_generator(\n",
    "    train_generator,\n",
    "    steps_per_epoch = nb_train_samples // batch_size,\n",
    "    epochs = epochs,\n",
    "    callbacks = callbacks,\n",
    "    validation_data = validation_generator,\n",
    "    validation_steps = nb_validation_samples // batch_size)\n",
    "\n"
   ]
  },
  {
   "cell_type": "code",
   "execution_count": 106,
   "metadata": {},
   "outputs": [],
   "source": [
    "# Save the model\n",
    "model.save(\"D:\\Study\\DataScience\\OpenCV\\OCR\\meter_ocr\\meter_ocr.h5\")"
   ]
  },
  {
   "cell_type": "code",
   "execution_count": 107,
   "metadata": {},
   "outputs": [
    {
     "data": {
      "image/png": "[encoded data removed]",
      "text/plain": [
       "<Figure size 720x576 with 1 Axes>"
      ]
     },
     "metadata": {
      "needs_background": "light"
     },
     "output_type": "display_data"
    }
   ],
   "source": [
    "# Plot training and validation loss\n",
    "plt.figure(figsize=(10,8))\n",
    "plt.plot(history.history['loss'], label='Train Loss')\n",
    "plt.plot(history.history['val_loss'], label='Test Loss')\n",
    "plt.title('model loss')\n",
    "plt.ylabel('loss')\n",
    "plt.xlabel('epochs')\n",
    "plt.legend(loc='upper right')\n",
    "plt.show()"
   ]
  },
  {
   "cell_type": "code",
   "execution_count": null,
   "metadata": {},
   "outputs": [],
   "source": []
  }
 ],
 "metadata": {
  "kernelspec": {
   "display_name": "Python 3",
   "language": "python",
   "name": "python3"
  },
  "language_info": {
   "codemirror_mode": {
    "name": "ipython",
    "version": 3
   },
   "file_extension": ".py",
   "mimetype": "text/x-python",
   "name": "python",
   "nbconvert_exporter": "python",
   "pygments_lexer": "ipython3",
   "version": "3.7.7"
  }
 },
 "nbformat": 4,
 "nbformat_minor": 4
}
