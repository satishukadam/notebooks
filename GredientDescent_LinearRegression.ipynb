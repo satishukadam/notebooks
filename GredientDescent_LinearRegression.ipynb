{
 "cells": [
  {
   "cell_type": "code",
   "execution_count": null,
   "metadata": {},
   "outputs": [],
   "source": []
  },
  {
   "cell_type": "code",
   "execution_count": 57,
   "metadata": {},
   "outputs": [],
   "source": [
    "import numpy as np\n",
    "import pandas as pd\n",
    "import matplotlib.pyplot as plt\n",
    "%matplotlib inline\n",
    "import seaborn as sns\n",
    "\n",
    "from warnings import filterwarnings\n",
    "filterwarnings('ignore')"
   ]
  },
  {
   "cell_type": "code",
   "execution_count": 13,
   "metadata": {},
   "outputs": [
    {
     "data": {
      "text/html": [
       "<div>\n",
       "<style scoped>\n",
       "    .dataframe tbody tr th:only-of-type {\n",
       "        vertical-align: middle;\n",
       "    }\n",
       "\n",
       "    .dataframe tbody tr th {\n",
       "        vertical-align: top;\n",
       "    }\n",
       "\n",
       "    .dataframe thead th {\n",
       "        text-align: right;\n",
       "    }\n",
       "</style>\n",
       "<table border=\"1\" class=\"dataframe\">\n",
       "  <thead>\n",
       "    <tr style=\"text-align: right;\">\n",
       "      <th></th>\n",
       "      <th>Height</th>\n",
       "      <th>Weight</th>\n",
       "    </tr>\n",
       "  </thead>\n",
       "  <tbody>\n",
       "    <tr>\n",
       "      <th>0</th>\n",
       "      <td>73.847017</td>\n",
       "      <td>241.893563</td>\n",
       "    </tr>\n",
       "    <tr>\n",
       "      <th>1</th>\n",
       "      <td>68.781904</td>\n",
       "      <td>162.310473</td>\n",
       "    </tr>\n",
       "    <tr>\n",
       "      <th>2</th>\n",
       "      <td>74.110105</td>\n",
       "      <td>212.740856</td>\n",
       "    </tr>\n",
       "    <tr>\n",
       "      <th>3</th>\n",
       "      <td>71.730978</td>\n",
       "      <td>220.042470</td>\n",
       "    </tr>\n",
       "    <tr>\n",
       "      <th>4</th>\n",
       "      <td>69.881796</td>\n",
       "      <td>206.349801</td>\n",
       "    </tr>\n",
       "  </tbody>\n",
       "</table>\n",
       "</div>"
      ],
      "text/plain": [
       "      Height      Weight\n",
       "0  73.847017  241.893563\n",
       "1  68.781904  162.310473\n",
       "2  74.110105  212.740856\n",
       "3  71.730978  220.042470\n",
       "4  69.881796  206.349801"
      ]
     },
     "execution_count": 13,
     "metadata": {},
     "output_type": "execute_result"
    }
   ],
   "source": [
    "df = pd.read_csv(\"D:/Study/DataScience/GradientDescent/weight_height_reg.csv\")\n",
    "\n",
    "df.head()"
   ]
  },
  {
   "cell_type": "code",
   "execution_count": 38,
   "metadata": {},
   "outputs": [],
   "source": [
    "x = df.iloc[:,:-1].values\n",
    "\n",
    "y = df.iloc[:,-1].values\n"
   ]
  },
  {
   "cell_type": "code",
   "execution_count": 39,
   "metadata": {},
   "outputs": [],
   "source": [
    "from sklearn.model_selection import train_test_split\n",
    "\n",
    "x_train, x_test, y_train, y_test = train_test_split(x, y, test_size = 0.2, random_state = 0)"
   ]
  },
  {
   "cell_type": "code",
   "execution_count": 44,
   "metadata": {},
   "outputs": [],
   "source": [
    "from sklearn.linear_model import LinearRegression\n",
    "\n",
    "lr = LinearRegression()"
   ]
  },
  {
   "cell_type": "code",
   "execution_count": 45,
   "metadata": {},
   "outputs": [],
   "source": [
    "lr.fit(x_train, y_train)\n",
    "\n",
    "y_pred = lr.predict(x_test)"
   ]
  },
  {
   "cell_type": "code",
   "execution_count": 66,
   "metadata": {},
   "outputs": [],
   "source": [
    "from sklearn.linear_model import SGDRegressor\n",
    "\n",
    "lr_gd = SGDRegressor()"
   ]
  },
  {
   "cell_type": "code",
   "execution_count": 67,
   "metadata": {},
   "outputs": [],
   "source": [
    "lr_gd.fit(x_train, y_train)\n",
    "\n",
    "y_pred_gd = lr_gd.predict(x_test)"
   ]
  },
  {
   "cell_type": "code",
   "execution_count": 59,
   "metadata": {},
   "outputs": [
    {
     "data": {
      "image/png": "[encoded data removed]",
      "text/plain": [
       "<Figure size 432x288 with 1 Axes>"
      ]
     },
     "metadata": {
      "needs_background": "light"
     },
     "output_type": "display_data"
    }
   ],
   "source": [
    "plt.scatter(x_test, y_test )\n",
    "plt.plot(x_test, y_pred, 'r-')\n",
    "plt.plot(x_test, y_pred_gd, 'b--')\n",
    "plt.show()"
   ]
  },
  {
   "cell_type": "code",
   "execution_count": 62,
   "metadata": {},
   "outputs": [
    {
     "data": {
      "text/plain": [
       "[<matplotlib.lines.Line2D at 0x23ee7117710>]"
      ]
     },
     "execution_count": 62,
     "metadata": {},
     "output_type": "execute_result"
    },
    {
     "data": {
      "image/png": "[encoded data removed]",
      "text/plain": [
       "<Figure size 432x288 with 1 Axes>"
      ]
     },
     "metadata": {
      "needs_background": "light"
     },
     "output_type": "display_data"
    }
   ],
   "source": [
    "#plt.scatter(x_test, y_test )\n",
    "#plt.plot(x_test, y_pred, 'r-')\n",
    "plt.plot(x_test, y_pred_gd, 'b--')"
   ]
  },
  {
   "cell_type": "code",
   "execution_count": 68,
   "metadata": {},
   "outputs": [
    {
     "data": {
      "text/plain": [
       "array([-8.73704767e+11, -8.07158341e+11, -9.25022252e+11, -8.81748298e+11,\n",
       "       -8.77389820e+11, -8.50747718e+11, -8.86539940e+11, -8.79035524e+11,\n",
       "       -8.59721285e+11, -8.73795854e+11, -9.00991163e+11, -8.62184538e+11,\n",
       "       -8.75595287e+11, -9.32528054e+11, -8.71402992e+11, -9.35328464e+11,\n",
       "       -8.49631361e+11, -8.73243452e+11, -9.71340167e+11, -8.94842833e+11,\n",
       "       -8.46792369e+11, -9.31852449e+11, -9.34679813e+11, -9.30224573e+11,\n",
       "       -9.42480727e+11, -8.71101843e+11, -8.76396382e+11, -8.82487675e+11,\n",
       "       -8.86412487e+11, -8.89364093e+11, -9.15166010e+11, -9.41645228e+11,\n",
       "       -9.11686170e+11, -8.01398390e+11, -8.44426203e+11, -8.75633898e+11,\n",
       "       -9.52334392e+11, -8.71068355e+11, -9.31168431e+11, -8.83267444e+11,\n",
       "       -9.03889759e+11, -9.27127094e+11, -9.45928223e+11, -9.33918086e+11,\n",
       "       -9.33722580e+11, -8.85529365e+11, -8.37430334e+11, -8.71957929e+11,\n",
       "       -8.73453390e+11, -8.63630755e+11, -8.68735533e+11, -8.98546959e+11,\n",
       "       -8.30618925e+11, -9.08661385e+11, -8.98298011e+11, -9.30490222e+11,\n",
       "       -9.46389802e+11, -8.48446810e+11, -8.56238661e+11, -9.40577584e+11,\n",
       "       -9.35396621e+11, -9.04523726e+11, -8.66336083e+11, -9.12159480e+11,\n",
       "       -8.60997300e+11, -9.35345077e+11, -8.91113675e+11, -9.04281112e+11,\n",
       "       -8.77073081e+11, -9.29761963e+11, -8.71486669e+11, -9.03376374e+11,\n",
       "       -9.13869748e+11, -9.14920179e+11, -8.80792574e+11, -8.72858413e+11,\n",
       "       -8.98551638e+11, -8.84610903e+11, -9.50070813e+11, -8.96836832e+11,\n",
       "       -9.54681755e+11, -8.49447107e+11, -8.79527751e+11, -8.47128386e+11,\n",
       "       -8.86715443e+11, -8.67181995e+11, -9.01500270e+11, -9.04390657e+11,\n",
       "       -9.09425783e+11, -8.59070617e+11, -9.04896101e+11, -8.73855700e+11,\n",
       "       -8.49730304e+11, -8.82487320e+11, -9.23652216e+11, -9.15565550e+11,\n",
       "       -8.94690807e+11, -8.93722638e+11, -9.10300858e+11, -8.67874900e+11,\n",
       "       -9.69363769e+11, -9.02313892e+11, -9.25789434e+11, -9.29135703e+11,\n",
       "       -8.96450568e+11, -9.75233278e+11, -8.70443095e+11, -9.14605566e+11,\n",
       "       -8.96298698e+11, -8.86139180e+11, -8.99075688e+11, -8.46371738e+11,\n",
       "       -8.72500992e+11, -9.19251610e+11, -8.83380593e+11, -8.42245107e+11,\n",
       "       -9.45731226e+11, -8.77385307e+11, -9.24933573e+11, -8.84003813e+11,\n",
       "       -9.11386612e+11, -9.77723828e+11, -9.30855375e+11, -8.90657119e+11,\n",
       "       -9.05483820e+11, -8.46724243e+11, -8.55791161e+11, -8.93691029e+11,\n",
       "       -8.17761252e+11, -8.69268548e+11, -8.24815929e+11, -8.89583452e+11,\n",
       "       -9.02093465e+11, -8.90986883e+11, -8.92917872e+11, -9.38747733e+11,\n",
       "       -9.21023295e+11, -8.84894632e+11, -9.01876777e+11, -8.79721513e+11,\n",
       "       -8.85248840e+11, -8.59769705e+11, -8.21261355e+11, -8.69553386e+11,\n",
       "       -9.14885958e+11, -8.67641790e+11, -9.64319502e+11, -8.78105539e+11,\n",
       "       -8.96016099e+11, -9.20021371e+11, -9.47019569e+11, -8.63916124e+11,\n",
       "       -9.42023068e+11, -8.83901044e+11, -9.28278788e+11, -9.17591760e+11,\n",
       "       -8.88340347e+11, -9.55097572e+11, -8.47472739e+11, -9.38406367e+11,\n",
       "       -9.32118656e+11, -9.40297711e+11, -8.71139764e+11, -8.43119651e+11,\n",
       "       -8.83611683e+11, -8.83778852e+11, -8.94649465e+11, -8.25220803e+11,\n",
       "       -8.57996923e+11, -9.06095665e+11, -9.06616820e+11, -9.29906932e+11,\n",
       "       -9.09500607e+11, -8.69474180e+11, -9.66679135e+11, -8.72786870e+11,\n",
       "       -9.64769775e+11, -9.24425609e+11, -7.81411868e+11, -8.36840716e+11,\n",
       "       -9.20892934e+11, -9.47353542e+11, -9.37349082e+11, -8.88542788e+11,\n",
       "       -9.20668495e+11, -8.82472181e+11, -8.93445962e+11, -8.40848862e+11,\n",
       "       -9.44498855e+11, -8.44863214e+11, -8.56722201e+11, -8.82110110e+11,\n",
       "       -8.76672671e+11, -8.80214755e+11, -8.91469688e+11, -9.25709193e+11,\n",
       "       -8.26197679e+11, -9.21048225e+11, -9.75926310e+11, -9.50666333e+11,\n",
       "       -9.28392194e+11, -8.95838936e+11, -8.78341771e+11, -9.77192366e+11,\n",
       "       -8.80399138e+11, -8.94561306e+11, -9.26957842e+11, -8.62928925e+11,\n",
       "       -9.38532280e+11, -9.19641828e+11, -9.34432461e+11, -9.80955487e+11,\n",
       "       -8.99703660e+11, -9.27450254e+11, -8.75532125e+11, -8.26852900e+11,\n",
       "       -9.21572423e+11, -9.05578857e+11, -8.94485842e+11, -8.40500415e+11,\n",
       "       -8.65756400e+11, -8.89473396e+11, -9.51213661e+11, -9.49134910e+11,\n",
       "       -8.71722947e+11, -9.41097379e+11, -8.56434564e+11, -8.63255580e+11,\n",
       "       -8.65584375e+11, -8.95900833e+11, -9.43233004e+11, -8.34775316e+11,\n",
       "       -9.41572408e+11, -9.31892029e+11, -9.15123779e+11, -9.35937872e+11,\n",
       "       -8.64422993e+11, -9.05211351e+11, -8.92545837e+11, -8.66028155e+11,\n",
       "       -9.14311539e+11, -8.11822383e+11, -9.32397506e+11, -8.86473603e+11,\n",
       "       -9.70749000e+11, -8.48621547e+11, -8.71377806e+11, -8.90020163e+11,\n",
       "       -8.18084503e+11, -8.63965506e+11, -8.89204451e+11, -9.47502664e+11,\n",
       "       -8.34191271e+11, -9.49613430e+11, -9.06501974e+11, -8.88271994e+11,\n",
       "       -8.49327710e+11, -8.74191337e+11, -8.79183165e+11, -9.28772164e+11,\n",
       "       -8.46816065e+11, -9.29134720e+11, -8.63671184e+11, -9.05351219e+11,\n",
       "       -9.01057004e+11, -9.32765763e+11, -9.38314005e+11, -9.55091976e+11,\n",
       "       -9.16517888e+11, -9.94962079e+11, -8.82904872e+11, -8.46644796e+11,\n",
       "       -8.82378907e+11, -8.91263384e+11, -9.30237417e+11, -8.30684301e+11,\n",
       "       -9.19010499e+11, -8.91144091e+11, -9.15329030e+11, -9.43128222e+11,\n",
       "       -9.39311165e+11, -8.43990857e+11, -9.35698944e+11, -9.29883925e+11,\n",
       "       -8.63002767e+11, -8.10995125e+11, -8.91460184e+11, -9.49452768e+11,\n",
       "       -8.65918131e+11, -8.97861889e+11, -8.93560668e+11, -8.71201039e+11,\n",
       "       -8.72728479e+11, -8.59729379e+11, -9.92350072e+11, -8.71685038e+11,\n",
       "       -8.70149825e+11, -8.79757975e+11, -8.12943297e+11, -8.89997637e+11,\n",
       "       -9.38510551e+11, -8.81796969e+11, -8.84898428e+11, -8.74700657e+11,\n",
       "       -9.05348786e+11, -8.66282617e+11, -8.24102696e+11, -8.54113653e+11,\n",
       "       -8.45790129e+11, -8.65222318e+11, -9.28672205e+11, -9.00724497e+11,\n",
       "       -9.32480985e+11, -8.87126544e+11, -8.79213015e+11, -8.20048882e+11,\n",
       "       -9.06066640e+11, -8.95291948e+11, -9.16780188e+11, -8.57771194e+11,\n",
       "       -8.57458571e+11, -8.38194596e+11, -8.60409487e+11, -8.84501614e+11,\n",
       "       -8.60950736e+11, -8.89870348e+11, -9.21101386e+11, -9.33553281e+11,\n",
       "       -9.17236910e+11, -8.90462430e+11, -9.75919856e+11, -8.58069944e+11,\n",
       "       -8.80504791e+11, -9.10031425e+11, -8.65851491e+11, -9.05116543e+11,\n",
       "       -9.32027880e+11, -9.34866648e+11, -8.83354592e+11, -8.83659144e+11,\n",
       "       -9.26970905e+11, -8.93832239e+11, -8.72728827e+11, -9.19754912e+11,\n",
       "       -9.45532397e+11, -9.47369031e+11, -9.00364341e+11, -9.39165495e+11,\n",
       "       -9.67857207e+11, -9.28736023e+11, -9.07376184e+11, -9.12588908e+11,\n",
       "       -8.89960314e+11, -9.01620233e+11, -8.81238230e+11, -8.80570726e+11,\n",
       "       -9.01740819e+11, -8.92238904e+11, -8.04861802e+11, -9.16912121e+11,\n",
       "       -9.18421060e+11, -9.22979661e+11, -9.36698268e+11, -8.53044343e+11,\n",
       "       -9.05667684e+11, -9.02856766e+11, -9.04458462e+11, -9.33349397e+11,\n",
       "       -8.95238086e+11, -8.47095447e+11, -8.88440918e+11, -8.84866543e+11,\n",
       "       -9.75846475e+11, -8.19662911e+11, -9.24359884e+11, -9.12214231e+11,\n",
       "       -8.23138903e+11, -9.64142649e+11, -9.62039860e+11, -8.67828739e+11,\n",
       "       -8.38515500e+11, -9.32094773e+11, -8.45221348e+11, -9.35573897e+11,\n",
       "       -8.89187283e+11, -8.69498457e+11, -9.50051585e+11, -9.23454652e+11,\n",
       "       -9.23230654e+11, -9.15732895e+11, -8.99004950e+11, -8.60837011e+11,\n",
       "       -8.26877859e+11, -9.03833453e+11, -9.38676980e+11, -8.92203668e+11,\n",
       "       -9.21666815e+11, -8.14387707e+11, -8.71655700e+11, -8.97221184e+11,\n",
       "       -9.50441258e+11, -8.84568126e+11, -8.83961366e+11, -8.57258579e+11,\n",
       "       -9.62089139e+11, -9.52729809e+11, -8.41165878e+11, -8.80450751e+11,\n",
       "       -8.93103880e+11, -8.60821354e+11, -8.79846875e+11, -9.45314721e+11,\n",
       "       -9.29412436e+11, -8.99761123e+11, -8.29041815e+11, -8.66582779e+11,\n",
       "       -8.70662192e+11, -8.31676050e+11, -8.88989579e+11, -8.78779849e+11,\n",
       "       -9.08454965e+11, -8.75150575e+11, -9.20121758e+11, -8.87475486e+11,\n",
       "       -8.86102059e+11, -8.88706382e+11, -9.08740626e+11, -8.86301514e+11,\n",
       "       -9.36907643e+11, -8.87302454e+11, -8.30497185e+11, -8.80770378e+11,\n",
       "       -8.72555206e+11, -9.00009372e+11, -8.43443698e+11, -9.32281170e+11,\n",
       "       -8.67296125e+11, -9.10881546e+11, -9.59610790e+11, -9.17314755e+11,\n",
       "       -9.43145771e+11, -8.46978925e+11, -8.67341644e+11, -9.28286617e+11,\n",
       "       -9.18078571e+11, -9.29753772e+11, -9.27480592e+11, -8.92306460e+11,\n",
       "       -1.00774463e+12, -8.22897873e+11, -9.27166997e+11, -9.04944333e+11,\n",
       "       -8.70635633e+11, -9.25169836e+11, -9.08808038e+11, -8.96196828e+11,\n",
       "       -8.79632744e+11, -9.05357140e+11, -8.77094989e+11, -9.31594683e+11,\n",
       "       -9.92014733e+11, -9.32956029e+11, -8.67760075e+11, -8.76910919e+11,\n",
       "       -9.59040567e+11, -9.24970898e+11, -8.75352943e+11, -8.65359993e+11,\n",
       "       -8.99784292e+11, -9.35990886e+11, -9.62643785e+11, -8.92512521e+11,\n",
       "       -9.22346924e+11, -8.46297710e+11, -9.12036848e+11, -9.12137860e+11,\n",
       "       -8.91346777e+11, -9.10673218e+11, -9.17165499e+11, -8.96550028e+11,\n",
       "       -8.62532111e+11, -8.48993936e+11, -8.57251612e+11, -9.18330758e+11,\n",
       "       -8.58550241e+11, -9.23121761e+11, -8.91439481e+11, -7.92329989e+11,\n",
       "       -9.06610017e+11, -8.81217143e+11, -8.87348633e+11, -8.82625951e+11,\n",
       "       -9.27620953e+11, -8.87845788e+11, -9.28096432e+11, -8.53589485e+11,\n",
       "       -9.36897821e+11, -9.63956115e+11, -8.71861876e+11, -9.13423339e+11,\n",
       "       -8.53653556e+11, -9.04060702e+11, -8.80415772e+11, -9.28996674e+11,\n",
       "       -1.00749560e+12, -8.97330815e+11, -8.97923565e+11, -8.86590804e+11,\n",
       "       -9.03115332e+11, -9.16013149e+11, -9.16449450e+11, -9.69619571e+11,\n",
       "       -8.66165208e+11, -8.67546039e+11, -9.13325823e+11, -8.50477694e+11,\n",
       "       -8.54276168e+11, -8.49866173e+11, -9.01421133e+11, -9.36745435e+11,\n",
       "       -9.18366340e+11, -8.65408792e+11, -8.32307748e+11, -9.07488253e+11,\n",
       "       -9.20848244e+11, -8.11403199e+11, -8.72456409e+11, -9.15982201e+11,\n",
       "       -9.40412148e+11, -8.69502573e+11, -9.04862612e+11, -9.36739845e+11,\n",
       "       -9.40891725e+11, -9.59557059e+11, -9.28712270e+11, -8.90327753e+11,\n",
       "       -8.99795359e+11, -9.19396465e+11, -8.83451426e+11, -8.60253135e+11,\n",
       "       -9.33855837e+11, -8.40322213e+11, -9.35179283e+11, -8.93383990e+11,\n",
       "       -8.63152669e+11, -8.83417714e+11, -9.22753816e+11, -8.67074813e+11,\n",
       "       -8.94731469e+11, -9.01327783e+11, -8.32326976e+11, -8.23665860e+11,\n",
       "       -9.03936139e+11, -9.04074251e+11, -8.41458372e+11, -8.39181378e+11,\n",
       "       -9.36451756e+11, -8.52691893e+11, -8.28964540e+11, -7.90513068e+11,\n",
       "       -9.08266802e+11, -8.74297951e+11, -8.87376092e+11, -8.49296892e+11,\n",
       "       -9.00438177e+11, -9.10628073e+11, -9.25061799e+11, -8.75239423e+11,\n",
       "       -9.05601447e+11, -9.16926301e+11, -9.59771405e+11, -8.79467819e+11,\n",
       "       -8.98713402e+11, -9.12111549e+11, -9.32003859e+11, -8.96076932e+11,\n",
       "       -9.03779334e+11, -9.51755940e+11, -8.45463816e+11, -8.97656425e+11,\n",
       "       -9.20905837e+11, -8.90628414e+11, -8.63212861e+11, -7.81745545e+11,\n",
       "       -9.06041076e+11, -9.49562066e+11, -9.13970463e+11, -9.03517800e+11,\n",
       "       -8.75385896e+11, -8.20563841e+11, -8.96248296e+11, -8.98769731e+11,\n",
       "       -9.09748664e+11, -8.60691056e+11, -9.21156263e+11, -8.81843532e+11,\n",
       "       -8.69045870e+11, -9.04091639e+11, -8.98443783e+11, -8.55788356e+11,\n",
       "       -8.83653554e+11, -9.64211081e+11, -9.48937904e+11, -9.10119076e+11,\n",
       "       -8.97445444e+11, -8.89796717e+11, -8.90728997e+11, -8.95551732e+11,\n",
       "       -8.79799044e+11, -9.84466468e+11, -8.85058639e+11, -9.06759247e+11,\n",
       "       -9.02569643e+11, -8.95388455e+11, -8.87440942e+11, -8.93229164e+11,\n",
       "       -8.75034637e+11, -9.44646848e+11, -8.30172535e+11, -8.89679260e+11,\n",
       "       -9.22273136e+11, -9.14179305e+11, -9.51247282e+11, -9.56189486e+11,\n",
       "       -8.56612466e+11, -8.61699980e+11, -8.85605183e+11, -8.91462563e+11,\n",
       "       -8.85699684e+11, -9.54047095e+11, -8.43131140e+11, -9.06248491e+11,\n",
       "       -9.28218213e+11, -8.38148134e+11, -8.60035454e+11, -8.94468726e+11,\n",
       "       -9.46308033e+11, -8.89210306e+11, -9.22607505e+11, -8.91306725e+11,\n",
       "       -9.66259896e+11, -9.14945916e+11, -9.57812470e+11, -9.32648964e+11,\n",
       "       -9.23342718e+11, -8.81848337e+11, -8.43273366e+11, -8.81963968e+11,\n",
       "       -9.23458267e+11, -9.09353972e+11, -9.28265641e+11, -8.98554390e+11,\n",
       "       -8.80671630e+11, -8.82022734e+11, -8.06836913e+11, -9.46573835e+11,\n",
       "       -8.78124482e+11, -8.70622785e+11, -9.35668120e+11, -9.39860265e+11,\n",
       "       -8.97879601e+11, -8.85207848e+11, -9.37214928e+11, -9.11956317e+11,\n",
       "       -9.08590169e+11, -9.17608378e+11, -8.82052056e+11, -8.42801832e+11,\n",
       "       -8.55602572e+11, -8.77476031e+11, -8.64004566e+11, -9.12074538e+11,\n",
       "       -8.65729171e+11, -8.54285441e+11, -8.40094828e+11, -8.93366724e+11,\n",
       "       -8.96396477e+11, -9.40623283e+11, -9.57052535e+11, -9.06153868e+11,\n",
       "       -8.74020727e+11, -8.99374154e+11, -8.70289342e+11, -8.53298182e+11,\n",
       "       -9.15267965e+11, -9.02746204e+11, -9.30770726e+11, -8.38670826e+11,\n",
       "       -9.33377488e+11, -9.06644265e+11, -9.41649356e+11, -9.81138129e+11,\n",
       "       -8.73787334e+11, -8.76053510e+11, -8.84959809e+11, -9.24147454e+11,\n",
       "       -8.64418074e+11, -8.65719584e+11, -9.63085676e+11, -8.96222997e+11,\n",
       "       -9.38555206e+11, -9.14223927e+11, -8.95694537e+11, -8.76939348e+11,\n",
       "       -9.11408423e+11, -9.10327377e+11, -8.76211905e+11, -8.24550772e+11,\n",
       "       -9.34206769e+11, -9.02993113e+11, -8.72729472e+11, -8.98856261e+11,\n",
       "       -9.30218198e+11, -8.39597022e+11, -8.55170829e+11, -9.21676230e+11,\n",
       "       -8.44854394e+11, -9.05026511e+11, -9.07447255e+11, -8.44105737e+11,\n",
       "       -8.98805730e+11, -9.32176129e+11, -9.47317102e+11, -9.30438386e+11,\n",
       "       -9.32760864e+11, -8.92986345e+11, -9.42350249e+11, -8.38590109e+11,\n",
       "       -9.37462696e+11, -8.80005672e+11, -9.11007857e+11, -8.71653381e+11,\n",
       "       -9.21009443e+11, -8.78783213e+11, -9.03210371e+11, -9.10566245e+11,\n",
       "       -8.31690903e+11, -8.41660292e+11, -9.82349227e+11, -9.22039979e+11,\n",
       "       -8.75924022e+11, -9.48608882e+11, -9.26739768e+11, -9.22241860e+11,\n",
       "       -9.13311685e+11, -8.69760867e+11, -9.38594495e+11, -9.31688978e+11,\n",
       "       -8.51803976e+11, -9.28875268e+11, -9.03230959e+11, -9.10088361e+11,\n",
       "       -9.37143483e+11, -9.34687527e+11, -8.76288888e+11, -8.99701099e+11,\n",
       "       -9.46055655e+11, -9.11231404e+11, -8.85713181e+11, -9.10687893e+11,\n",
       "       -8.68400086e+11, -9.06218469e+11, -8.76681356e+11, -8.99162046e+11,\n",
       "       -8.95102435e+11, -8.75364340e+11, -9.18083692e+11, -9.07363238e+11,\n",
       "       -8.36670416e+11, -9.00224087e+11, -8.75373606e+11, -8.41569609e+11,\n",
       "       -9.11515143e+11, -9.08256113e+11, -9.14846594e+11, -9.32019465e+11,\n",
       "       -8.99223547e+11, -9.57062284e+11, -9.17547705e+11, -8.44063117e+11,\n",
       "       -8.70832896e+11, -9.01885548e+11, -8.90629493e+11, -8.77602084e+11,\n",
       "       -8.74525343e+11, -9.15734709e+11, -9.35496408e+11, -9.27070430e+11,\n",
       "       -9.33269831e+11, -9.00073904e+11, -9.35515558e+11, -8.76919178e+11,\n",
       "       -8.72383934e+11, -9.05939008e+11, -9.37649747e+11, -8.96431494e+11,\n",
       "       -8.93181822e+11, -9.19516256e+11, -9.18936390e+11, -8.54381644e+11,\n",
       "       -8.73127888e+11, -8.65450246e+11, -9.30843399e+11, -8.05526689e+11,\n",
       "       -9.20545067e+11, -8.59373314e+11, -9.47751633e+11, -9.01168597e+11,\n",
       "       -8.80787738e+11, -8.95044158e+11, -7.81720342e+11, -8.68952811e+11,\n",
       "       -8.90849621e+11, -8.78837186e+11, -9.03395443e+11, -8.85486488e+11,\n",
       "       -9.27587765e+11, -8.89881113e+11, -9.02301340e+11, -8.87541178e+11,\n",
       "       -8.29654505e+11, -8.51359617e+11, -9.50630323e+11, -8.95431965e+11,\n",
       "       -8.88760326e+11, -9.15916838e+11, -8.85598920e+11, -9.39429512e+11,\n",
       "       -8.38647122e+11, -9.22797861e+11, -9.04550017e+11, -9.05224841e+11,\n",
       "       -9.31335375e+11, -9.30326043e+11, -8.90415571e+11, -9.30247326e+11,\n",
       "       -8.83217727e+11, -8.84859902e+11, -8.66090579e+11, -9.60082657e+11,\n",
       "       -9.37528767e+11, -8.55684891e+11, -8.77628746e+11, -9.52713234e+11,\n",
       "       -8.28529932e+11, -9.24623191e+11, -8.91664794e+11, -9.38141275e+11,\n",
       "       -8.77640865e+11, -9.00775386e+11, -8.99036444e+11, -8.84528392e+11,\n",
       "       -1.00881726e+12, -9.00293344e+11, -9.15893058e+11, -8.88599548e+11,\n",
       "       -8.47069136e+11, -9.44042347e+11, -9.30531375e+11, -9.07153691e+11,\n",
       "       -8.83071127e+11, -8.96390557e+11, -8.90374420e+11, -8.89466995e+11,\n",
       "       -9.19808821e+11, -9.02355100e+11, -8.42335098e+11, -8.59315611e+11,\n",
       "       -8.46380299e+11, -9.02706071e+11, -9.38359452e+11, -9.16847808e+11,\n",
       "       -8.71578063e+11, -8.91636410e+11, -9.42770952e+11, -8.73781096e+11,\n",
       "       -9.07583252e+11, -9.62654169e+11, -8.36365598e+11, -9.58907841e+11,\n",
       "       -9.61884135e+11, -8.72386523e+11, -8.70385915e+11, -9.24160442e+11,\n",
       "       -9.39788680e+11, -9.32354370e+11, -8.62035145e+11, -8.61985298e+11,\n",
       "       -9.33469393e+11, -8.87453013e+11, -9.31877377e+11, -9.38219052e+11,\n",
       "       -9.22108498e+11, -9.25967940e+11, -9.29714835e+11, -8.62433453e+11,\n",
       "       -8.46593989e+11, -8.94510384e+11, -9.00034697e+11, -9.34331980e+11,\n",
       "       -8.65327720e+11, -9.18804140e+11, -8.27970477e+11, -8.88617106e+11,\n",
       "       -9.01678350e+11, -8.55396013e+11, -9.61835151e+11, -9.16065420e+11,\n",
       "       -8.71170180e+11, -9.11710850e+11, -9.40639723e+11, -8.92824746e+11,\n",
       "       -8.44948702e+11, -8.54940115e+11, -9.16279728e+11, -9.59159177e+11,\n",
       "       -8.60613764e+11, -9.45626788e+11, -8.86314170e+11, -8.85566547e+11,\n",
       "       -8.23634765e+11, -9.12024446e+11, -8.94851347e+11, -8.66199876e+11,\n",
       "       -9.02819329e+11, -8.58924203e+11, -9.23960498e+11, -9.97564610e+11,\n",
       "       -9.56169638e+11, -9.33739631e+11, -9.37608158e+11, -8.58301555e+11,\n",
       "       -9.29981354e+11, -9.57354433e+11, -8.51000403e+11, -8.85477325e+11,\n",
       "       -9.43949284e+11, -8.73249279e+11, -9.28492071e+11, -8.30158999e+11,\n",
       "       -8.69538418e+11, -9.10091273e+11, -8.88190536e+11, -8.64661260e+11,\n",
       "       -9.07510337e+11, -8.95851616e+11, -8.73193304e+11, -8.73187274e+11,\n",
       "       -8.16961000e+11, -8.79473794e+11, -8.43671233e+11, -8.93188636e+11,\n",
       "       -9.04371167e+11, -8.82285518e+11, -8.45137515e+11, -8.65321009e+11,\n",
       "       -9.23943392e+11, -8.23560693e+11, -8.67730843e+11, -8.37163792e+11,\n",
       "       -9.65106200e+11, -8.50405592e+11, -9.21723446e+11, -9.24406311e+11,\n",
       "       -9.68310444e+11, -9.58755283e+11, -8.61280208e+11, -8.95564288e+11,\n",
       "       -8.58054712e+11, -9.29126383e+11, -9.37321662e+11, -8.90037698e+11,\n",
       "       -8.60416208e+11, -8.75536688e+11, -9.11627900e+11, -9.40351505e+11,\n",
       "       -8.86997090e+11, -8.83543577e+11, -9.41471115e+11, -8.80084160e+11,\n",
       "       -9.06711529e+11, -9.12088594e+11, -8.48039378e+11, -8.12207342e+11,\n",
       "       -9.12379256e+11, -8.45111297e+11, -9.41008612e+11, -9.04026797e+11,\n",
       "       -9.20629931e+11, -8.76845558e+11, -8.40335368e+11, -8.48310283e+11,\n",
       "       -9.34498615e+11, -8.52353796e+11, -9.67541532e+11, -9.09488870e+11,\n",
       "       -8.08533665e+11, -9.51724761e+11, -9.62907134e+11, -7.95668297e+11])"
      ]
     },
     "execution_count": 68,
     "metadata": {},
     "output_type": "execute_result"
    }
   ],
   "source": [
    "y_pred_gd"
   ]
  },
  {
   "cell_type": "code",
   "execution_count": 69,
   "metadata": {},
   "outputs": [
    {
     "data": {
      "text/html": [
       "<div>\n",
       "<style scoped>\n",
       "    .dataframe tbody tr th:only-of-type {\n",
       "        vertical-align: middle;\n",
       "    }\n",
       "\n",
       "    .dataframe tbody tr th {\n",
       "        vertical-align: top;\n",
       "    }\n",
       "\n",
       "    .dataframe thead th {\n",
       "        text-align: right;\n",
       "    }\n",
       "</style>\n",
       "<table border=\"1\" class=\"dataframe\">\n",
       "  <thead>\n",
       "    <tr style=\"text-align: right;\">\n",
       "      <th></th>\n",
       "      <th>Height</th>\n",
       "      <th>Weight</th>\n",
       "    </tr>\n",
       "  </thead>\n",
       "  <tbody>\n",
       "    <tr>\n",
       "      <th>0</th>\n",
       "      <td>73.847017</td>\n",
       "      <td>241.893563</td>\n",
       "    </tr>\n",
       "    <tr>\n",
       "      <th>1</th>\n",
       "      <td>68.781904</td>\n",
       "      <td>162.310473</td>\n",
       "    </tr>\n",
       "    <tr>\n",
       "      <th>2</th>\n",
       "      <td>74.110105</td>\n",
       "      <td>212.740856</td>\n",
       "    </tr>\n",
       "    <tr>\n",
       "      <th>3</th>\n",
       "      <td>71.730978</td>\n",
       "      <td>220.042470</td>\n",
       "    </tr>\n",
       "    <tr>\n",
       "      <th>4</th>\n",
       "      <td>69.881796</td>\n",
       "      <td>206.349801</td>\n",
       "    </tr>\n",
       "  </tbody>\n",
       "</table>\n",
       "</div>"
      ],
      "text/plain": [
       "      Height      Weight\n",
       "0  73.847017  241.893563\n",
       "1  68.781904  162.310473\n",
       "2  74.110105  212.740856\n",
       "3  71.730978  220.042470\n",
       "4  69.881796  206.349801"
      ]
     },
     "execution_count": 69,
     "metadata": {},
     "output_type": "execute_result"
    }
   ],
   "source": [
    "df.head()"
   ]
  },
  {
   "cell_type": "code",
   "execution_count": 74,
   "metadata": {},
   "outputs": [
    {
     "data": {
      "text/plain": [
       "array([[ 1.68373851,  2.77427845],\n",
       "       [-0.08537736, -1.24930117],\n",
       "       [ 1.77562862,  1.30036937],\n",
       "       ...,\n",
       "       [-0.70293315,  0.61553521],\n",
       "       [ 0.88414443, -0.05635782],\n",
       "       [ 0.4629755 ,  0.60075258]])"
      ]
     },
     "execution_count": 74,
     "metadata": {},
     "output_type": "execute_result"
    }
   ],
   "source": [
    "from sklearn.preprocessing import StandardScaler\n",
    "\n",
    "scaler = StandardScaler()\n",
    "\n",
    "df_scaled = scaler.fit_transform(df)\n",
    "\n",
    "df_scaled"
   ]
  },
  {
   "cell_type": "code",
   "execution_count": null,
   "metadata": {},
   "outputs": [],
   "source": []
  }
 ],
 "metadata": {
  "kernelspec": {
   "display_name": "Python 3",
   "language": "python",
   "name": "python3"
  },
  "language_info": {
   "codemirror_mode": {
    "name": "ipython",
    "version": 3
   },
   "file_extension": ".py",
   "mimetype": "text/x-python",
   "name": "python",
   "nbconvert_exporter": "python",
   "pygments_lexer": "ipython3",
   "version": "3.7.1"
  }
 },
 "nbformat": 4,
 "nbformat_minor": 2
}
