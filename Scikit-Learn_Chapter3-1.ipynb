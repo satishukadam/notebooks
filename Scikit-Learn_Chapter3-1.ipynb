{
 "cells": [
  {
   "cell_type": "markdown",
   "metadata": {},
   "source": [
    "<h1> Data Transformations </h1>"
   ]
  },
  {
   "cell_type": "code",
   "execution_count": 1,
   "metadata": {},
   "outputs": [],
   "source": [
    "# import the modules\n",
    "\n",
    "import numpy as np\n",
    "import pandas as pd\n",
    "import matplotlib.pyplot as plt\n",
    "%matplotlib inline\n",
    "\n",
    "# ignore warnings\n",
    "from warnings import filterwarnings\n",
    "filterwarnings('ignore')"
   ]
  },
  {
   "cell_type": "code",
   "execution_count": 6,
   "metadata": {},
   "outputs": [],
   "source": [
    "# import cancer dataset\n",
    "\n",
    "from sklearn.datasets import load_breast_cancer\n",
    "\n",
    "cancer = load_breast_cancer()\n",
    "\n",
    "# split the dataset into training and testing datasets\n",
    "\n",
    "from sklearn.model_selection import train_test_split\n",
    "\n",
    "X_train, X_test, y_train, y_test = train_test_split(cancer.data, cancer.target, test_size = 0.3, random_state = 0)"
   ]
  },
  {
   "cell_type": "code",
   "execution_count": 10,
   "metadata": {},
   "outputs": [],
   "source": [
    "# apply min max scaler\n",
    "\n",
    "from sklearn.preprocessing import MinMaxScaler\n",
    "\n",
    "scaler_minmax = MinMaxScaler()\n",
    "\n",
    "X_train_scaled_minmax = scaler_minmax.fit_transform(X_train)"
   ]
  },
  {
   "cell_type": "code",
   "execution_count": 14,
   "metadata": {},
   "outputs": [],
   "source": [
    "# apply standard scaler\n",
    "\n",
    "from sklearn.preprocessing import StandardScaler\n",
    "\n",
    "scaler_std = StandardScaler()\n",
    "\n",
    "X_train_scaled_std = scaler_std.fit_transform(X_train)"
   ]
  },
  {
   "cell_type": "code",
   "execution_count": 19,
   "metadata": {},
   "outputs": [
    {
     "name": "stdout",
     "output_type": "stream",
     "text": [
      "Testing Score: 0.632\n"
     ]
    }
   ],
   "source": [
    "# apply support vector on unscaled data\n",
    "\n",
    "from sklearn.svm import SVC\n",
    "\n",
    "svm = SVC(C=100)\n",
    "\n",
    "svm.fit(X_train, y_train)\n",
    "\n",
    "# print score\n",
    "\n",
    "print('Testing Score: {:0.3f}'.format(svm.score(X_test, y_test)))\n"
   ]
  },
  {
   "cell_type": "code",
   "execution_count": 21,
   "metadata": {},
   "outputs": [
    {
     "name": "stdout",
     "output_type": "stream",
     "text": [
      "Testing Score: 0.982\n"
     ]
    }
   ],
   "source": [
    "# apply support vector on min max scaled data\n",
    "\n",
    "# scale test data\n",
    "\n",
    "X_test_scaled_minmax = scaler_minmax.transform(X_test)\n",
    "\n",
    "svm = SVC(C=100)\n",
    "\n",
    "svm.fit(X_train_scaled_minmax, y_train)\n",
    "\n",
    "# print score\n",
    "\n",
    "print('Testing Score: {:0.3f}'.format(svm.score(X_test_scaled_minmax, y_test)))"
   ]
  },
  {
   "cell_type": "code",
   "execution_count": 22,
   "metadata": {},
   "outputs": [
    {
     "name": "stdout",
     "output_type": "stream",
     "text": [
      "Testing Score: 0.971\n"
     ]
    }
   ],
   "source": [
    "# apply support vector on standard scaled data\n",
    "\n",
    "# scale test data\n",
    "\n",
    "X_test_scaled_std = scaler_std.transform(X_test)\n",
    "\n",
    "svm = SVC(C=100)\n",
    "\n",
    "svm.fit(X_train_scaled_std, y_train)\n",
    "\n",
    "# print score\n",
    "\n",
    "print('Testing Score: {:0.3f}'.format(svm.score(X_test_scaled_std, y_test)))"
   ]
  },
  {
   "cell_type": "code",
   "execution_count": null,
   "metadata": {},
   "outputs": [],
   "source": []
  }
 ],
 "metadata": {
  "kernelspec": {
   "display_name": "Python 3",
   "language": "python",
   "name": "python3"
  },
  "language_info": {
   "codemirror_mode": {
    "name": "ipython",
    "version": 3
   },
   "file_extension": ".py",
   "mimetype": "text/x-python",
   "name": "python",
   "nbconvert_exporter": "python",
   "pygments_lexer": "ipython3",
   "version": "3.7.1"
  }
 },
 "nbformat": 4,
 "nbformat_minor": 2
}
